{
 "cells": [
  {
   "cell_type": "markdown",
   "id": "a5d911e3",
   "metadata": {},
   "source": [
    "### load libraries"
   ]
  },
  {
   "cell_type": "code",
   "execution_count": 176,
   "id": "26041865",
   "metadata": {},
   "outputs": [],
   "source": [
    "import numpy as np\n",
    "import pandas as pd\n",
    "import missingno as msno\n",
    "import matplotlib.pyplot as plt\n",
    "\n",
    "import requests\n",
    "import json"
   ]
  },
  {
   "cell_type": "markdown",
   "id": "693cde61",
   "metadata": {},
   "source": [
    "### get the Taste Profile subset from the Million Song Dataset (MSD) online\n",
    "\n",
    "Source: http://millionsongdataset.com/tasteprofile/\n",
    "\n",
    "(scroll down and use the link for TRIPLETS FOR 1M USERS)\n",
    "\n",
    "Note: you used to be able to get this data via the Echo Nest API, however that no longer works since they got acquired by Spotify...."
   ]
  },
  {
   "cell_type": "markdown",
   "id": "b8720c98",
   "metadata": {},
   "source": [
    "### unzip the downloaded .txt file into THIS directory so we can load it with PANDAS"
   ]
  },
  {
   "cell_type": "code",
   "execution_count": 3,
   "id": "04501bb2",
   "metadata": {},
   "outputs": [
    {
     "data": {
      "text/html": [
       "<div>\n",
       "<style scoped>\n",
       "    .dataframe tbody tr th:only-of-type {\n",
       "        vertical-align: middle;\n",
       "    }\n",
       "\n",
       "    .dataframe tbody tr th {\n",
       "        vertical-align: top;\n",
       "    }\n",
       "\n",
       "    .dataframe thead th {\n",
       "        text-align: right;\n",
       "    }\n",
       "</style>\n",
       "<table border=\"1\" class=\"dataframe\">\n",
       "  <thead>\n",
       "    <tr style=\"text-align: right;\">\n",
       "      <th></th>\n",
       "      <th>userID</th>\n",
       "      <th>songID</th>\n",
       "      <th>playcount</th>\n",
       "    </tr>\n",
       "  </thead>\n",
       "  <tbody>\n",
       "    <tr>\n",
       "      <th>0</th>\n",
       "      <td>b80344d063b5ccb3212f76538f3d9e43d87dca9e</td>\n",
       "      <td>SOAKIMP12A8C130995</td>\n",
       "      <td>1</td>\n",
       "    </tr>\n",
       "    <tr>\n",
       "      <th>1</th>\n",
       "      <td>b80344d063b5ccb3212f76538f3d9e43d87dca9e</td>\n",
       "      <td>SOAPDEY12A81C210A9</td>\n",
       "      <td>1</td>\n",
       "    </tr>\n",
       "    <tr>\n",
       "      <th>2</th>\n",
       "      <td>b80344d063b5ccb3212f76538f3d9e43d87dca9e</td>\n",
       "      <td>SOBBMDR12A8C13253B</td>\n",
       "      <td>2</td>\n",
       "    </tr>\n",
       "    <tr>\n",
       "      <th>3</th>\n",
       "      <td>b80344d063b5ccb3212f76538f3d9e43d87dca9e</td>\n",
       "      <td>SOBFNSP12AF72A0E22</td>\n",
       "      <td>1</td>\n",
       "    </tr>\n",
       "    <tr>\n",
       "      <th>4</th>\n",
       "      <td>b80344d063b5ccb3212f76538f3d9e43d87dca9e</td>\n",
       "      <td>SOBFOVM12A58A7D494</td>\n",
       "      <td>1</td>\n",
       "    </tr>\n",
       "  </tbody>\n",
       "</table>\n",
       "</div>"
      ],
      "text/plain": [
       "                                     userID              songID  playcount\n",
       "0  b80344d063b5ccb3212f76538f3d9e43d87dca9e  SOAKIMP12A8C130995          1\n",
       "1  b80344d063b5ccb3212f76538f3d9e43d87dca9e  SOAPDEY12A81C210A9          1\n",
       "2  b80344d063b5ccb3212f76538f3d9e43d87dca9e  SOBBMDR12A8C13253B          2\n",
       "3  b80344d063b5ccb3212f76538f3d9e43d87dca9e  SOBFNSP12AF72A0E22          1\n",
       "4  b80344d063b5ccb3212f76538f3d9e43d87dca9e  SOBFOVM12A58A7D494          1"
      ]
     },
     "execution_count": 3,
     "metadata": {},
     "output_type": "execute_result"
    }
   ],
   "source": [
    "taste_df = pd.read_csv('train_triplets.txt', sep='\\t', header=None, names=['userID', 'songID', 'playcount'])\n",
    "taste_df.head()"
   ]
  },
  {
   "cell_type": "code",
   "execution_count": 4,
   "id": "ad0516b1",
   "metadata": {},
   "outputs": [
    {
     "name": "stdout",
     "output_type": "stream",
     "text": [
      "48373586 rows\n",
      "384546 unique songs\n"
     ]
    }
   ],
   "source": [
    "print(len(taste_df), 'rows') #sanity check #rows, should be 48,373,586 according to the website\n",
    "print(len(taste_df['songID'].unique()), 'unique songs') #should be 384,546"
   ]
  },
  {
   "cell_type": "markdown",
   "id": "94bf9b2f",
   "metadata": {},
   "source": [
    "### let's get the song title and artist name for each song ID\n",
    "\n",
    "Source: http://millionsongdataset.com/pages/getting-dataset/ (scroll down to Additional Files, #1: List of all track Echo Nest ID)\n",
    "\n",
    "Save this .txt file in the current directory as well"
   ]
  },
  {
   "cell_type": "code",
   "execution_count": 5,
   "id": "5d4f5aee",
   "metadata": {},
   "outputs": [
    {
     "name": "stderr",
     "output_type": "stream",
     "text": [
      "C:\\Users\\sophi\\AppData\\Local\\Temp\\ipykernel_5360\\4145821792.py:1: ParserWarning: Falling back to the 'python' engine because the 'c' engine does not support regex separators (separators > 1 char and different from '\\s+' are interpreted as regex); you can avoid this warning by specifying engine='python'.\n",
      "  tracks_df = pd.read_csv('unique_tracks.txt', sep='<SEP>', header=None, names=['trackID', 'songID', 'artist', 'title'])\n"
     ]
    },
    {
     "data": {
      "text/html": [
       "<div>\n",
       "<style scoped>\n",
       "    .dataframe tbody tr th:only-of-type {\n",
       "        vertical-align: middle;\n",
       "    }\n",
       "\n",
       "    .dataframe tbody tr th {\n",
       "        vertical-align: top;\n",
       "    }\n",
       "\n",
       "    .dataframe thead th {\n",
       "        text-align: right;\n",
       "    }\n",
       "</style>\n",
       "<table border=\"1\" class=\"dataframe\">\n",
       "  <thead>\n",
       "    <tr style=\"text-align: right;\">\n",
       "      <th></th>\n",
       "      <th>trackID</th>\n",
       "      <th>songID</th>\n",
       "      <th>artist</th>\n",
       "      <th>title</th>\n",
       "    </tr>\n",
       "  </thead>\n",
       "  <tbody>\n",
       "    <tr>\n",
       "      <th>0</th>\n",
       "      <td>TRMMMYQ128F932D901</td>\n",
       "      <td>SOQMMHC12AB0180CB8</td>\n",
       "      <td>Faster Pussy cat</td>\n",
       "      <td>Silent Night</td>\n",
       "    </tr>\n",
       "    <tr>\n",
       "      <th>1</th>\n",
       "      <td>TRMMMKD128F425225D</td>\n",
       "      <td>SOVFVAK12A8C1350D9</td>\n",
       "      <td>Karkkiautomaatti</td>\n",
       "      <td>Tanssi vaan</td>\n",
       "    </tr>\n",
       "    <tr>\n",
       "      <th>2</th>\n",
       "      <td>TRMMMRX128F93187D9</td>\n",
       "      <td>SOGTUKN12AB017F4F1</td>\n",
       "      <td>Hudson Mohawke</td>\n",
       "      <td>No One Could Ever</td>\n",
       "    </tr>\n",
       "    <tr>\n",
       "      <th>3</th>\n",
       "      <td>TRMMMCH128F425532C</td>\n",
       "      <td>SOBNYVR12A8C13558C</td>\n",
       "      <td>Yerba Brava</td>\n",
       "      <td>Si Vos Querés</td>\n",
       "    </tr>\n",
       "    <tr>\n",
       "      <th>4</th>\n",
       "      <td>TRMMMWA128F426B589</td>\n",
       "      <td>SOHSBXH12A8C13B0DF</td>\n",
       "      <td>Der Mystic</td>\n",
       "      <td>Tangle Of Aspens</td>\n",
       "    </tr>\n",
       "  </tbody>\n",
       "</table>\n",
       "</div>"
      ],
      "text/plain": [
       "              trackID              songID            artist              title\n",
       "0  TRMMMYQ128F932D901  SOQMMHC12AB0180CB8  Faster Pussy cat       Silent Night\n",
       "1  TRMMMKD128F425225D  SOVFVAK12A8C1350D9  Karkkiautomaatti        Tanssi vaan\n",
       "2  TRMMMRX128F93187D9  SOGTUKN12AB017F4F1    Hudson Mohawke  No One Could Ever\n",
       "3  TRMMMCH128F425532C  SOBNYVR12A8C13558C       Yerba Brava      Si Vos Querés\n",
       "4  TRMMMWA128F426B589  SOHSBXH12A8C13B0DF        Der Mystic   Tangle Of Aspens"
      ]
     },
     "execution_count": 5,
     "metadata": {},
     "output_type": "execute_result"
    }
   ],
   "source": [
    "tracks_df = pd.read_csv('unique_tracks.txt', sep='<SEP>', header=None, names=['trackID', 'songID', 'artist', 'title'])\n",
    "tracks_df.head()"
   ]
  },
  {
   "cell_type": "code",
   "execution_count": 6,
   "id": "9c228717",
   "metadata": {},
   "outputs": [
    {
     "name": "stdout",
     "output_type": "stream",
     "text": [
      "1000000 rows\n"
     ]
    }
   ],
   "source": [
    "print(len(tracks_df), 'rows') #should be 1 mill"
   ]
  },
  {
   "cell_type": "markdown",
   "id": "8adfa806",
   "metadata": {},
   "source": [
    "Note: the way this data is structured, a \"track\" is the unique instance/recording of a song. Thus one \"song\" can have multiple tracks (recordings) associated with it. For the purposes of this analysis, we only want to keep the unique SONGS.\n",
    "\n",
    "Find and remove duplicate songs:"
   ]
  },
  {
   "cell_type": "code",
   "execution_count": 8,
   "id": "98fd7293",
   "metadata": {},
   "outputs": [
    {
     "data": {
      "text/html": [
       "<div>\n",
       "<style scoped>\n",
       "    .dataframe tbody tr th:only-of-type {\n",
       "        vertical-align: middle;\n",
       "    }\n",
       "\n",
       "    .dataframe tbody tr th {\n",
       "        vertical-align: top;\n",
       "    }\n",
       "\n",
       "    .dataframe thead th {\n",
       "        text-align: right;\n",
       "    }\n",
       "</style>\n",
       "<table border=\"1\" class=\"dataframe\">\n",
       "  <thead>\n",
       "    <tr style=\"text-align: right;\">\n",
       "      <th></th>\n",
       "      <th>trackID</th>\n",
       "      <th>songID</th>\n",
       "      <th>artist</th>\n",
       "      <th>title</th>\n",
       "    </tr>\n",
       "  </thead>\n",
       "  <tbody>\n",
       "    <tr>\n",
       "      <th>0</th>\n",
       "      <td>TRMMMYQ128F932D901</td>\n",
       "      <td>SOQMMHC12AB0180CB8</td>\n",
       "      <td>Faster Pussy cat</td>\n",
       "      <td>Silent Night</td>\n",
       "    </tr>\n",
       "    <tr>\n",
       "      <th>1</th>\n",
       "      <td>TRMMMKD128F425225D</td>\n",
       "      <td>SOVFVAK12A8C1350D9</td>\n",
       "      <td>Karkkiautomaatti</td>\n",
       "      <td>Tanssi vaan</td>\n",
       "    </tr>\n",
       "    <tr>\n",
       "      <th>2</th>\n",
       "      <td>TRMMMRX128F93187D9</td>\n",
       "      <td>SOGTUKN12AB017F4F1</td>\n",
       "      <td>Hudson Mohawke</td>\n",
       "      <td>No One Could Ever</td>\n",
       "    </tr>\n",
       "    <tr>\n",
       "      <th>3</th>\n",
       "      <td>TRMMMCH128F425532C</td>\n",
       "      <td>SOBNYVR12A8C13558C</td>\n",
       "      <td>Yerba Brava</td>\n",
       "      <td>Si Vos Querés</td>\n",
       "    </tr>\n",
       "    <tr>\n",
       "      <th>4</th>\n",
       "      <td>TRMMMWA128F426B589</td>\n",
       "      <td>SOHSBXH12A8C13B0DF</td>\n",
       "      <td>Der Mystic</td>\n",
       "      <td>Tangle Of Aspens</td>\n",
       "    </tr>\n",
       "  </tbody>\n",
       "</table>\n",
       "</div>"
      ],
      "text/plain": [
       "              trackID              songID            artist              title\n",
       "0  TRMMMYQ128F932D901  SOQMMHC12AB0180CB8  Faster Pussy cat       Silent Night\n",
       "1  TRMMMKD128F425225D  SOVFVAK12A8C1350D9  Karkkiautomaatti        Tanssi vaan\n",
       "2  TRMMMRX128F93187D9  SOGTUKN12AB017F4F1    Hudson Mohawke  No One Could Ever\n",
       "3  TRMMMCH128F425532C  SOBNYVR12A8C13558C       Yerba Brava      Si Vos Querés\n",
       "4  TRMMMWA128F426B589  SOHSBXH12A8C13B0DF        Der Mystic   Tangle Of Aspens"
      ]
     },
     "execution_count": 8,
     "metadata": {},
     "output_type": "execute_result"
    }
   ],
   "source": [
    "unique_songs_df = tracks_df[np.logical_not(tracks_df.duplicated(subset=['songID'], keep='first'))]\n",
    "unique_songs_df.reset_index(inplace=True, drop=True)\n",
    "unique_songs_df.head()"
   ]
  },
  {
   "cell_type": "code",
   "execution_count": 9,
   "id": "c44abb6d",
   "metadata": {},
   "outputs": [
    {
     "data": {
      "text/plain": [
       "0"
      ]
     },
     "execution_count": 9,
     "metadata": {},
     "output_type": "execute_result"
    }
   ],
   "source": [
    "unique_songs_df.duplicated(subset=['songID']).sum() #check that this worked"
   ]
  },
  {
   "cell_type": "markdown",
   "id": "7b3a47d0",
   "metadata": {},
   "source": [
    "### merge dataframes\n",
    "\n",
    "Add the trackID, artist, and title for each entry in the taste dataframe"
   ]
  },
  {
   "cell_type": "code",
   "execution_count": 10,
   "id": "9deaaf48",
   "metadata": {},
   "outputs": [
    {
     "data": {
      "text/html": [
       "<div>\n",
       "<style scoped>\n",
       "    .dataframe tbody tr th:only-of-type {\n",
       "        vertical-align: middle;\n",
       "    }\n",
       "\n",
       "    .dataframe tbody tr th {\n",
       "        vertical-align: top;\n",
       "    }\n",
       "\n",
       "    .dataframe thead th {\n",
       "        text-align: right;\n",
       "    }\n",
       "</style>\n",
       "<table border=\"1\" class=\"dataframe\">\n",
       "  <thead>\n",
       "    <tr style=\"text-align: right;\">\n",
       "      <th></th>\n",
       "      <th>userID</th>\n",
       "      <th>songID</th>\n",
       "      <th>playcount</th>\n",
       "      <th>trackID</th>\n",
       "      <th>artist</th>\n",
       "      <th>title</th>\n",
       "    </tr>\n",
       "  </thead>\n",
       "  <tbody>\n",
       "    <tr>\n",
       "      <th>0</th>\n",
       "      <td>b80344d063b5ccb3212f76538f3d9e43d87dca9e</td>\n",
       "      <td>SOAKIMP12A8C130995</td>\n",
       "      <td>1</td>\n",
       "      <td>TRIQAUQ128F42435AD</td>\n",
       "      <td>Jack Johnson</td>\n",
       "      <td>The Cove</td>\n",
       "    </tr>\n",
       "    <tr>\n",
       "      <th>1</th>\n",
       "      <td>b80344d063b5ccb3212f76538f3d9e43d87dca9e</td>\n",
       "      <td>SOAPDEY12A81C210A9</td>\n",
       "      <td>1</td>\n",
       "      <td>TRIRLYL128F42539D1</td>\n",
       "      <td>Billy Preston</td>\n",
       "      <td>Nothing from Nothing</td>\n",
       "    </tr>\n",
       "    <tr>\n",
       "      <th>2</th>\n",
       "      <td>b80344d063b5ccb3212f76538f3d9e43d87dca9e</td>\n",
       "      <td>SOBBMDR12A8C13253B</td>\n",
       "      <td>2</td>\n",
       "      <td>TRMHBXZ128F4238406</td>\n",
       "      <td>Paco De Lucia</td>\n",
       "      <td>Entre Dos Aguas</td>\n",
       "    </tr>\n",
       "    <tr>\n",
       "      <th>3</th>\n",
       "      <td>b80344d063b5ccb3212f76538f3d9e43d87dca9e</td>\n",
       "      <td>SOBFNSP12AF72A0E22</td>\n",
       "      <td>1</td>\n",
       "      <td>TRYQMNI128F147C1C7</td>\n",
       "      <td>Josh Rouse</td>\n",
       "      <td>Under Cold Blue Stars</td>\n",
       "    </tr>\n",
       "    <tr>\n",
       "      <th>4</th>\n",
       "      <td>b80344d063b5ccb3212f76538f3d9e43d87dca9e</td>\n",
       "      <td>SOBFOVM12A58A7D494</td>\n",
       "      <td>1</td>\n",
       "      <td>TRAHZNE128F9341B86</td>\n",
       "      <td>The Dead 60s</td>\n",
       "      <td>Riot Radio (Soundtrack Version)</td>\n",
       "    </tr>\n",
       "  </tbody>\n",
       "</table>\n",
       "</div>"
      ],
      "text/plain": [
       "                                     userID              songID  playcount  \\\n",
       "0  b80344d063b5ccb3212f76538f3d9e43d87dca9e  SOAKIMP12A8C130995          1   \n",
       "1  b80344d063b5ccb3212f76538f3d9e43d87dca9e  SOAPDEY12A81C210A9          1   \n",
       "2  b80344d063b5ccb3212f76538f3d9e43d87dca9e  SOBBMDR12A8C13253B          2   \n",
       "3  b80344d063b5ccb3212f76538f3d9e43d87dca9e  SOBFNSP12AF72A0E22          1   \n",
       "4  b80344d063b5ccb3212f76538f3d9e43d87dca9e  SOBFOVM12A58A7D494          1   \n",
       "\n",
       "              trackID         artist                            title  \n",
       "0  TRIQAUQ128F42435AD   Jack Johnson                         The Cove  \n",
       "1  TRIRLYL128F42539D1  Billy Preston             Nothing from Nothing  \n",
       "2  TRMHBXZ128F4238406  Paco De Lucia                  Entre Dos Aguas  \n",
       "3  TRYQMNI128F147C1C7     Josh Rouse            Under Cold Blue Stars  \n",
       "4  TRAHZNE128F9341B86   The Dead 60s  Riot Radio (Soundtrack Version)  "
      ]
     },
     "execution_count": 10,
     "metadata": {},
     "output_type": "execute_result"
    }
   ],
   "source": [
    "taste_df_merged = taste_df.merge(unique_songs_df, how='left', on='songID')\n",
    "taste_df_merged.head()"
   ]
  },
  {
   "cell_type": "code",
   "execution_count": 11,
   "id": "7e407cc2",
   "metadata": {},
   "outputs": [
    {
     "name": "stdout",
     "output_type": "stream",
     "text": [
      "48373586 rows\n",
      "384546 unique songs\n",
      "384546 unique tracks\n"
     ]
    }
   ],
   "source": [
    "#sanity check: the dimensions of merged dataframe should be the same as the original taste dataframe\n",
    "print(len(taste_df_merged), 'rows')\n",
    "print(len(taste_df_merged['songID'].unique()), 'unique songs')\n",
    "print(len(taste_df_merged['trackID'].unique()), 'unique tracks')"
   ]
  },
  {
   "cell_type": "markdown",
   "id": "58e9b543",
   "metadata": {},
   "source": [
    "### check for missing values?"
   ]
  },
  {
   "cell_type": "code",
   "execution_count": 12,
   "id": "1eb98c96",
   "metadata": {},
   "outputs": [
    {
     "data": {
      "text/plain": [
       "True"
      ]
     },
     "execution_count": 12,
     "metadata": {},
     "output_type": "execute_result"
    }
   ],
   "source": [
    "taste_df_merged.isna().values.any() #do we have any missing values?"
   ]
  },
  {
   "cell_type": "code",
   "execution_count": 13,
   "id": "a8202ae6",
   "metadata": {},
   "outputs": [
    {
     "name": "stdout",
     "output_type": "stream",
     "text": [
      "NAs in col  0 ?:  False\n",
      "NAs in col  1 ?:  False\n",
      "NAs in col  2 ?:  False\n",
      "NAs in col  3 ?:  False\n",
      "NAs in col  4 ?:  False\n",
      "NAs in col  5 ?:  True\n"
     ]
    }
   ],
   "source": [
    "#where? which column?\n",
    "for i in range(0,6):\n",
    "    print('NAs in col ', i, '?: ', taste_df_merged.iloc[:,i].isna().values.any())"
   ]
  },
  {
   "cell_type": "code",
   "execution_count": 14,
   "id": "0e67ca40",
   "metadata": {},
   "outputs": [
    {
     "data": {
      "text/plain": [
       "Text(0.5, 1.0, 'Visualize missing data from MSD')"
      ]
     },
     "execution_count": 14,
     "metadata": {},
     "output_type": "execute_result"
    },
    {
     "data": {
      "image/png": "[encoded data removed]",
      "text/plain": [
       "<Figure size 2500x1000 with 3 Axes>"
      ]
     },
     "metadata": {},
     "output_type": "display_data"
    }
   ],
   "source": [
    "#lets visualize this\n",
    "plot = msno.bar(taste_df_merged, label_rotation=0)\n",
    "plot.set_xlabel('dataframe columns', fontsize=28)\n",
    "plot.set_title('Visualize missing data from MSD', fontsize=32)"
   ]
  },
  {
   "cell_type": "markdown",
   "id": "0cb1b945",
   "metadata": {},
   "source": [
    "what songs/tracks/artists are affected?"
   ]
  },
  {
   "cell_type": "code",
   "execution_count": 15,
   "id": "713f88c7",
   "metadata": {},
   "outputs": [
    {
     "data": {
      "text/plain": [
       "array(['SOZDBDL12AB018AFFF', 'SOLDTFD12AB018AFE6', 'SOFDILP12AC960A4EF',\n",
       "       'SOECGBQ12AB018D582'], dtype=object)"
      ]
     },
     "execution_count": 15,
     "metadata": {},
     "output_type": "execute_result"
    }
   ],
   "source": [
    "taste_df_merged['songID'][taste_df_merged.iloc[:,5].isna()].unique()"
   ]
  },
  {
   "cell_type": "code",
   "execution_count": 16,
   "id": "5ea88bbd",
   "metadata": {},
   "outputs": [
    {
     "data": {
      "text/plain": [
       "array(['TROFVVS12903CDCA87', 'TRBXMXG12903CDCA7F', 'TRJOMUD12903CED473',\n",
       "       'TRLKLLK12903CDCAA2'], dtype=object)"
      ]
     },
     "execution_count": 16,
     "metadata": {},
     "output_type": "execute_result"
    }
   ],
   "source": [
    "taste_df_merged['trackID'][taste_df_merged.iloc[:,5].isna()].unique()"
   ]
  },
  {
   "cell_type": "code",
   "execution_count": 17,
   "id": "07d1c999",
   "metadata": {},
   "outputs": [
    {
     "data": {
      "text/plain": [
       "array(['Sébastien Roch', 'Fobia'], dtype=object)"
      ]
     },
     "execution_count": 17,
     "metadata": {},
     "output_type": "execute_result"
    }
   ],
   "source": [
    "taste_df_merged['artist'][taste_df_merged.iloc[:,5].isna()].unique()"
   ]
  },
  {
   "cell_type": "markdown",
   "id": "3aeab695",
   "metadata": {},
   "source": [
    "seems like the problem stems from 4 songs / 2 artists. since this is an extremely small amount of data compared to what we have (65 rows vs. 48+ mill) let's remove these rows from the dataset so that what we have left is all equivalent amounts of information."
   ]
  },
  {
   "cell_type": "code",
   "execution_count": 19,
   "id": "482cf98c",
   "metadata": {},
   "outputs": [
    {
     "data": {
      "text/html": [
       "<div>\n",
       "<style scoped>\n",
       "    .dataframe tbody tr th:only-of-type {\n",
       "        vertical-align: middle;\n",
       "    }\n",
       "\n",
       "    .dataframe tbody tr th {\n",
       "        vertical-align: top;\n",
       "    }\n",
       "\n",
       "    .dataframe thead th {\n",
       "        text-align: right;\n",
       "    }\n",
       "</style>\n",
       "<table border=\"1\" class=\"dataframe\">\n",
       "  <thead>\n",
       "    <tr style=\"text-align: right;\">\n",
       "      <th></th>\n",
       "      <th>userID</th>\n",
       "      <th>songID</th>\n",
       "      <th>playcount</th>\n",
       "      <th>trackID</th>\n",
       "      <th>artist</th>\n",
       "      <th>title</th>\n",
       "    </tr>\n",
       "  </thead>\n",
       "  <tbody>\n",
       "    <tr>\n",
       "      <th>0</th>\n",
       "      <td>b80344d063b5ccb3212f76538f3d9e43d87dca9e</td>\n",
       "      <td>SOAKIMP12A8C130995</td>\n",
       "      <td>1</td>\n",
       "      <td>TRIQAUQ128F42435AD</td>\n",
       "      <td>Jack Johnson</td>\n",
       "      <td>The Cove</td>\n",
       "    </tr>\n",
       "    <tr>\n",
       "      <th>1</th>\n",
       "      <td>b80344d063b5ccb3212f76538f3d9e43d87dca9e</td>\n",
       "      <td>SOAPDEY12A81C210A9</td>\n",
       "      <td>1</td>\n",
       "      <td>TRIRLYL128F42539D1</td>\n",
       "      <td>Billy Preston</td>\n",
       "      <td>Nothing from Nothing</td>\n",
       "    </tr>\n",
       "    <tr>\n",
       "      <th>2</th>\n",
       "      <td>b80344d063b5ccb3212f76538f3d9e43d87dca9e</td>\n",
       "      <td>SOBBMDR12A8C13253B</td>\n",
       "      <td>2</td>\n",
       "      <td>TRMHBXZ128F4238406</td>\n",
       "      <td>Paco De Lucia</td>\n",
       "      <td>Entre Dos Aguas</td>\n",
       "    </tr>\n",
       "    <tr>\n",
       "      <th>3</th>\n",
       "      <td>b80344d063b5ccb3212f76538f3d9e43d87dca9e</td>\n",
       "      <td>SOBFNSP12AF72A0E22</td>\n",
       "      <td>1</td>\n",
       "      <td>TRYQMNI128F147C1C7</td>\n",
       "      <td>Josh Rouse</td>\n",
       "      <td>Under Cold Blue Stars</td>\n",
       "    </tr>\n",
       "    <tr>\n",
       "      <th>4</th>\n",
       "      <td>b80344d063b5ccb3212f76538f3d9e43d87dca9e</td>\n",
       "      <td>SOBFOVM12A58A7D494</td>\n",
       "      <td>1</td>\n",
       "      <td>TRAHZNE128F9341B86</td>\n",
       "      <td>The Dead 60s</td>\n",
       "      <td>Riot Radio (Soundtrack Version)</td>\n",
       "    </tr>\n",
       "    <tr>\n",
       "      <th>...</th>\n",
       "      <td>...</td>\n",
       "      <td>...</td>\n",
       "      <td>...</td>\n",
       "      <td>...</td>\n",
       "      <td>...</td>\n",
       "      <td>...</td>\n",
       "    </tr>\n",
       "    <tr>\n",
       "      <th>48373516</th>\n",
       "      <td>b7815dbb206eb2831ce0fe040d0aa537e2e800f7</td>\n",
       "      <td>SOUHHHH12AF729E4AF</td>\n",
       "      <td>2</td>\n",
       "      <td>TRKUAEO128F933ABFC</td>\n",
       "      <td>Eminem / Obie Trice / Stat Quo / Bobby Creekwa...</td>\n",
       "      <td>We're Back</td>\n",
       "    </tr>\n",
       "    <tr>\n",
       "      <th>48373517</th>\n",
       "      <td>b7815dbb206eb2831ce0fe040d0aa537e2e800f7</td>\n",
       "      <td>SOUJVIT12A8C1451C1</td>\n",
       "      <td>1</td>\n",
       "      <td>TRRNFHH128F92D262D</td>\n",
       "      <td>Rise Against</td>\n",
       "      <td>Savior</td>\n",
       "    </tr>\n",
       "    <tr>\n",
       "      <th>48373518</th>\n",
       "      <td>b7815dbb206eb2831ce0fe040d0aa537e2e800f7</td>\n",
       "      <td>SOUSMXX12AB0185C24</td>\n",
       "      <td>1</td>\n",
       "      <td>TRSLDDC12903CC36E7</td>\n",
       "      <td>Usher featuring will.i.am</td>\n",
       "      <td>OMG</td>\n",
       "    </tr>\n",
       "    <tr>\n",
       "      <th>48373519</th>\n",
       "      <td>b7815dbb206eb2831ce0fe040d0aa537e2e800f7</td>\n",
       "      <td>SOWYSKH12AF72A303A</td>\n",
       "      <td>3</td>\n",
       "      <td>TRNJQAM128F14557AF</td>\n",
       "      <td>matchbox twenty</td>\n",
       "      <td>Downfall (Album Version)</td>\n",
       "    </tr>\n",
       "    <tr>\n",
       "      <th>48373520</th>\n",
       "      <td>b7815dbb206eb2831ce0fe040d0aa537e2e800f7</td>\n",
       "      <td>SOYYFLV12A58A7A88F</td>\n",
       "      <td>1</td>\n",
       "      <td>TRKSGQU128F14824E9</td>\n",
       "      <td>Linkin Park</td>\n",
       "      <td>Lying From You (Album Version)</td>\n",
       "    </tr>\n",
       "  </tbody>\n",
       "</table>\n",
       "<p>48373521 rows × 6 columns</p>\n",
       "</div>"
      ],
      "text/plain": [
       "                                            userID              songID  \\\n",
       "0         b80344d063b5ccb3212f76538f3d9e43d87dca9e  SOAKIMP12A8C130995   \n",
       "1         b80344d063b5ccb3212f76538f3d9e43d87dca9e  SOAPDEY12A81C210A9   \n",
       "2         b80344d063b5ccb3212f76538f3d9e43d87dca9e  SOBBMDR12A8C13253B   \n",
       "3         b80344d063b5ccb3212f76538f3d9e43d87dca9e  SOBFNSP12AF72A0E22   \n",
       "4         b80344d063b5ccb3212f76538f3d9e43d87dca9e  SOBFOVM12A58A7D494   \n",
       "...                                            ...                 ...   \n",
       "48373516  b7815dbb206eb2831ce0fe040d0aa537e2e800f7  SOUHHHH12AF729E4AF   \n",
       "48373517  b7815dbb206eb2831ce0fe040d0aa537e2e800f7  SOUJVIT12A8C1451C1   \n",
       "48373518  b7815dbb206eb2831ce0fe040d0aa537e2e800f7  SOUSMXX12AB0185C24   \n",
       "48373519  b7815dbb206eb2831ce0fe040d0aa537e2e800f7  SOWYSKH12AF72A303A   \n",
       "48373520  b7815dbb206eb2831ce0fe040d0aa537e2e800f7  SOYYFLV12A58A7A88F   \n",
       "\n",
       "          playcount             trackID  \\\n",
       "0                 1  TRIQAUQ128F42435AD   \n",
       "1                 1  TRIRLYL128F42539D1   \n",
       "2                 2  TRMHBXZ128F4238406   \n",
       "3                 1  TRYQMNI128F147C1C7   \n",
       "4                 1  TRAHZNE128F9341B86   \n",
       "...             ...                 ...   \n",
       "48373516          2  TRKUAEO128F933ABFC   \n",
       "48373517          1  TRRNFHH128F92D262D   \n",
       "48373518          1  TRSLDDC12903CC36E7   \n",
       "48373519          3  TRNJQAM128F14557AF   \n",
       "48373520          1  TRKSGQU128F14824E9   \n",
       "\n",
       "                                                     artist  \\\n",
       "0                                              Jack Johnson   \n",
       "1                                             Billy Preston   \n",
       "2                                             Paco De Lucia   \n",
       "3                                                Josh Rouse   \n",
       "4                                              The Dead 60s   \n",
       "...                                                     ...   \n",
       "48373516  Eminem / Obie Trice / Stat Quo / Bobby Creekwa...   \n",
       "48373517                                       Rise Against   \n",
       "48373518                          Usher featuring will.i.am   \n",
       "48373519                                    matchbox twenty   \n",
       "48373520                                        Linkin Park   \n",
       "\n",
       "                                    title  \n",
       "0                                The Cove  \n",
       "1                    Nothing from Nothing  \n",
       "2                         Entre Dos Aguas  \n",
       "3                   Under Cold Blue Stars  \n",
       "4         Riot Radio (Soundtrack Version)  \n",
       "...                                   ...  \n",
       "48373516                       We're Back  \n",
       "48373517                           Savior  \n",
       "48373518                              OMG  \n",
       "48373519         Downfall (Album Version)  \n",
       "48373520   Lying From You (Album Version)  \n",
       "\n",
       "[48373521 rows x 6 columns]"
      ]
     },
     "execution_count": 19,
     "metadata": {},
     "output_type": "execute_result"
    }
   ],
   "source": [
    "taste_df_cleaned = taste_df_merged.dropna()\n",
    "taste_df_cleaned.reset_index(inplace=True, drop=True)\n",
    "taste_df_cleaned"
   ]
  },
  {
   "cell_type": "markdown",
   "id": "bde10c5d",
   "metadata": {},
   "source": [
    "### checkpoint: save the merged dataset"
   ]
  },
  {
   "cell_type": "code",
   "execution_count": null,
   "id": "57e92890",
   "metadata": {},
   "outputs": [],
   "source": [
    "taste_df_cleaned.to_csv('taste_profiles.csv')"
   ]
  },
  {
   "cell_type": "markdown",
   "id": "516e5b56",
   "metadata": {},
   "source": [
    "### exploration: what does the dataset look like so far?\n",
    "\n",
    "1) the PLAYCOUNT variable"
   ]
  },
  {
   "cell_type": "code",
   "execution_count": 20,
   "id": "4d6ca3ec",
   "metadata": {},
   "outputs": [
    {
     "data": {
      "text/plain": [
       "count    4.837352e+07\n",
       "mean     2.866854e+00\n",
       "std      6.437698e+00\n",
       "min      1.000000e+00\n",
       "25%      1.000000e+00\n",
       "50%      1.000000e+00\n",
       "75%      3.000000e+00\n",
       "max      9.667000e+03\n",
       "Name: playcount, dtype: float64"
      ]
     },
     "execution_count": 20,
     "metadata": {},
     "output_type": "execute_result"
    }
   ],
   "source": [
    "taste_df_cleaned['playcount'].describe()"
   ]
  },
  {
   "cell_type": "markdown",
   "id": "7a3a63b5",
   "metadata": {},
   "source": [
    "Note the max"
   ]
  },
  {
   "cell_type": "code",
   "execution_count": 53,
   "id": "c98dc78e",
   "metadata": {},
   "outputs": [
    {
     "data": {
      "image/png": "[encoded data removed]",
      "text/plain": [
       "<Figure size 640x480 with 1 Axes>"
      ]
     },
     "metadata": {},
     "output_type": "display_data"
    }
   ],
   "source": [
    "fig, axs = plt.subplots(1, 1)\n",
    "N, bins, patches = axs.hist(taste_df_cleaned['playcount'].values, bins=100)\n",
    "axs.set_xlabel('playcount')\n",
    "axs.set_title('Histogram of playcounts')\n",
    "plt.savefig('FIGURES/playcounts.png', dpi=300)\n",
    "plt.show()"
   ]
  },
  {
   "cell_type": "markdown",
   "id": "af918ab6",
   "metadata": {},
   "source": [
    "the amount of playcounts < 100 is completely overwhelming in the dataset (by several orders of magnitude)\n",
    "lets zoom in to see more of the rest of the distribution..."
   ]
  },
  {
   "cell_type": "code",
   "execution_count": 54,
   "id": "73cba36b",
   "metadata": {},
   "outputs": [
    {
     "data": {
      "image/png": "[encoded data removed]",
      "text/plain": [
       "<Figure size 640x480 with 1 Axes>"
      ]
     },
     "metadata": {},
     "output_type": "display_data"
    }
   ],
   "source": [
    "fig, axs = plt.subplots(1, 1)\n",
    "N, bins, patches = axs.hist(taste_df_cleaned['playcount'].values, bins=100)\n",
    "axs.set_ylim(ymin=0, ymax=200)\n",
    "axs.set_xlabel('playcount')\n",
    "axs.set_title('Histogram of playcounts (y-axis zoom)')\n",
    "plt.savefig('FIGURES/playcounts-zoom.png', dpi=300)\n",
    "plt.show()"
   ]
  },
  {
   "cell_type": "markdown",
   "id": "950bd0e2",
   "metadata": {},
   "source": [
    "now we can also see the max point in the data, near 10000 plays"
   ]
  },
  {
   "cell_type": "code",
   "execution_count": 70,
   "id": "6cd02488",
   "metadata": {},
   "outputs": [
    {
     "data": {
      "image/png": "[encoded data removed]",
      "text/plain": [
       "<Figure size 640x480 with 1 Axes>"
      ]
     },
     "metadata": {},
     "output_type": "display_data"
    }
   ],
   "source": [
    "fig, axs = plt.subplots(1, 1)\n",
    "axs.boxplot(taste_df_cleaned['playcount'].values)\n",
    "axs.set_ylabel('# plays')\n",
    "axs.set_title('Boxplot for playcounts')\n",
    "plt.show()"
   ]
  },
  {
   "cell_type": "code",
   "execution_count": 74,
   "id": "343288d0",
   "metadata": {},
   "outputs": [
    {
     "name": "stderr",
     "output_type": "stream",
     "text": [
      "C:\\Users\\sophi\\AppData\\Local\\Temp\\ipykernel_5360\\2541209615.py:2: FutureWarning:\n",
      "\n",
      "The default value of numeric_only in DataFrameGroupBy.mean is deprecated. In a future version, numeric_only will default to False. Either specify numeric_only or select only columns which should be valid for the function.\n",
      "\n"
     ]
    },
    {
     "data": {
      "text/html": [
       "<div>\n",
       "<style scoped>\n",
       "    .dataframe tbody tr th:only-of-type {\n",
       "        vertical-align: middle;\n",
       "    }\n",
       "\n",
       "    .dataframe tbody tr th {\n",
       "        vertical-align: top;\n",
       "    }\n",
       "\n",
       "    .dataframe thead th {\n",
       "        text-align: right;\n",
       "    }\n",
       "</style>\n",
       "<table border=\"1\" class=\"dataframe\">\n",
       "  <thead>\n",
       "    <tr style=\"text-align: right;\">\n",
       "      <th></th>\n",
       "      <th>userID</th>\n",
       "      <th>playcount</th>\n",
       "    </tr>\n",
       "  </thead>\n",
       "  <tbody>\n",
       "    <tr>\n",
       "      <th>0</th>\n",
       "      <td>00000b722001882066dff9d2da8a775658053ea0</td>\n",
       "      <td>1.083333</td>\n",
       "    </tr>\n",
       "    <tr>\n",
       "      <th>1</th>\n",
       "      <td>00001638d6189236866af9bbf309ae6c2347ffdc</td>\n",
       "      <td>4.000000</td>\n",
       "    </tr>\n",
       "    <tr>\n",
       "      <th>2</th>\n",
       "      <td>0000175652312d12576d9e6b84f600caa24c4715</td>\n",
       "      <td>1.583333</td>\n",
       "    </tr>\n",
       "    <tr>\n",
       "      <th>3</th>\n",
       "      <td>00001cf0dce3fb22b0df0f3a1d9cd21e38385372</td>\n",
       "      <td>1.388889</td>\n",
       "    </tr>\n",
       "    <tr>\n",
       "      <th>4</th>\n",
       "      <td>0000267bde1b3a70ea75cf2b2d216cb828e3202b</td>\n",
       "      <td>1.080000</td>\n",
       "    </tr>\n",
       "  </tbody>\n",
       "</table>\n",
       "</div>"
      ],
      "text/plain": [
       "                                     userID  playcount\n",
       "0  00000b722001882066dff9d2da8a775658053ea0   1.083333\n",
       "1  00001638d6189236866af9bbf309ae6c2347ffdc   4.000000\n",
       "2  0000175652312d12576d9e6b84f600caa24c4715   1.583333\n",
       "3  00001cf0dce3fb22b0df0f3a1d9cd21e38385372   1.388889\n",
       "4  0000267bde1b3a70ea75cf2b2d216cb828e3202b   1.080000"
      ]
     },
     "execution_count": 74,
     "metadata": {},
     "output_type": "execute_result"
    }
   ],
   "source": [
    "#group the taste data by userID (take attribute means for each grouping)\n",
    "users = taste_df_cleaned.groupby(['userID']).mean()\n",
    "users.reset_index(inplace=True)\n",
    "users.head()"
   ]
  },
  {
   "cell_type": "markdown",
   "id": "84b2dd11",
   "metadata": {},
   "source": [
    "this shows the avg. playcount of each users' data"
   ]
  },
  {
   "cell_type": "code",
   "execution_count": 76,
   "id": "150e459f",
   "metadata": {},
   "outputs": [
    {
     "data": {
      "text/plain": [
       "count    1.019318e+06\n",
       "mean     3.120727e+00\n",
       "std      3.292808e+00\n",
       "min      1.000000e+00\n",
       "25%      1.461538e+00\n",
       "50%      2.177593e+00\n",
       "75%      3.545455e+00\n",
       "max      2.219000e+02\n",
       "Name: playcount, dtype: float64"
      ]
     },
     "execution_count": 76,
     "metadata": {},
     "output_type": "execute_result"
    }
   ],
   "source": [
    "users['playcount'].describe()"
   ]
  },
  {
   "cell_type": "code",
   "execution_count": 78,
   "id": "bef4cb5b",
   "metadata": {},
   "outputs": [
    {
     "data": {
      "image/png": "[encoded data removed]",
      "text/plain": [
       "<Figure size 640x480 with 1 Axes>"
      ]
     },
     "metadata": {},
     "output_type": "display_data"
    }
   ],
   "source": [
    "fig, axs = plt.subplots(1, 1)\n",
    "axs.boxplot(users['playcount'].values)\n",
    "axs.set_ylabel('# plays')\n",
    "axs.set_title('AVERAGE user playcount')\n",
    "plt.savefig('FIGURES/avg-user-playcount.png', dpi=300)\n",
    "plt.show()"
   ]
  },
  {
   "cell_type": "code",
   "execution_count": 96,
   "id": "3bec6a34",
   "metadata": {},
   "outputs": [
    {
     "name": "stderr",
     "output_type": "stream",
     "text": [
      "C:\\Users\\sophi\\AppData\\Local\\Temp\\ipykernel_5360\\583724968.py:2: FutureWarning:\n",
      "\n",
      "The default value of numeric_only in DataFrameGroupBy.var is deprecated. In a future version, numeric_only will default to False. Either specify numeric_only or select only columns which should be valid for the function.\n",
      "\n"
     ]
    },
    {
     "data": {
      "text/html": [
       "<div>\n",
       "<style scoped>\n",
       "    .dataframe tbody tr th:only-of-type {\n",
       "        vertical-align: middle;\n",
       "    }\n",
       "\n",
       "    .dataframe tbody tr th {\n",
       "        vertical-align: top;\n",
       "    }\n",
       "\n",
       "    .dataframe thead th {\n",
       "        text-align: right;\n",
       "    }\n",
       "</style>\n",
       "<table border=\"1\" class=\"dataframe\">\n",
       "  <thead>\n",
       "    <tr style=\"text-align: right;\">\n",
       "      <th></th>\n",
       "      <th>userID</th>\n",
       "      <th>playcount</th>\n",
       "    </tr>\n",
       "  </thead>\n",
       "  <tbody>\n",
       "    <tr>\n",
       "      <th>0</th>\n",
       "      <td>00000b722001882066dff9d2da8a775658053ea0</td>\n",
       "      <td>0.083333</td>\n",
       "    </tr>\n",
       "    <tr>\n",
       "      <th>1</th>\n",
       "      <td>00001638d6189236866af9bbf309ae6c2347ffdc</td>\n",
       "      <td>37.076923</td>\n",
       "    </tr>\n",
       "    <tr>\n",
       "      <th>2</th>\n",
       "      <td>0000175652312d12576d9e6b84f600caa24c4715</td>\n",
       "      <td>1.356061</td>\n",
       "    </tr>\n",
       "    <tr>\n",
       "      <th>3</th>\n",
       "      <td>00001cf0dce3fb22b0df0f3a1d9cd21e38385372</td>\n",
       "      <td>0.251634</td>\n",
       "    </tr>\n",
       "    <tr>\n",
       "      <th>4</th>\n",
       "      <td>0000267bde1b3a70ea75cf2b2d216cb828e3202b</td>\n",
       "      <td>0.076667</td>\n",
       "    </tr>\n",
       "  </tbody>\n",
       "</table>\n",
       "</div>"
      ],
      "text/plain": [
       "                                     userID  playcount\n",
       "0  00000b722001882066dff9d2da8a775658053ea0   0.083333\n",
       "1  00001638d6189236866af9bbf309ae6c2347ffdc  37.076923\n",
       "2  0000175652312d12576d9e6b84f600caa24c4715   1.356061\n",
       "3  00001cf0dce3fb22b0df0f3a1d9cd21e38385372   0.251634\n",
       "4  0000267bde1b3a70ea75cf2b2d216cb828e3202b   0.076667"
      ]
     },
     "execution_count": 96,
     "metadata": {},
     "output_type": "execute_result"
    }
   ],
   "source": [
    "#group the taste data by userID (take attribute variance for each grouping)\n",
    "users = taste_df_cleaned.groupby(['userID']).var()\n",
    "users.reset_index(inplace=True)\n",
    "users.head()"
   ]
  },
  {
   "cell_type": "markdown",
   "id": "b376c027",
   "metadata": {},
   "source": [
    "this shows the variance in the playcounts of each user's data"
   ]
  },
  {
   "cell_type": "code",
   "execution_count": 97,
   "id": "29af330c",
   "metadata": {},
   "outputs": [
    {
     "data": {
      "text/plain": [
       "count    1.019318e+06\n",
       "mean     4.505170e+01\n",
       "std      1.062055e+03\n",
       "min      0.000000e+00\n",
       "25%      8.362084e-01\n",
       "50%      3.946957e+00\n",
       "75%      1.625758e+01\n",
       "max      4.629729e+05\n",
       "Name: playcount, dtype: float64"
      ]
     },
     "execution_count": 97,
     "metadata": {},
     "output_type": "execute_result"
    }
   ],
   "source": [
    "users['playcount'].describe()"
   ]
  },
  {
   "cell_type": "code",
   "execution_count": 99,
   "id": "3a72a53f",
   "metadata": {},
   "outputs": [
    {
     "data": {
      "image/png": "[encoded data removed]",
      "text/plain": [
       "<Figure size 640x480 with 1 Axes>"
      ]
     },
     "metadata": {},
     "output_type": "display_data"
    }
   ],
   "source": [
    "fig, axs = plt.subplots(1, 1)\n",
    "axs.boxplot(users['playcount'].values)\n",
    "axs.set_ylabel('plays variance')\n",
    "axs.set_title('VARIANCE of user playcount')\n",
    "plt.savefig('FIGURES/var-user-playcount.png', dpi=300)\n",
    "plt.show()"
   ]
  },
  {
   "cell_type": "markdown",
   "id": "a1547070",
   "metadata": {},
   "source": [
    "2) how many observations/rows does each unique user have in the dataset?"
   ]
  },
  {
   "cell_type": "code",
   "execution_count": 58,
   "id": "df09ea37",
   "metadata": {},
   "outputs": [
    {
     "data": {
      "text/html": [
       "<div>\n",
       "<style scoped>\n",
       "    .dataframe tbody tr th:only-of-type {\n",
       "        vertical-align: middle;\n",
       "    }\n",
       "\n",
       "    .dataframe tbody tr th {\n",
       "        vertical-align: top;\n",
       "    }\n",
       "\n",
       "    .dataframe thead th {\n",
       "        text-align: right;\n",
       "    }\n",
       "</style>\n",
       "<table border=\"1\" class=\"dataframe\">\n",
       "  <thead>\n",
       "    <tr style=\"text-align: right;\">\n",
       "      <th></th>\n",
       "      <th>userID</th>\n",
       "      <th>songID</th>\n",
       "      <th>playcount</th>\n",
       "      <th>trackID</th>\n",
       "      <th>artist</th>\n",
       "      <th>title</th>\n",
       "    </tr>\n",
       "  </thead>\n",
       "  <tbody>\n",
       "    <tr>\n",
       "      <th>0</th>\n",
       "      <td>00000b722001882066dff9d2da8a775658053ea0</td>\n",
       "      <td>12</td>\n",
       "      <td>12</td>\n",
       "      <td>12</td>\n",
       "      <td>12</td>\n",
       "      <td>12</td>\n",
       "    </tr>\n",
       "    <tr>\n",
       "      <th>1</th>\n",
       "      <td>00001638d6189236866af9bbf309ae6c2347ffdc</td>\n",
       "      <td>14</td>\n",
       "      <td>14</td>\n",
       "      <td>14</td>\n",
       "      <td>14</td>\n",
       "      <td>14</td>\n",
       "    </tr>\n",
       "    <tr>\n",
       "      <th>2</th>\n",
       "      <td>0000175652312d12576d9e6b84f600caa24c4715</td>\n",
       "      <td>12</td>\n",
       "      <td>12</td>\n",
       "      <td>12</td>\n",
       "      <td>12</td>\n",
       "      <td>12</td>\n",
       "    </tr>\n",
       "    <tr>\n",
       "      <th>3</th>\n",
       "      <td>00001cf0dce3fb22b0df0f3a1d9cd21e38385372</td>\n",
       "      <td>18</td>\n",
       "      <td>18</td>\n",
       "      <td>18</td>\n",
       "      <td>18</td>\n",
       "      <td>18</td>\n",
       "    </tr>\n",
       "    <tr>\n",
       "      <th>4</th>\n",
       "      <td>0000267bde1b3a70ea75cf2b2d216cb828e3202b</td>\n",
       "      <td>25</td>\n",
       "      <td>25</td>\n",
       "      <td>25</td>\n",
       "      <td>25</td>\n",
       "      <td>25</td>\n",
       "    </tr>\n",
       "  </tbody>\n",
       "</table>\n",
       "</div>"
      ],
      "text/plain": [
       "                                     userID  songID  playcount  trackID  \\\n",
       "0  00000b722001882066dff9d2da8a775658053ea0      12         12       12   \n",
       "1  00001638d6189236866af9bbf309ae6c2347ffdc      14         14       14   \n",
       "2  0000175652312d12576d9e6b84f600caa24c4715      12         12       12   \n",
       "3  00001cf0dce3fb22b0df0f3a1d9cd21e38385372      18         18       18   \n",
       "4  0000267bde1b3a70ea75cf2b2d216cb828e3202b      25         25       25   \n",
       "\n",
       "   artist  title  \n",
       "0      12     12  \n",
       "1      14     14  \n",
       "2      12     12  \n",
       "3      18     18  \n",
       "4      25     25  "
      ]
     },
     "execution_count": 58,
     "metadata": {},
     "output_type": "execute_result"
    }
   ],
   "source": [
    "#group the taste data by userID (take attribute counts for each grouping)\n",
    "users = taste_df_cleaned.groupby(['userID']).count()\n",
    "users.reset_index(inplace=True)\n",
    "users.head()"
   ]
  },
  {
   "cell_type": "code",
   "execution_count": 59,
   "id": "3a4aed9e",
   "metadata": {},
   "outputs": [
    {
     "data": {
      "text/plain": [
       "count    1.019318e+06\n",
       "mean     4.745675e+01\n",
       "std      5.781565e+01\n",
       "min      1.000000e+01\n",
       "25%      1.600000e+01\n",
       "50%      2.700000e+01\n",
       "75%      5.500000e+01\n",
       "max      4.400000e+03\n",
       "Name: songID, dtype: float64"
      ]
     },
     "execution_count": 59,
     "metadata": {},
     "output_type": "execute_result"
    }
   ],
   "source": [
    "users['songID'].describe()"
   ]
  },
  {
   "cell_type": "code",
   "execution_count": 73,
   "id": "4b556180",
   "metadata": {},
   "outputs": [
    {
     "data": {
      "image/png": "[encoded data removed]",
      "text/plain": [
       "<Figure size 640x480 with 1 Axes>"
      ]
     },
     "metadata": {},
     "output_type": "display_data"
    }
   ],
   "source": [
    "fig, axs = plt.subplots(1, 1)\n",
    "axs.boxplot(users['songID'].values)\n",
    "axs.set_ylabel('# songs')\n",
    "axs.set_title('Boxplot of #songs per user')\n",
    "plt.savefig('FIGURES/songs-per-user.png', dpi=300)\n",
    "plt.show()"
   ]
  },
  {
   "cell_type": "markdown",
   "id": "bee1d021",
   "metadata": {},
   "source": [
    "3) do all of these observations (songs) come from unique artists? or do some users have multiple songs by the same artist?"
   ]
  },
  {
   "cell_type": "code",
   "execution_count": 79,
   "id": "b1bfc7ce",
   "metadata": {},
   "outputs": [
    {
     "data": {
      "text/html": [
       "<div>\n",
       "<style scoped>\n",
       "    .dataframe tbody tr th:only-of-type {\n",
       "        vertical-align: middle;\n",
       "    }\n",
       "\n",
       "    .dataframe tbody tr th {\n",
       "        vertical-align: top;\n",
       "    }\n",
       "\n",
       "    .dataframe thead th {\n",
       "        text-align: right;\n",
       "    }\n",
       "</style>\n",
       "<table border=\"1\" class=\"dataframe\">\n",
       "  <thead>\n",
       "    <tr style=\"text-align: right;\">\n",
       "      <th></th>\n",
       "      <th>userID</th>\n",
       "      <th>artist</th>\n",
       "      <th>songID</th>\n",
       "      <th>playcount</th>\n",
       "      <th>trackID</th>\n",
       "      <th>title</th>\n",
       "    </tr>\n",
       "  </thead>\n",
       "  <tbody>\n",
       "    <tr>\n",
       "      <th>0</th>\n",
       "      <td>00000b722001882066dff9d2da8a775658053ea0</td>\n",
       "      <td>Ana Carolina</td>\n",
       "      <td>1</td>\n",
       "      <td>1</td>\n",
       "      <td>1</td>\n",
       "      <td>1</td>\n",
       "    </tr>\n",
       "    <tr>\n",
       "      <th>1</th>\n",
       "      <td>00000b722001882066dff9d2da8a775658053ea0</td>\n",
       "      <td>Blue Man Group</td>\n",
       "      <td>1</td>\n",
       "      <td>1</td>\n",
       "      <td>1</td>\n",
       "      <td>1</td>\n",
       "    </tr>\n",
       "    <tr>\n",
       "      <th>2</th>\n",
       "      <td>00000b722001882066dff9d2da8a775658053ea0</td>\n",
       "      <td>Cartola</td>\n",
       "      <td>1</td>\n",
       "      <td>1</td>\n",
       "      <td>1</td>\n",
       "      <td>1</td>\n",
       "    </tr>\n",
       "    <tr>\n",
       "      <th>3</th>\n",
       "      <td>00000b722001882066dff9d2da8a775658053ea0</td>\n",
       "      <td>Edwyn Collins</td>\n",
       "      <td>1</td>\n",
       "      <td>1</td>\n",
       "      <td>1</td>\n",
       "      <td>1</td>\n",
       "    </tr>\n",
       "    <tr>\n",
       "      <th>4</th>\n",
       "      <td>00000b722001882066dff9d2da8a775658053ea0</td>\n",
       "      <td>Giles</td>\n",
       "      <td>1</td>\n",
       "      <td>1</td>\n",
       "      <td>1</td>\n",
       "      <td>1</td>\n",
       "    </tr>\n",
       "  </tbody>\n",
       "</table>\n",
       "</div>"
      ],
      "text/plain": [
       "                                     userID          artist  songID  \\\n",
       "0  00000b722001882066dff9d2da8a775658053ea0    Ana Carolina       1   \n",
       "1  00000b722001882066dff9d2da8a775658053ea0  Blue Man Group       1   \n",
       "2  00000b722001882066dff9d2da8a775658053ea0         Cartola       1   \n",
       "3  00000b722001882066dff9d2da8a775658053ea0   Edwyn Collins       1   \n",
       "4  00000b722001882066dff9d2da8a775658053ea0           Giles       1   \n",
       "\n",
       "   playcount  trackID  title  \n",
       "0          1        1      1  \n",
       "1          1        1      1  \n",
       "2          1        1      1  \n",
       "3          1        1      1  \n",
       "4          1        1      1  "
      ]
     },
     "execution_count": 79,
     "metadata": {},
     "output_type": "execute_result"
    }
   ],
   "source": [
    "#group the taste data by userID AND artist (take attribute counts for each grouping)\n",
    "users = taste_df_cleaned.groupby(['userID','artist']).count()\n",
    "users.reset_index(inplace=True)\n",
    "users.head()"
   ]
  },
  {
   "cell_type": "code",
   "execution_count": 80,
   "id": "3d8bd55a",
   "metadata": {},
   "outputs": [
    {
     "data": {
      "text/plain": [
       "count    2.986490e+07\n",
       "mean     1.619745e+00\n",
       "std      2.257418e+00\n",
       "min      1.000000e+00\n",
       "25%      1.000000e+00\n",
       "50%      1.000000e+00\n",
       "75%      1.000000e+00\n",
       "max      9.700000e+01\n",
       "Name: title, dtype: float64"
      ]
     },
     "execution_count": 80,
     "metadata": {},
     "output_type": "execute_result"
    }
   ],
   "source": [
    "users['title'].describe()"
   ]
  },
  {
   "cell_type": "markdown",
   "id": "03f0a83a",
   "metadata": {},
   "source": [
    "Note the max"
   ]
  },
  {
   "cell_type": "code",
   "execution_count": 95,
   "id": "776f62b6",
   "metadata": {},
   "outputs": [
    {
     "data": {
      "image/png": "[encoded data removed]",
      "text/plain": [
       "<Figure size 640x480 with 1 Axes>"
      ]
     },
     "metadata": {},
     "output_type": "display_data"
    }
   ],
   "source": [
    "fig, axs = plt.subplots(1, 1)\n",
    "N, bins, patches = axs.hist(users['title'].values, bins=97)\n",
    "axs.set_xlabel('# songs')\n",
    "axs.set_title('Histogram of #songs per artist per user')\n",
    "plt.savefig('FIGURES/songs-per-artist-per-user.png', dpi=300)\n",
    "plt.show()"
   ]
  },
  {
   "cell_type": "markdown",
   "id": "47c4f14e",
   "metadata": {},
   "source": [
    "Thoughts so far...\n",
    "\n",
    "- the playcounts are heavily skewed towards the lower end of the range\n",
    "- although it doesn't appear that there are any incorrect outliers, there do seem to be some outlier points towards the higher end of the range for both playcounts and songs per user\n",
    "- because we are trying to analyze this data to describe individual preferences for each user, it may be problematic that not all users have the same amounts of data (i.e. observations/songs). we might need to filter the data to collect a more uniform distribution...\n",
    "- because PLAYCOUNT might be a good analogue for \"preference\" (a song that is played a lot is likely to be more preferred than a song which has fewer plays), users whose data largely consists of low playcounts may be problemetic as well. we might need to filter the data using the variance of user playcounts to ensure there is a wide enough range in this variable"
   ]
  },
  {
   "cell_type": "markdown",
   "id": "fe3afd16",
   "metadata": {},
   "source": [
    "### data cleaning\n",
    "\n",
    "first, lets remove users that have a really low variance in playcounts. for example, if someone has data where all the playcounts are just 1s or 2s (i.e. a bunch of songs that they just listened two one or two times) it's unclear if these songs are really preferred or not. additionally, if the variance of a user's playcounts is very low, we won't be able to use that variable to estimate a degree of preference (more vs less preferred) for any of their reported songs.\n",
    "\n",
    "according to our exploration of the PLAYCOUNT variable, the variance ranges from 0 to 462,972 with a mean of ~45 and a median of ~4.\n",
    "\n",
    "let's calculate some z-scores for the user playcount variance:"
   ]
  },
  {
   "cell_type": "code",
   "execution_count": 142,
   "id": "22d7f3dd",
   "metadata": {},
   "outputs": [
    {
     "name": "stderr",
     "output_type": "stream",
     "text": [
      "C:\\Users\\sophi\\AppData\\Local\\Temp\\ipykernel_5360\\3494991652.py:2: FutureWarning:\n",
      "\n",
      "The default value of numeric_only in DataFrameGroupBy.var is deprecated. In a future version, numeric_only will default to False. Either specify numeric_only or select only columns which should be valid for the function.\n",
      "\n"
     ]
    },
    {
     "data": {
      "text/html": [
       "<div>\n",
       "<style scoped>\n",
       "    .dataframe tbody tr th:only-of-type {\n",
       "        vertical-align: middle;\n",
       "    }\n",
       "\n",
       "    .dataframe tbody tr th {\n",
       "        vertical-align: top;\n",
       "    }\n",
       "\n",
       "    .dataframe thead th {\n",
       "        text-align: right;\n",
       "    }\n",
       "</style>\n",
       "<table border=\"1\" class=\"dataframe\">\n",
       "  <thead>\n",
       "    <tr style=\"text-align: right;\">\n",
       "      <th></th>\n",
       "      <th>userID</th>\n",
       "      <th>playcount-var</th>\n",
       "    </tr>\n",
       "  </thead>\n",
       "  <tbody>\n",
       "    <tr>\n",
       "      <th>0</th>\n",
       "      <td>00000b722001882066dff9d2da8a775658053ea0</td>\n",
       "      <td>0.083333</td>\n",
       "    </tr>\n",
       "    <tr>\n",
       "      <th>1</th>\n",
       "      <td>00001638d6189236866af9bbf309ae6c2347ffdc</td>\n",
       "      <td>37.076923</td>\n",
       "    </tr>\n",
       "    <tr>\n",
       "      <th>2</th>\n",
       "      <td>0000175652312d12576d9e6b84f600caa24c4715</td>\n",
       "      <td>1.356061</td>\n",
       "    </tr>\n",
       "    <tr>\n",
       "      <th>3</th>\n",
       "      <td>00001cf0dce3fb22b0df0f3a1d9cd21e38385372</td>\n",
       "      <td>0.251634</td>\n",
       "    </tr>\n",
       "    <tr>\n",
       "      <th>4</th>\n",
       "      <td>0000267bde1b3a70ea75cf2b2d216cb828e3202b</td>\n",
       "      <td>0.076667</td>\n",
       "    </tr>\n",
       "  </tbody>\n",
       "</table>\n",
       "</div>"
      ],
      "text/plain": [
       "                                     userID  playcount-var\n",
       "0  00000b722001882066dff9d2da8a775658053ea0       0.083333\n",
       "1  00001638d6189236866af9bbf309ae6c2347ffdc      37.076923\n",
       "2  0000175652312d12576d9e6b84f600caa24c4715       1.356061\n",
       "3  00001cf0dce3fb22b0df0f3a1d9cd21e38385372       0.251634\n",
       "4  0000267bde1b3a70ea75cf2b2d216cb828e3202b       0.076667"
      ]
     },
     "execution_count": 142,
     "metadata": {},
     "output_type": "execute_result"
    }
   ],
   "source": [
    "#group the taste data by userID (take attribute variance for each grouping)\n",
    "users = taste_df_cleaned.groupby(['userID']).var()\n",
    "users.reset_index(inplace=True)\n",
    "users.rename(columns={'playcount':'playcount-var'}, inplace=True)\n",
    "users.head()"
   ]
  },
  {
   "cell_type": "code",
   "execution_count": 143,
   "id": "036f5406",
   "metadata": {},
   "outputs": [
    {
     "data": {
      "text/html": [
       "<div>\n",
       "<style scoped>\n",
       "    .dataframe tbody tr th:only-of-type {\n",
       "        vertical-align: middle;\n",
       "    }\n",
       "\n",
       "    .dataframe tbody tr th {\n",
       "        vertical-align: top;\n",
       "    }\n",
       "\n",
       "    .dataframe thead th {\n",
       "        text-align: right;\n",
       "    }\n",
       "</style>\n",
       "<table border=\"1\" class=\"dataframe\">\n",
       "  <thead>\n",
       "    <tr style=\"text-align: right;\">\n",
       "      <th></th>\n",
       "      <th>userID</th>\n",
       "      <th>playcount-var</th>\n",
       "      <th>playcount-z</th>\n",
       "    </tr>\n",
       "  </thead>\n",
       "  <tbody>\n",
       "    <tr>\n",
       "      <th>0</th>\n",
       "      <td>00000b722001882066dff9d2da8a775658053ea0</td>\n",
       "      <td>0.083333</td>\n",
       "      <td>0</td>\n",
       "    </tr>\n",
       "    <tr>\n",
       "      <th>1</th>\n",
       "      <td>00001638d6189236866af9bbf309ae6c2347ffdc</td>\n",
       "      <td>37.076923</td>\n",
       "      <td>0</td>\n",
       "    </tr>\n",
       "    <tr>\n",
       "      <th>2</th>\n",
       "      <td>0000175652312d12576d9e6b84f600caa24c4715</td>\n",
       "      <td>1.356061</td>\n",
       "      <td>0</td>\n",
       "    </tr>\n",
       "    <tr>\n",
       "      <th>3</th>\n",
       "      <td>00001cf0dce3fb22b0df0f3a1d9cd21e38385372</td>\n",
       "      <td>0.251634</td>\n",
       "      <td>0</td>\n",
       "    </tr>\n",
       "    <tr>\n",
       "      <th>4</th>\n",
       "      <td>0000267bde1b3a70ea75cf2b2d216cb828e3202b</td>\n",
       "      <td>0.076667</td>\n",
       "      <td>0</td>\n",
       "    </tr>\n",
       "  </tbody>\n",
       "</table>\n",
       "</div>"
      ],
      "text/plain": [
       "                                     userID  playcount-var  playcount-z\n",
       "0  00000b722001882066dff9d2da8a775658053ea0       0.083333            0\n",
       "1  00001638d6189236866af9bbf309ae6c2347ffdc      37.076923            0\n",
       "2  0000175652312d12576d9e6b84f600caa24c4715       1.356061            0\n",
       "3  00001cf0dce3fb22b0df0f3a1d9cd21e38385372       0.251634            0\n",
       "4  0000267bde1b3a70ea75cf2b2d216cb828e3202b       0.076667            0"
      ]
     },
     "execution_count": 143,
     "metadata": {},
     "output_type": "execute_result"
    }
   ],
   "source": [
    "#add a column for the zscored attribute\n",
    "users['playcount-z'] = 0\n",
    "users.head()"
   ]
  },
  {
   "cell_type": "code",
   "execution_count": 145,
   "id": "2f55d215",
   "metadata": {},
   "outputs": [
    {
     "data": {
      "text/html": [
       "<div>\n",
       "<style scoped>\n",
       "    .dataframe tbody tr th:only-of-type {\n",
       "        vertical-align: middle;\n",
       "    }\n",
       "\n",
       "    .dataframe tbody tr th {\n",
       "        vertical-align: top;\n",
       "    }\n",
       "\n",
       "    .dataframe thead th {\n",
       "        text-align: right;\n",
       "    }\n",
       "</style>\n",
       "<table border=\"1\" class=\"dataframe\">\n",
       "  <thead>\n",
       "    <tr style=\"text-align: right;\">\n",
       "      <th></th>\n",
       "      <th>userID</th>\n",
       "      <th>playcount-var</th>\n",
       "      <th>playcount-z</th>\n",
       "    </tr>\n",
       "  </thead>\n",
       "  <tbody>\n",
       "    <tr>\n",
       "      <th>0</th>\n",
       "      <td>00000b722001882066dff9d2da8a775658053ea0</td>\n",
       "      <td>0.083333</td>\n",
       "      <td>-0.042341</td>\n",
       "    </tr>\n",
       "    <tr>\n",
       "      <th>1</th>\n",
       "      <td>00001638d6189236866af9bbf309ae6c2347ffdc</td>\n",
       "      <td>37.076923</td>\n",
       "      <td>-0.007509</td>\n",
       "    </tr>\n",
       "    <tr>\n",
       "      <th>2</th>\n",
       "      <td>0000175652312d12576d9e6b84f600caa24c4715</td>\n",
       "      <td>1.356061</td>\n",
       "      <td>-0.041143</td>\n",
       "    </tr>\n",
       "    <tr>\n",
       "      <th>3</th>\n",
       "      <td>00001cf0dce3fb22b0df0f3a1d9cd21e38385372</td>\n",
       "      <td>0.251634</td>\n",
       "      <td>-0.042182</td>\n",
       "    </tr>\n",
       "    <tr>\n",
       "      <th>4</th>\n",
       "      <td>0000267bde1b3a70ea75cf2b2d216cb828e3202b</td>\n",
       "      <td>0.076667</td>\n",
       "      <td>-0.042347</td>\n",
       "    </tr>\n",
       "  </tbody>\n",
       "</table>\n",
       "</div>"
      ],
      "text/plain": [
       "                                     userID  playcount-var  playcount-z\n",
       "0  00000b722001882066dff9d2da8a775658053ea0       0.083333    -0.042341\n",
       "1  00001638d6189236866af9bbf309ae6c2347ffdc      37.076923    -0.007509\n",
       "2  0000175652312d12576d9e6b84f600caa24c4715       1.356061    -0.041143\n",
       "3  00001cf0dce3fb22b0df0f3a1d9cd21e38385372       0.251634    -0.042182\n",
       "4  0000267bde1b3a70ea75cf2b2d216cb828e3202b       0.076667    -0.042347"
      ]
     },
     "execution_count": 145,
     "metadata": {},
     "output_type": "execute_result"
    }
   ],
   "source": [
    "#calculate zscores\n",
    "users.loc[:,'playcount-z'] = (users['playcount-var'].values-users['playcount-var'].mean())/users['playcount-var'].std()\n",
    "users.head()"
   ]
  },
  {
   "cell_type": "code",
   "execution_count": 146,
   "id": "bc1381bc",
   "metadata": {},
   "outputs": [
    {
     "data": {
      "text/plain": [
       "count    1.019318e+06\n",
       "mean    -1.469612e-17\n",
       "std      1.000000e+00\n",
       "min     -4.241935e-02\n",
       "25%     -4.163200e-02\n",
       "50%     -3.870301e-02\n",
       "75%     -2.711170e-02\n",
       "max      4.358792e+02\n",
       "Name: playcount-z, dtype: float64"
      ]
     },
     "execution_count": 146,
     "metadata": {},
     "output_type": "execute_result"
    }
   ],
   "source": [
    "users['playcount-z'].describe()"
   ]
  },
  {
   "cell_type": "markdown",
   "id": "e66bc37d",
   "metadata": {},
   "source": [
    "because the data aren't normally distributed, the common practices for zscore outlier detection won't as easily apply. so perhaps we need another method for cleaning.\n",
    "\n",
    "first, lets remove users with a playcount variance of zero, because this means there is absolutely no range of their playcounts and that data will not be accurate/useable"
   ]
  },
  {
   "cell_type": "code",
   "execution_count": 147,
   "id": "30233ff5",
   "metadata": {},
   "outputs": [
    {
     "data": {
      "text/html": [
       "<div>\n",
       "<style scoped>\n",
       "    .dataframe tbody tr th:only-of-type {\n",
       "        vertical-align: middle;\n",
       "    }\n",
       "\n",
       "    .dataframe tbody tr th {\n",
       "        vertical-align: top;\n",
       "    }\n",
       "\n",
       "    .dataframe thead th {\n",
       "        text-align: right;\n",
       "    }\n",
       "</style>\n",
       "<table border=\"1\" class=\"dataframe\">\n",
       "  <thead>\n",
       "    <tr style=\"text-align: right;\">\n",
       "      <th></th>\n",
       "      <th>userID</th>\n",
       "      <th>playcount-var</th>\n",
       "      <th>playcount-z</th>\n",
       "      <th>toRemove</th>\n",
       "    </tr>\n",
       "  </thead>\n",
       "  <tbody>\n",
       "    <tr>\n",
       "      <th>0</th>\n",
       "      <td>00000b722001882066dff9d2da8a775658053ea0</td>\n",
       "      <td>0.083333</td>\n",
       "      <td>-0.042341</td>\n",
       "      <td>False</td>\n",
       "    </tr>\n",
       "    <tr>\n",
       "      <th>1</th>\n",
       "      <td>00001638d6189236866af9bbf309ae6c2347ffdc</td>\n",
       "      <td>37.076923</td>\n",
       "      <td>-0.007509</td>\n",
       "      <td>False</td>\n",
       "    </tr>\n",
       "    <tr>\n",
       "      <th>2</th>\n",
       "      <td>0000175652312d12576d9e6b84f600caa24c4715</td>\n",
       "      <td>1.356061</td>\n",
       "      <td>-0.041143</td>\n",
       "      <td>False</td>\n",
       "    </tr>\n",
       "    <tr>\n",
       "      <th>3</th>\n",
       "      <td>00001cf0dce3fb22b0df0f3a1d9cd21e38385372</td>\n",
       "      <td>0.251634</td>\n",
       "      <td>-0.042182</td>\n",
       "      <td>False</td>\n",
       "    </tr>\n",
       "    <tr>\n",
       "      <th>4</th>\n",
       "      <td>0000267bde1b3a70ea75cf2b2d216cb828e3202b</td>\n",
       "      <td>0.076667</td>\n",
       "      <td>-0.042347</td>\n",
       "      <td>False</td>\n",
       "    </tr>\n",
       "  </tbody>\n",
       "</table>\n",
       "</div>"
      ],
      "text/plain": [
       "                                     userID  playcount-var  playcount-z  \\\n",
       "0  00000b722001882066dff9d2da8a775658053ea0       0.083333    -0.042341   \n",
       "1  00001638d6189236866af9bbf309ae6c2347ffdc      37.076923    -0.007509   \n",
       "2  0000175652312d12576d9e6b84f600caa24c4715       1.356061    -0.041143   \n",
       "3  00001cf0dce3fb22b0df0f3a1d9cd21e38385372       0.251634    -0.042182   \n",
       "4  0000267bde1b3a70ea75cf2b2d216cb828e3202b       0.076667    -0.042347   \n",
       "\n",
       "   toRemove  \n",
       "0     False  \n",
       "1     False  \n",
       "2     False  \n",
       "3     False  \n",
       "4     False  "
      ]
     },
     "execution_count": 147,
     "metadata": {},
     "output_type": "execute_result"
    }
   ],
   "source": [
    "users['toRemove'] = False #create a column to mark users to remove\n",
    "users.head()"
   ]
  },
  {
   "cell_type": "code",
   "execution_count": 148,
   "id": "d314c140",
   "metadata": {},
   "outputs": [
    {
     "name": "stdout",
     "output_type": "stream",
     "text": [
      "38467 users marked to remove\n"
     ]
    }
   ],
   "source": [
    "users.loc[users['playcount-var']==0,'toRemove'] = True\n",
    "print(len(users[users['toRemove']==True]), \"users marked to remove\")"
   ]
  },
  {
   "cell_type": "code",
   "execution_count": 149,
   "id": "04e25654",
   "metadata": {},
   "outputs": [
    {
     "data": {
      "text/html": [
       "<div>\n",
       "<style scoped>\n",
       "    .dataframe tbody tr th:only-of-type {\n",
       "        vertical-align: middle;\n",
       "    }\n",
       "\n",
       "    .dataframe tbody tr th {\n",
       "        vertical-align: top;\n",
       "    }\n",
       "\n",
       "    .dataframe thead th {\n",
       "        text-align: right;\n",
       "    }\n",
       "</style>\n",
       "<table border=\"1\" class=\"dataframe\">\n",
       "  <thead>\n",
       "    <tr style=\"text-align: right;\">\n",
       "      <th></th>\n",
       "      <th>userID</th>\n",
       "      <th>toRemove</th>\n",
       "    </tr>\n",
       "  </thead>\n",
       "  <tbody>\n",
       "    <tr>\n",
       "      <th>0</th>\n",
       "      <td>00000b722001882066dff9d2da8a775658053ea0</td>\n",
       "      <td>False</td>\n",
       "    </tr>\n",
       "    <tr>\n",
       "      <th>1</th>\n",
       "      <td>00001638d6189236866af9bbf309ae6c2347ffdc</td>\n",
       "      <td>False</td>\n",
       "    </tr>\n",
       "    <tr>\n",
       "      <th>2</th>\n",
       "      <td>0000175652312d12576d9e6b84f600caa24c4715</td>\n",
       "      <td>False</td>\n",
       "    </tr>\n",
       "    <tr>\n",
       "      <th>3</th>\n",
       "      <td>00001cf0dce3fb22b0df0f3a1d9cd21e38385372</td>\n",
       "      <td>False</td>\n",
       "    </tr>\n",
       "    <tr>\n",
       "      <th>4</th>\n",
       "      <td>0000267bde1b3a70ea75cf2b2d216cb828e3202b</td>\n",
       "      <td>False</td>\n",
       "    </tr>\n",
       "  </tbody>\n",
       "</table>\n",
       "</div>"
      ],
      "text/plain": [
       "                                     userID  toRemove\n",
       "0  00000b722001882066dff9d2da8a775658053ea0     False\n",
       "1  00001638d6189236866af9bbf309ae6c2347ffdc     False\n",
       "2  0000175652312d12576d9e6b84f600caa24c4715     False\n",
       "3  00001cf0dce3fb22b0df0f3a1d9cd21e38385372     False\n",
       "4  0000267bde1b3a70ea75cf2b2d216cb828e3202b     False"
      ]
     },
     "execution_count": 149,
     "metadata": {},
     "output_type": "execute_result"
    }
   ],
   "source": [
    "#drop the playcount-var column and merge this information back to the main tastes dataset\n",
    "users.drop(columns=['playcount-var', 'playcount-z'], inplace=True)\n",
    "users.head()"
   ]
  },
  {
   "cell_type": "code",
   "execution_count": 150,
   "id": "93824dfe",
   "metadata": {},
   "outputs": [
    {
     "data": {
      "text/html": [
       "<div>\n",
       "<style scoped>\n",
       "    .dataframe tbody tr th:only-of-type {\n",
       "        vertical-align: middle;\n",
       "    }\n",
       "\n",
       "    .dataframe tbody tr th {\n",
       "        vertical-align: top;\n",
       "    }\n",
       "\n",
       "    .dataframe thead th {\n",
       "        text-align: right;\n",
       "    }\n",
       "</style>\n",
       "<table border=\"1\" class=\"dataframe\">\n",
       "  <thead>\n",
       "    <tr style=\"text-align: right;\">\n",
       "      <th></th>\n",
       "      <th>userID</th>\n",
       "      <th>songID</th>\n",
       "      <th>playcount</th>\n",
       "      <th>trackID</th>\n",
       "      <th>artist</th>\n",
       "      <th>title</th>\n",
       "      <th>toRemove</th>\n",
       "    </tr>\n",
       "  </thead>\n",
       "  <tbody>\n",
       "    <tr>\n",
       "      <th>0</th>\n",
       "      <td>b80344d063b5ccb3212f76538f3d9e43d87dca9e</td>\n",
       "      <td>SOAKIMP12A8C130995</td>\n",
       "      <td>1</td>\n",
       "      <td>TRIQAUQ128F42435AD</td>\n",
       "      <td>Jack Johnson</td>\n",
       "      <td>The Cove</td>\n",
       "      <td>False</td>\n",
       "    </tr>\n",
       "    <tr>\n",
       "      <th>1</th>\n",
       "      <td>b80344d063b5ccb3212f76538f3d9e43d87dca9e</td>\n",
       "      <td>SOAPDEY12A81C210A9</td>\n",
       "      <td>1</td>\n",
       "      <td>TRIRLYL128F42539D1</td>\n",
       "      <td>Billy Preston</td>\n",
       "      <td>Nothing from Nothing</td>\n",
       "      <td>False</td>\n",
       "    </tr>\n",
       "    <tr>\n",
       "      <th>2</th>\n",
       "      <td>b80344d063b5ccb3212f76538f3d9e43d87dca9e</td>\n",
       "      <td>SOBBMDR12A8C13253B</td>\n",
       "      <td>2</td>\n",
       "      <td>TRMHBXZ128F4238406</td>\n",
       "      <td>Paco De Lucia</td>\n",
       "      <td>Entre Dos Aguas</td>\n",
       "      <td>False</td>\n",
       "    </tr>\n",
       "    <tr>\n",
       "      <th>3</th>\n",
       "      <td>b80344d063b5ccb3212f76538f3d9e43d87dca9e</td>\n",
       "      <td>SOBFNSP12AF72A0E22</td>\n",
       "      <td>1</td>\n",
       "      <td>TRYQMNI128F147C1C7</td>\n",
       "      <td>Josh Rouse</td>\n",
       "      <td>Under Cold Blue Stars</td>\n",
       "      <td>False</td>\n",
       "    </tr>\n",
       "    <tr>\n",
       "      <th>4</th>\n",
       "      <td>b80344d063b5ccb3212f76538f3d9e43d87dca9e</td>\n",
       "      <td>SOBFOVM12A58A7D494</td>\n",
       "      <td>1</td>\n",
       "      <td>TRAHZNE128F9341B86</td>\n",
       "      <td>The Dead 60s</td>\n",
       "      <td>Riot Radio (Soundtrack Version)</td>\n",
       "      <td>False</td>\n",
       "    </tr>\n",
       "  </tbody>\n",
       "</table>\n",
       "</div>"
      ],
      "text/plain": [
       "                                     userID              songID  playcount  \\\n",
       "0  b80344d063b5ccb3212f76538f3d9e43d87dca9e  SOAKIMP12A8C130995          1   \n",
       "1  b80344d063b5ccb3212f76538f3d9e43d87dca9e  SOAPDEY12A81C210A9          1   \n",
       "2  b80344d063b5ccb3212f76538f3d9e43d87dca9e  SOBBMDR12A8C13253B          2   \n",
       "3  b80344d063b5ccb3212f76538f3d9e43d87dca9e  SOBFNSP12AF72A0E22          1   \n",
       "4  b80344d063b5ccb3212f76538f3d9e43d87dca9e  SOBFOVM12A58A7D494          1   \n",
       "\n",
       "              trackID         artist                            title  \\\n",
       "0  TRIQAUQ128F42435AD   Jack Johnson                         The Cove   \n",
       "1  TRIRLYL128F42539D1  Billy Preston             Nothing from Nothing   \n",
       "2  TRMHBXZ128F4238406  Paco De Lucia                  Entre Dos Aguas   \n",
       "3  TRYQMNI128F147C1C7     Josh Rouse            Under Cold Blue Stars   \n",
       "4  TRAHZNE128F9341B86   The Dead 60s  Riot Radio (Soundtrack Version)   \n",
       "\n",
       "   toRemove  \n",
       "0     False  \n",
       "1     False  \n",
       "2     False  \n",
       "3     False  \n",
       "4     False  "
      ]
     },
     "execution_count": 150,
     "metadata": {},
     "output_type": "execute_result"
    }
   ],
   "source": [
    "taste_df_dropped = taste_df_cleaned.merge(users, how='left', on='userID')\n",
    "taste_df_dropped.head()"
   ]
  },
  {
   "cell_type": "code",
   "execution_count": 153,
   "id": "9c860f3c",
   "metadata": {},
   "outputs": [
    {
     "name": "stdout",
     "output_type": "stream",
     "text": [
      "48373521 rows\n",
      "384542 unique songs\n",
      "384542 unique tracks\n",
      "38467 users marked to remove\n",
      "620643 datapoints marked to remove\n",
      "\n",
      "0.987168451807563 of original amount of data remaining\n"
     ]
    }
   ],
   "source": [
    "#sanity check: the dimensions of merged dataframe should be the same as the original taste dataframe\n",
    "print(len(taste_df_dropped), 'rows')\n",
    "print(len(taste_df_dropped['songID'].unique()), 'unique songs')\n",
    "print(len(taste_df_dropped['trackID'].unique()), 'unique tracks')\n",
    "print(len(taste_df_dropped[taste_df_dropped['toRemove']==True]['userID'].unique()), \"users marked to remove\")\n",
    "print(len(taste_df_dropped[taste_df_dropped['toRemove']==True]), \"datapoints marked to remove\")\n",
    "print(\"\")\n",
    "print((len(taste_df_dropped)-len(taste_df_dropped[taste_df_dropped['toRemove']==True]))/len(taste_df), \"of original amount of data remaining\")"
   ]
  },
  {
   "cell_type": "code",
   "execution_count": 156,
   "id": "9ece2f4f",
   "metadata": {},
   "outputs": [
    {
     "data": {
      "text/html": [
       "<div>\n",
       "<style scoped>\n",
       "    .dataframe tbody tr th:only-of-type {\n",
       "        vertical-align: middle;\n",
       "    }\n",
       "\n",
       "    .dataframe tbody tr th {\n",
       "        vertical-align: top;\n",
       "    }\n",
       "\n",
       "    .dataframe thead th {\n",
       "        text-align: right;\n",
       "    }\n",
       "</style>\n",
       "<table border=\"1\" class=\"dataframe\">\n",
       "  <thead>\n",
       "    <tr style=\"text-align: right;\">\n",
       "      <th></th>\n",
       "      <th>userID</th>\n",
       "      <th>songID</th>\n",
       "      <th>playcount</th>\n",
       "      <th>trackID</th>\n",
       "      <th>artist</th>\n",
       "      <th>title</th>\n",
       "      <th>toRemove</th>\n",
       "    </tr>\n",
       "  </thead>\n",
       "  <tbody>\n",
       "    <tr>\n",
       "      <th>0</th>\n",
       "      <td>b80344d063b5ccb3212f76538f3d9e43d87dca9e</td>\n",
       "      <td>SOAKIMP12A8C130995</td>\n",
       "      <td>1</td>\n",
       "      <td>TRIQAUQ128F42435AD</td>\n",
       "      <td>Jack Johnson</td>\n",
       "      <td>The Cove</td>\n",
       "      <td>False</td>\n",
       "    </tr>\n",
       "    <tr>\n",
       "      <th>1</th>\n",
       "      <td>b80344d063b5ccb3212f76538f3d9e43d87dca9e</td>\n",
       "      <td>SOAPDEY12A81C210A9</td>\n",
       "      <td>1</td>\n",
       "      <td>TRIRLYL128F42539D1</td>\n",
       "      <td>Billy Preston</td>\n",
       "      <td>Nothing from Nothing</td>\n",
       "      <td>False</td>\n",
       "    </tr>\n",
       "    <tr>\n",
       "      <th>2</th>\n",
       "      <td>b80344d063b5ccb3212f76538f3d9e43d87dca9e</td>\n",
       "      <td>SOBBMDR12A8C13253B</td>\n",
       "      <td>2</td>\n",
       "      <td>TRMHBXZ128F4238406</td>\n",
       "      <td>Paco De Lucia</td>\n",
       "      <td>Entre Dos Aguas</td>\n",
       "      <td>False</td>\n",
       "    </tr>\n",
       "    <tr>\n",
       "      <th>3</th>\n",
       "      <td>b80344d063b5ccb3212f76538f3d9e43d87dca9e</td>\n",
       "      <td>SOBFNSP12AF72A0E22</td>\n",
       "      <td>1</td>\n",
       "      <td>TRYQMNI128F147C1C7</td>\n",
       "      <td>Josh Rouse</td>\n",
       "      <td>Under Cold Blue Stars</td>\n",
       "      <td>False</td>\n",
       "    </tr>\n",
       "    <tr>\n",
       "      <th>4</th>\n",
       "      <td>b80344d063b5ccb3212f76538f3d9e43d87dca9e</td>\n",
       "      <td>SOBFOVM12A58A7D494</td>\n",
       "      <td>1</td>\n",
       "      <td>TRAHZNE128F9341B86</td>\n",
       "      <td>The Dead 60s</td>\n",
       "      <td>Riot Radio (Soundtrack Version)</td>\n",
       "      <td>False</td>\n",
       "    </tr>\n",
       "    <tr>\n",
       "      <th>...</th>\n",
       "      <td>...</td>\n",
       "      <td>...</td>\n",
       "      <td>...</td>\n",
       "      <td>...</td>\n",
       "      <td>...</td>\n",
       "      <td>...</td>\n",
       "      <td>...</td>\n",
       "    </tr>\n",
       "    <tr>\n",
       "      <th>47752873</th>\n",
       "      <td>b7815dbb206eb2831ce0fe040d0aa537e2e800f7</td>\n",
       "      <td>SOUHHHH12AF729E4AF</td>\n",
       "      <td>2</td>\n",
       "      <td>TRKUAEO128F933ABFC</td>\n",
       "      <td>Eminem / Obie Trice / Stat Quo / Bobby Creekwa...</td>\n",
       "      <td>We're Back</td>\n",
       "      <td>False</td>\n",
       "    </tr>\n",
       "    <tr>\n",
       "      <th>47752874</th>\n",
       "      <td>b7815dbb206eb2831ce0fe040d0aa537e2e800f7</td>\n",
       "      <td>SOUJVIT12A8C1451C1</td>\n",
       "      <td>1</td>\n",
       "      <td>TRRNFHH128F92D262D</td>\n",
       "      <td>Rise Against</td>\n",
       "      <td>Savior</td>\n",
       "      <td>False</td>\n",
       "    </tr>\n",
       "    <tr>\n",
       "      <th>47752875</th>\n",
       "      <td>b7815dbb206eb2831ce0fe040d0aa537e2e800f7</td>\n",
       "      <td>SOUSMXX12AB0185C24</td>\n",
       "      <td>1</td>\n",
       "      <td>TRSLDDC12903CC36E7</td>\n",
       "      <td>Usher featuring will.i.am</td>\n",
       "      <td>OMG</td>\n",
       "      <td>False</td>\n",
       "    </tr>\n",
       "    <tr>\n",
       "      <th>47752876</th>\n",
       "      <td>b7815dbb206eb2831ce0fe040d0aa537e2e800f7</td>\n",
       "      <td>SOWYSKH12AF72A303A</td>\n",
       "      <td>3</td>\n",
       "      <td>TRNJQAM128F14557AF</td>\n",
       "      <td>matchbox twenty</td>\n",
       "      <td>Downfall (Album Version)</td>\n",
       "      <td>False</td>\n",
       "    </tr>\n",
       "    <tr>\n",
       "      <th>47752877</th>\n",
       "      <td>b7815dbb206eb2831ce0fe040d0aa537e2e800f7</td>\n",
       "      <td>SOYYFLV12A58A7A88F</td>\n",
       "      <td>1</td>\n",
       "      <td>TRKSGQU128F14824E9</td>\n",
       "      <td>Linkin Park</td>\n",
       "      <td>Lying From You (Album Version)</td>\n",
       "      <td>False</td>\n",
       "    </tr>\n",
       "  </tbody>\n",
       "</table>\n",
       "<p>47752878 rows × 7 columns</p>\n",
       "</div>"
      ],
      "text/plain": [
       "                                            userID              songID  \\\n",
       "0         b80344d063b5ccb3212f76538f3d9e43d87dca9e  SOAKIMP12A8C130995   \n",
       "1         b80344d063b5ccb3212f76538f3d9e43d87dca9e  SOAPDEY12A81C210A9   \n",
       "2         b80344d063b5ccb3212f76538f3d9e43d87dca9e  SOBBMDR12A8C13253B   \n",
       "3         b80344d063b5ccb3212f76538f3d9e43d87dca9e  SOBFNSP12AF72A0E22   \n",
       "4         b80344d063b5ccb3212f76538f3d9e43d87dca9e  SOBFOVM12A58A7D494   \n",
       "...                                            ...                 ...   \n",
       "47752873  b7815dbb206eb2831ce0fe040d0aa537e2e800f7  SOUHHHH12AF729E4AF   \n",
       "47752874  b7815dbb206eb2831ce0fe040d0aa537e2e800f7  SOUJVIT12A8C1451C1   \n",
       "47752875  b7815dbb206eb2831ce0fe040d0aa537e2e800f7  SOUSMXX12AB0185C24   \n",
       "47752876  b7815dbb206eb2831ce0fe040d0aa537e2e800f7  SOWYSKH12AF72A303A   \n",
       "47752877  b7815dbb206eb2831ce0fe040d0aa537e2e800f7  SOYYFLV12A58A7A88F   \n",
       "\n",
       "          playcount             trackID  \\\n",
       "0                 1  TRIQAUQ128F42435AD   \n",
       "1                 1  TRIRLYL128F42539D1   \n",
       "2                 2  TRMHBXZ128F4238406   \n",
       "3                 1  TRYQMNI128F147C1C7   \n",
       "4                 1  TRAHZNE128F9341B86   \n",
       "...             ...                 ...   \n",
       "47752873          2  TRKUAEO128F933ABFC   \n",
       "47752874          1  TRRNFHH128F92D262D   \n",
       "47752875          1  TRSLDDC12903CC36E7   \n",
       "47752876          3  TRNJQAM128F14557AF   \n",
       "47752877          1  TRKSGQU128F14824E9   \n",
       "\n",
       "                                                     artist  \\\n",
       "0                                              Jack Johnson   \n",
       "1                                             Billy Preston   \n",
       "2                                             Paco De Lucia   \n",
       "3                                                Josh Rouse   \n",
       "4                                              The Dead 60s   \n",
       "...                                                     ...   \n",
       "47752873  Eminem / Obie Trice / Stat Quo / Bobby Creekwa...   \n",
       "47752874                                       Rise Against   \n",
       "47752875                          Usher featuring will.i.am   \n",
       "47752876                                    matchbox twenty   \n",
       "47752877                                        Linkin Park   \n",
       "\n",
       "                                    title  toRemove  \n",
       "0                                The Cove     False  \n",
       "1                    Nothing from Nothing     False  \n",
       "2                         Entre Dos Aguas     False  \n",
       "3                   Under Cold Blue Stars     False  \n",
       "4         Riot Radio (Soundtrack Version)     False  \n",
       "...                                   ...       ...  \n",
       "47752873                       We're Back     False  \n",
       "47752874                           Savior     False  \n",
       "47752875                              OMG     False  \n",
       "47752876         Downfall (Album Version)     False  \n",
       "47752877   Lying From You (Album Version)     False  \n",
       "\n",
       "[47752878 rows x 7 columns]"
      ]
     },
     "execution_count": 156,
     "metadata": {},
     "output_type": "execute_result"
    }
   ],
   "source": [
    "#remove the rows marked by the toRemove column\n",
    "taste_df_dropped.drop(index=taste_df_dropped[taste_df_dropped['toRemove']==True].index, inplace=True)\n",
    "taste_df_dropped.reset_index(inplace=True, drop=True)\n",
    "taste_df_dropped"
   ]
  },
  {
   "cell_type": "code",
   "execution_count": 158,
   "id": "1e251f91",
   "metadata": {},
   "outputs": [
    {
     "data": {
      "text/html": [
       "<div>\n",
       "<style scoped>\n",
       "    .dataframe tbody tr th:only-of-type {\n",
       "        vertical-align: middle;\n",
       "    }\n",
       "\n",
       "    .dataframe tbody tr th {\n",
       "        vertical-align: top;\n",
       "    }\n",
       "\n",
       "    .dataframe thead th {\n",
       "        text-align: right;\n",
       "    }\n",
       "</style>\n",
       "<table border=\"1\" class=\"dataframe\">\n",
       "  <thead>\n",
       "    <tr style=\"text-align: right;\">\n",
       "      <th></th>\n",
       "      <th>userID</th>\n",
       "      <th>songID</th>\n",
       "      <th>playcount</th>\n",
       "      <th>trackID</th>\n",
       "      <th>artist</th>\n",
       "      <th>title</th>\n",
       "    </tr>\n",
       "  </thead>\n",
       "  <tbody>\n",
       "    <tr>\n",
       "      <th>0</th>\n",
       "      <td>b80344d063b5ccb3212f76538f3d9e43d87dca9e</td>\n",
       "      <td>SOAKIMP12A8C130995</td>\n",
       "      <td>1</td>\n",
       "      <td>TRIQAUQ128F42435AD</td>\n",
       "      <td>Jack Johnson</td>\n",
       "      <td>The Cove</td>\n",
       "    </tr>\n",
       "    <tr>\n",
       "      <th>1</th>\n",
       "      <td>b80344d063b5ccb3212f76538f3d9e43d87dca9e</td>\n",
       "      <td>SOAPDEY12A81C210A9</td>\n",
       "      <td>1</td>\n",
       "      <td>TRIRLYL128F42539D1</td>\n",
       "      <td>Billy Preston</td>\n",
       "      <td>Nothing from Nothing</td>\n",
       "    </tr>\n",
       "    <tr>\n",
       "      <th>2</th>\n",
       "      <td>b80344d063b5ccb3212f76538f3d9e43d87dca9e</td>\n",
       "      <td>SOBBMDR12A8C13253B</td>\n",
       "      <td>2</td>\n",
       "      <td>TRMHBXZ128F4238406</td>\n",
       "      <td>Paco De Lucia</td>\n",
       "      <td>Entre Dos Aguas</td>\n",
       "    </tr>\n",
       "    <tr>\n",
       "      <th>3</th>\n",
       "      <td>b80344d063b5ccb3212f76538f3d9e43d87dca9e</td>\n",
       "      <td>SOBFNSP12AF72A0E22</td>\n",
       "      <td>1</td>\n",
       "      <td>TRYQMNI128F147C1C7</td>\n",
       "      <td>Josh Rouse</td>\n",
       "      <td>Under Cold Blue Stars</td>\n",
       "    </tr>\n",
       "    <tr>\n",
       "      <th>4</th>\n",
       "      <td>b80344d063b5ccb3212f76538f3d9e43d87dca9e</td>\n",
       "      <td>SOBFOVM12A58A7D494</td>\n",
       "      <td>1</td>\n",
       "      <td>TRAHZNE128F9341B86</td>\n",
       "      <td>The Dead 60s</td>\n",
       "      <td>Riot Radio (Soundtrack Version)</td>\n",
       "    </tr>\n",
       "  </tbody>\n",
       "</table>\n",
       "</div>"
      ],
      "text/plain": [
       "                                     userID              songID  playcount  \\\n",
       "0  b80344d063b5ccb3212f76538f3d9e43d87dca9e  SOAKIMP12A8C130995          1   \n",
       "1  b80344d063b5ccb3212f76538f3d9e43d87dca9e  SOAPDEY12A81C210A9          1   \n",
       "2  b80344d063b5ccb3212f76538f3d9e43d87dca9e  SOBBMDR12A8C13253B          2   \n",
       "3  b80344d063b5ccb3212f76538f3d9e43d87dca9e  SOBFNSP12AF72A0E22          1   \n",
       "4  b80344d063b5ccb3212f76538f3d9e43d87dca9e  SOBFOVM12A58A7D494          1   \n",
       "\n",
       "              trackID         artist                            title  \n",
       "0  TRIQAUQ128F42435AD   Jack Johnson                         The Cove  \n",
       "1  TRIRLYL128F42539D1  Billy Preston             Nothing from Nothing  \n",
       "2  TRMHBXZ128F4238406  Paco De Lucia                  Entre Dos Aguas  \n",
       "3  TRYQMNI128F147C1C7     Josh Rouse            Under Cold Blue Stars  \n",
       "4  TRAHZNE128F9341B86   The Dead 60s  Riot Radio (Soundtrack Version)  "
      ]
     },
     "execution_count": 158,
     "metadata": {},
     "output_type": "execute_result"
    }
   ],
   "source": [
    "#remove the toRemove column now since it is all false\n",
    "taste_df_dropped.drop(columns=['toRemove'], inplace=True)\n",
    "taste_df_dropped.head()"
   ]
  },
  {
   "cell_type": "markdown",
   "id": "5f85e43b",
   "metadata": {},
   "source": [
    "through doing this, we have only removed less than 2% of our original data (including that which was NAN from earlier).\n",
    "\n",
    "let's remove users that have a max playcount of less than 3. this allows us to remove some more users with unclear preference levels in their data (without getting rid of too much of the data)."
   ]
  },
  {
   "cell_type": "code",
   "execution_count": 164,
   "id": "d7cd447c",
   "metadata": {},
   "outputs": [
    {
     "data": {
      "text/html": [
       "<div>\n",
       "<style scoped>\n",
       "    .dataframe tbody tr th:only-of-type {\n",
       "        vertical-align: middle;\n",
       "    }\n",
       "\n",
       "    .dataframe tbody tr th {\n",
       "        vertical-align: top;\n",
       "    }\n",
       "\n",
       "    .dataframe thead th {\n",
       "        text-align: right;\n",
       "    }\n",
       "</style>\n",
       "<table border=\"1\" class=\"dataframe\">\n",
       "  <thead>\n",
       "    <tr style=\"text-align: right;\">\n",
       "      <th></th>\n",
       "      <th>userID</th>\n",
       "      <th>playcount-max</th>\n",
       "    </tr>\n",
       "  </thead>\n",
       "  <tbody>\n",
       "    <tr>\n",
       "      <th>0</th>\n",
       "      <td>00000b722001882066dff9d2da8a775658053ea0</td>\n",
       "      <td>2</td>\n",
       "    </tr>\n",
       "    <tr>\n",
       "      <th>1</th>\n",
       "      <td>00001638d6189236866af9bbf309ae6c2347ffdc</td>\n",
       "      <td>24</td>\n",
       "    </tr>\n",
       "    <tr>\n",
       "      <th>2</th>\n",
       "      <td>0000175652312d12576d9e6b84f600caa24c4715</td>\n",
       "      <td>4</td>\n",
       "    </tr>\n",
       "    <tr>\n",
       "      <th>3</th>\n",
       "      <td>00001cf0dce3fb22b0df0f3a1d9cd21e38385372</td>\n",
       "      <td>2</td>\n",
       "    </tr>\n",
       "    <tr>\n",
       "      <th>4</th>\n",
       "      <td>0000267bde1b3a70ea75cf2b2d216cb828e3202b</td>\n",
       "      <td>2</td>\n",
       "    </tr>\n",
       "  </tbody>\n",
       "</table>\n",
       "</div>"
      ],
      "text/plain": [
       "                                     userID  playcount-max\n",
       "0  00000b722001882066dff9d2da8a775658053ea0              2\n",
       "1  00001638d6189236866af9bbf309ae6c2347ffdc             24\n",
       "2  0000175652312d12576d9e6b84f600caa24c4715              4\n",
       "3  00001cf0dce3fb22b0df0f3a1d9cd21e38385372              2\n",
       "4  0000267bde1b3a70ea75cf2b2d216cb828e3202b              2"
      ]
     },
     "execution_count": 164,
     "metadata": {},
     "output_type": "execute_result"
    }
   ],
   "source": [
    "#group the taste data by userID (take attribute maximum for each grouping)\n",
    "users = taste_df_dropped[['userID','playcount']].groupby(['userID']).max()\n",
    "users.reset_index(inplace=True)\n",
    "users.rename(columns={'playcount':'playcount-max'}, inplace=True)\n",
    "users.head()"
   ]
  },
  {
   "cell_type": "code",
   "execution_count": 165,
   "id": "cdfcd05c",
   "metadata": {},
   "outputs": [
    {
     "data": {
      "text/plain": [
       "count    980851.000000\n",
       "mean         17.189182\n",
       "std          30.164038\n",
       "min           2.000000\n",
       "25%           5.000000\n",
       "50%          10.000000\n",
       "75%          20.000000\n",
       "max        9667.000000\n",
       "Name: playcount-max, dtype: float64"
      ]
     },
     "execution_count": 165,
     "metadata": {},
     "output_type": "execute_result"
    }
   ],
   "source": [
    "users['playcount-max'].describe()"
   ]
  },
  {
   "cell_type": "code",
   "execution_count": 167,
   "id": "efb03145",
   "metadata": {},
   "outputs": [
    {
     "data": {
      "text/html": [
       "<div>\n",
       "<style scoped>\n",
       "    .dataframe tbody tr th:only-of-type {\n",
       "        vertical-align: middle;\n",
       "    }\n",
       "\n",
       "    .dataframe tbody tr th {\n",
       "        vertical-align: top;\n",
       "    }\n",
       "\n",
       "    .dataframe thead th {\n",
       "        text-align: right;\n",
       "    }\n",
       "</style>\n",
       "<table border=\"1\" class=\"dataframe\">\n",
       "  <thead>\n",
       "    <tr style=\"text-align: right;\">\n",
       "      <th></th>\n",
       "      <th>userID</th>\n",
       "      <th>playcount-max</th>\n",
       "      <th>toRemove</th>\n",
       "    </tr>\n",
       "  </thead>\n",
       "  <tbody>\n",
       "    <tr>\n",
       "      <th>0</th>\n",
       "      <td>00000b722001882066dff9d2da8a775658053ea0</td>\n",
       "      <td>2</td>\n",
       "      <td>False</td>\n",
       "    </tr>\n",
       "    <tr>\n",
       "      <th>1</th>\n",
       "      <td>00001638d6189236866af9bbf309ae6c2347ffdc</td>\n",
       "      <td>24</td>\n",
       "      <td>False</td>\n",
       "    </tr>\n",
       "    <tr>\n",
       "      <th>2</th>\n",
       "      <td>0000175652312d12576d9e6b84f600caa24c4715</td>\n",
       "      <td>4</td>\n",
       "      <td>False</td>\n",
       "    </tr>\n",
       "    <tr>\n",
       "      <th>3</th>\n",
       "      <td>00001cf0dce3fb22b0df0f3a1d9cd21e38385372</td>\n",
       "      <td>2</td>\n",
       "      <td>False</td>\n",
       "    </tr>\n",
       "    <tr>\n",
       "      <th>4</th>\n",
       "      <td>0000267bde1b3a70ea75cf2b2d216cb828e3202b</td>\n",
       "      <td>2</td>\n",
       "      <td>False</td>\n",
       "    </tr>\n",
       "  </tbody>\n",
       "</table>\n",
       "</div>"
      ],
      "text/plain": [
       "                                     userID  playcount-max  toRemove\n",
       "0  00000b722001882066dff9d2da8a775658053ea0              2     False\n",
       "1  00001638d6189236866af9bbf309ae6c2347ffdc             24     False\n",
       "2  0000175652312d12576d9e6b84f600caa24c4715              4     False\n",
       "3  00001cf0dce3fb22b0df0f3a1d9cd21e38385372              2     False\n",
       "4  0000267bde1b3a70ea75cf2b2d216cb828e3202b              2     False"
      ]
     },
     "execution_count": 167,
     "metadata": {},
     "output_type": "execute_result"
    }
   ],
   "source": [
    "users['toRemove'] = False #create a column to mark users to remove\n",
    "users.head()"
   ]
  },
  {
   "cell_type": "code",
   "execution_count": 168,
   "id": "9dabe929",
   "metadata": {},
   "outputs": [
    {
     "name": "stdout",
     "output_type": "stream",
     "text": [
      "85746 users marked to remove\n"
     ]
    }
   ],
   "source": [
    "users.loc[users['playcount-max']<3,'toRemove'] = True\n",
    "print(len(users[users['toRemove']==True]), \"users marked to remove\")"
   ]
  },
  {
   "cell_type": "code",
   "execution_count": 169,
   "id": "55a3acc5",
   "metadata": {},
   "outputs": [
    {
     "data": {
      "text/html": [
       "<div>\n",
       "<style scoped>\n",
       "    .dataframe tbody tr th:only-of-type {\n",
       "        vertical-align: middle;\n",
       "    }\n",
       "\n",
       "    .dataframe tbody tr th {\n",
       "        vertical-align: top;\n",
       "    }\n",
       "\n",
       "    .dataframe thead th {\n",
       "        text-align: right;\n",
       "    }\n",
       "</style>\n",
       "<table border=\"1\" class=\"dataframe\">\n",
       "  <thead>\n",
       "    <tr style=\"text-align: right;\">\n",
       "      <th></th>\n",
       "      <th>userID</th>\n",
       "      <th>toRemove</th>\n",
       "    </tr>\n",
       "  </thead>\n",
       "  <tbody>\n",
       "    <tr>\n",
       "      <th>0</th>\n",
       "      <td>00000b722001882066dff9d2da8a775658053ea0</td>\n",
       "      <td>True</td>\n",
       "    </tr>\n",
       "    <tr>\n",
       "      <th>1</th>\n",
       "      <td>00001638d6189236866af9bbf309ae6c2347ffdc</td>\n",
       "      <td>False</td>\n",
       "    </tr>\n",
       "    <tr>\n",
       "      <th>2</th>\n",
       "      <td>0000175652312d12576d9e6b84f600caa24c4715</td>\n",
       "      <td>False</td>\n",
       "    </tr>\n",
       "    <tr>\n",
       "      <th>3</th>\n",
       "      <td>00001cf0dce3fb22b0df0f3a1d9cd21e38385372</td>\n",
       "      <td>True</td>\n",
       "    </tr>\n",
       "    <tr>\n",
       "      <th>4</th>\n",
       "      <td>0000267bde1b3a70ea75cf2b2d216cb828e3202b</td>\n",
       "      <td>True</td>\n",
       "    </tr>\n",
       "  </tbody>\n",
       "</table>\n",
       "</div>"
      ],
      "text/plain": [
       "                                     userID  toRemove\n",
       "0  00000b722001882066dff9d2da8a775658053ea0      True\n",
       "1  00001638d6189236866af9bbf309ae6c2347ffdc     False\n",
       "2  0000175652312d12576d9e6b84f600caa24c4715     False\n",
       "3  00001cf0dce3fb22b0df0f3a1d9cd21e38385372      True\n",
       "4  0000267bde1b3a70ea75cf2b2d216cb828e3202b      True"
      ]
     },
     "execution_count": 169,
     "metadata": {},
     "output_type": "execute_result"
    }
   ],
   "source": [
    "#drop the playcount-var column and merge this information back to the main tastes dataset\n",
    "users.drop(columns=['playcount-max'], inplace=True)\n",
    "users.head()"
   ]
  },
  {
   "cell_type": "code",
   "execution_count": 170,
   "id": "38ec90c7",
   "metadata": {},
   "outputs": [
    {
     "data": {
      "text/html": [
       "<div>\n",
       "<style scoped>\n",
       "    .dataframe tbody tr th:only-of-type {\n",
       "        vertical-align: middle;\n",
       "    }\n",
       "\n",
       "    .dataframe tbody tr th {\n",
       "        vertical-align: top;\n",
       "    }\n",
       "\n",
       "    .dataframe thead th {\n",
       "        text-align: right;\n",
       "    }\n",
       "</style>\n",
       "<table border=\"1\" class=\"dataframe\">\n",
       "  <thead>\n",
       "    <tr style=\"text-align: right;\">\n",
       "      <th></th>\n",
       "      <th>userID</th>\n",
       "      <th>songID</th>\n",
       "      <th>playcount</th>\n",
       "      <th>trackID</th>\n",
       "      <th>artist</th>\n",
       "      <th>title</th>\n",
       "      <th>toRemove</th>\n",
       "    </tr>\n",
       "  </thead>\n",
       "  <tbody>\n",
       "    <tr>\n",
       "      <th>0</th>\n",
       "      <td>b80344d063b5ccb3212f76538f3d9e43d87dca9e</td>\n",
       "      <td>SOAKIMP12A8C130995</td>\n",
       "      <td>1</td>\n",
       "      <td>TRIQAUQ128F42435AD</td>\n",
       "      <td>Jack Johnson</td>\n",
       "      <td>The Cove</td>\n",
       "      <td>False</td>\n",
       "    </tr>\n",
       "    <tr>\n",
       "      <th>1</th>\n",
       "      <td>b80344d063b5ccb3212f76538f3d9e43d87dca9e</td>\n",
       "      <td>SOAPDEY12A81C210A9</td>\n",
       "      <td>1</td>\n",
       "      <td>TRIRLYL128F42539D1</td>\n",
       "      <td>Billy Preston</td>\n",
       "      <td>Nothing from Nothing</td>\n",
       "      <td>False</td>\n",
       "    </tr>\n",
       "    <tr>\n",
       "      <th>2</th>\n",
       "      <td>b80344d063b5ccb3212f76538f3d9e43d87dca9e</td>\n",
       "      <td>SOBBMDR12A8C13253B</td>\n",
       "      <td>2</td>\n",
       "      <td>TRMHBXZ128F4238406</td>\n",
       "      <td>Paco De Lucia</td>\n",
       "      <td>Entre Dos Aguas</td>\n",
       "      <td>False</td>\n",
       "    </tr>\n",
       "    <tr>\n",
       "      <th>3</th>\n",
       "      <td>b80344d063b5ccb3212f76538f3d9e43d87dca9e</td>\n",
       "      <td>SOBFNSP12AF72A0E22</td>\n",
       "      <td>1</td>\n",
       "      <td>TRYQMNI128F147C1C7</td>\n",
       "      <td>Josh Rouse</td>\n",
       "      <td>Under Cold Blue Stars</td>\n",
       "      <td>False</td>\n",
       "    </tr>\n",
       "    <tr>\n",
       "      <th>4</th>\n",
       "      <td>b80344d063b5ccb3212f76538f3d9e43d87dca9e</td>\n",
       "      <td>SOBFOVM12A58A7D494</td>\n",
       "      <td>1</td>\n",
       "      <td>TRAHZNE128F9341B86</td>\n",
       "      <td>The Dead 60s</td>\n",
       "      <td>Riot Radio (Soundtrack Version)</td>\n",
       "      <td>False</td>\n",
       "    </tr>\n",
       "  </tbody>\n",
       "</table>\n",
       "</div>"
      ],
      "text/plain": [
       "                                     userID              songID  playcount  \\\n",
       "0  b80344d063b5ccb3212f76538f3d9e43d87dca9e  SOAKIMP12A8C130995          1   \n",
       "1  b80344d063b5ccb3212f76538f3d9e43d87dca9e  SOAPDEY12A81C210A9          1   \n",
       "2  b80344d063b5ccb3212f76538f3d9e43d87dca9e  SOBBMDR12A8C13253B          2   \n",
       "3  b80344d063b5ccb3212f76538f3d9e43d87dca9e  SOBFNSP12AF72A0E22          1   \n",
       "4  b80344d063b5ccb3212f76538f3d9e43d87dca9e  SOBFOVM12A58A7D494          1   \n",
       "\n",
       "              trackID         artist                            title  \\\n",
       "0  TRIQAUQ128F42435AD   Jack Johnson                         The Cove   \n",
       "1  TRIRLYL128F42539D1  Billy Preston             Nothing from Nothing   \n",
       "2  TRMHBXZ128F4238406  Paco De Lucia                  Entre Dos Aguas   \n",
       "3  TRYQMNI128F147C1C7     Josh Rouse            Under Cold Blue Stars   \n",
       "4  TRAHZNE128F9341B86   The Dead 60s  Riot Radio (Soundtrack Version)   \n",
       "\n",
       "   toRemove  \n",
       "0     False  \n",
       "1     False  \n",
       "2     False  \n",
       "3     False  \n",
       "4     False  "
      ]
     },
     "execution_count": 170,
     "metadata": {},
     "output_type": "execute_result"
    }
   ],
   "source": [
    "taste_df_dropped = taste_df_dropped.merge(users, how='left', on='userID')\n",
    "taste_df_dropped.head()"
   ]
  },
  {
   "cell_type": "code",
   "execution_count": 171,
   "id": "8e259dd7",
   "metadata": {},
   "outputs": [
    {
     "name": "stdout",
     "output_type": "stream",
     "text": [
      "47752878 rows\n",
      "384128 unique songs\n",
      "384128 unique tracks\n",
      "85746 users marked to remove\n",
      "1959056 datapoints marked to remove\n",
      "\n",
      "0.9466699863847183 of original amount of data remaining\n"
     ]
    }
   ],
   "source": [
    "#sanity check: the dimensions of merged dataframe should be the same as the original taste dataframe\n",
    "print(len(taste_df_dropped), 'rows')\n",
    "print(len(taste_df_dropped['songID'].unique()), 'unique songs')\n",
    "print(len(taste_df_dropped['trackID'].unique()), 'unique tracks')\n",
    "print(len(taste_df_dropped[taste_df_dropped['toRemove']==True]['userID'].unique()), \"users marked to remove\")\n",
    "print(len(taste_df_dropped[taste_df_dropped['toRemove']==True]), \"datapoints marked to remove\")\n",
    "print(\"\")\n",
    "print((len(taste_df_dropped)-len(taste_df_dropped[taste_df_dropped['toRemove']==True]))/len(taste_df), \"of original amount of data remaining\")"
   ]
  },
  {
   "cell_type": "code",
   "execution_count": 172,
   "id": "1b1c6067",
   "metadata": {},
   "outputs": [
    {
     "data": {
      "text/html": [
       "<div>\n",
       "<style scoped>\n",
       "    .dataframe tbody tr th:only-of-type {\n",
       "        vertical-align: middle;\n",
       "    }\n",
       "\n",
       "    .dataframe tbody tr th {\n",
       "        vertical-align: top;\n",
       "    }\n",
       "\n",
       "    .dataframe thead th {\n",
       "        text-align: right;\n",
       "    }\n",
       "</style>\n",
       "<table border=\"1\" class=\"dataframe\">\n",
       "  <thead>\n",
       "    <tr style=\"text-align: right;\">\n",
       "      <th></th>\n",
       "      <th>userID</th>\n",
       "      <th>songID</th>\n",
       "      <th>playcount</th>\n",
       "      <th>trackID</th>\n",
       "      <th>artist</th>\n",
       "      <th>title</th>\n",
       "    </tr>\n",
       "  </thead>\n",
       "  <tbody>\n",
       "    <tr>\n",
       "      <th>0</th>\n",
       "      <td>b80344d063b5ccb3212f76538f3d9e43d87dca9e</td>\n",
       "      <td>SOAKIMP12A8C130995</td>\n",
       "      <td>1</td>\n",
       "      <td>TRIQAUQ128F42435AD</td>\n",
       "      <td>Jack Johnson</td>\n",
       "      <td>The Cove</td>\n",
       "    </tr>\n",
       "    <tr>\n",
       "      <th>1</th>\n",
       "      <td>b80344d063b5ccb3212f76538f3d9e43d87dca9e</td>\n",
       "      <td>SOAPDEY12A81C210A9</td>\n",
       "      <td>1</td>\n",
       "      <td>TRIRLYL128F42539D1</td>\n",
       "      <td>Billy Preston</td>\n",
       "      <td>Nothing from Nothing</td>\n",
       "    </tr>\n",
       "    <tr>\n",
       "      <th>2</th>\n",
       "      <td>b80344d063b5ccb3212f76538f3d9e43d87dca9e</td>\n",
       "      <td>SOBBMDR12A8C13253B</td>\n",
       "      <td>2</td>\n",
       "      <td>TRMHBXZ128F4238406</td>\n",
       "      <td>Paco De Lucia</td>\n",
       "      <td>Entre Dos Aguas</td>\n",
       "    </tr>\n",
       "    <tr>\n",
       "      <th>3</th>\n",
       "      <td>b80344d063b5ccb3212f76538f3d9e43d87dca9e</td>\n",
       "      <td>SOBFNSP12AF72A0E22</td>\n",
       "      <td>1</td>\n",
       "      <td>TRYQMNI128F147C1C7</td>\n",
       "      <td>Josh Rouse</td>\n",
       "      <td>Under Cold Blue Stars</td>\n",
       "    </tr>\n",
       "    <tr>\n",
       "      <th>4</th>\n",
       "      <td>b80344d063b5ccb3212f76538f3d9e43d87dca9e</td>\n",
       "      <td>SOBFOVM12A58A7D494</td>\n",
       "      <td>1</td>\n",
       "      <td>TRAHZNE128F9341B86</td>\n",
       "      <td>The Dead 60s</td>\n",
       "      <td>Riot Radio (Soundtrack Version)</td>\n",
       "    </tr>\n",
       "    <tr>\n",
       "      <th>...</th>\n",
       "      <td>...</td>\n",
       "      <td>...</td>\n",
       "      <td>...</td>\n",
       "      <td>...</td>\n",
       "      <td>...</td>\n",
       "      <td>...</td>\n",
       "    </tr>\n",
       "    <tr>\n",
       "      <th>45793817</th>\n",
       "      <td>b7815dbb206eb2831ce0fe040d0aa537e2e800f7</td>\n",
       "      <td>SOUHHHH12AF729E4AF</td>\n",
       "      <td>2</td>\n",
       "      <td>TRKUAEO128F933ABFC</td>\n",
       "      <td>Eminem / Obie Trice / Stat Quo / Bobby Creekwa...</td>\n",
       "      <td>We're Back</td>\n",
       "    </tr>\n",
       "    <tr>\n",
       "      <th>45793818</th>\n",
       "      <td>b7815dbb206eb2831ce0fe040d0aa537e2e800f7</td>\n",
       "      <td>SOUJVIT12A8C1451C1</td>\n",
       "      <td>1</td>\n",
       "      <td>TRRNFHH128F92D262D</td>\n",
       "      <td>Rise Against</td>\n",
       "      <td>Savior</td>\n",
       "    </tr>\n",
       "    <tr>\n",
       "      <th>45793819</th>\n",
       "      <td>b7815dbb206eb2831ce0fe040d0aa537e2e800f7</td>\n",
       "      <td>SOUSMXX12AB0185C24</td>\n",
       "      <td>1</td>\n",
       "      <td>TRSLDDC12903CC36E7</td>\n",
       "      <td>Usher featuring will.i.am</td>\n",
       "      <td>OMG</td>\n",
       "    </tr>\n",
       "    <tr>\n",
       "      <th>45793820</th>\n",
       "      <td>b7815dbb206eb2831ce0fe040d0aa537e2e800f7</td>\n",
       "      <td>SOWYSKH12AF72A303A</td>\n",
       "      <td>3</td>\n",
       "      <td>TRNJQAM128F14557AF</td>\n",
       "      <td>matchbox twenty</td>\n",
       "      <td>Downfall (Album Version)</td>\n",
       "    </tr>\n",
       "    <tr>\n",
       "      <th>45793821</th>\n",
       "      <td>b7815dbb206eb2831ce0fe040d0aa537e2e800f7</td>\n",
       "      <td>SOYYFLV12A58A7A88F</td>\n",
       "      <td>1</td>\n",
       "      <td>TRKSGQU128F14824E9</td>\n",
       "      <td>Linkin Park</td>\n",
       "      <td>Lying From You (Album Version)</td>\n",
       "    </tr>\n",
       "  </tbody>\n",
       "</table>\n",
       "<p>45793822 rows × 6 columns</p>\n",
       "</div>"
      ],
      "text/plain": [
       "                                            userID              songID  \\\n",
       "0         b80344d063b5ccb3212f76538f3d9e43d87dca9e  SOAKIMP12A8C130995   \n",
       "1         b80344d063b5ccb3212f76538f3d9e43d87dca9e  SOAPDEY12A81C210A9   \n",
       "2         b80344d063b5ccb3212f76538f3d9e43d87dca9e  SOBBMDR12A8C13253B   \n",
       "3         b80344d063b5ccb3212f76538f3d9e43d87dca9e  SOBFNSP12AF72A0E22   \n",
       "4         b80344d063b5ccb3212f76538f3d9e43d87dca9e  SOBFOVM12A58A7D494   \n",
       "...                                            ...                 ...   \n",
       "45793817  b7815dbb206eb2831ce0fe040d0aa537e2e800f7  SOUHHHH12AF729E4AF   \n",
       "45793818  b7815dbb206eb2831ce0fe040d0aa537e2e800f7  SOUJVIT12A8C1451C1   \n",
       "45793819  b7815dbb206eb2831ce0fe040d0aa537e2e800f7  SOUSMXX12AB0185C24   \n",
       "45793820  b7815dbb206eb2831ce0fe040d0aa537e2e800f7  SOWYSKH12AF72A303A   \n",
       "45793821  b7815dbb206eb2831ce0fe040d0aa537e2e800f7  SOYYFLV12A58A7A88F   \n",
       "\n",
       "          playcount             trackID  \\\n",
       "0                 1  TRIQAUQ128F42435AD   \n",
       "1                 1  TRIRLYL128F42539D1   \n",
       "2                 2  TRMHBXZ128F4238406   \n",
       "3                 1  TRYQMNI128F147C1C7   \n",
       "4                 1  TRAHZNE128F9341B86   \n",
       "...             ...                 ...   \n",
       "45793817          2  TRKUAEO128F933ABFC   \n",
       "45793818          1  TRRNFHH128F92D262D   \n",
       "45793819          1  TRSLDDC12903CC36E7   \n",
       "45793820          3  TRNJQAM128F14557AF   \n",
       "45793821          1  TRKSGQU128F14824E9   \n",
       "\n",
       "                                                     artist  \\\n",
       "0                                              Jack Johnson   \n",
       "1                                             Billy Preston   \n",
       "2                                             Paco De Lucia   \n",
       "3                                                Josh Rouse   \n",
       "4                                              The Dead 60s   \n",
       "...                                                     ...   \n",
       "45793817  Eminem / Obie Trice / Stat Quo / Bobby Creekwa...   \n",
       "45793818                                       Rise Against   \n",
       "45793819                          Usher featuring will.i.am   \n",
       "45793820                                    matchbox twenty   \n",
       "45793821                                        Linkin Park   \n",
       "\n",
       "                                    title  \n",
       "0                                The Cove  \n",
       "1                    Nothing from Nothing  \n",
       "2                         Entre Dos Aguas  \n",
       "3                   Under Cold Blue Stars  \n",
       "4         Riot Radio (Soundtrack Version)  \n",
       "...                                   ...  \n",
       "45793817                       We're Back  \n",
       "45793818                           Savior  \n",
       "45793819                              OMG  \n",
       "45793820         Downfall (Album Version)  \n",
       "45793821   Lying From You (Album Version)  \n",
       "\n",
       "[45793822 rows x 6 columns]"
      ]
     },
     "execution_count": 172,
     "metadata": {},
     "output_type": "execute_result"
    }
   ],
   "source": [
    "#remove the rows marked by the toRemove column\n",
    "taste_df_dropped.drop(index=taste_df_dropped[taste_df_dropped['toRemove']==True].index, inplace=True)\n",
    "taste_df_dropped.reset_index(inplace=True, drop=True)\n",
    "#remove the toRemove column now since it is all false\n",
    "taste_df_dropped.drop(columns=['toRemove'], inplace=True)\n",
    "taste_df_dropped"
   ]
  },
  {
   "cell_type": "markdown",
   "id": "e1f32149",
   "metadata": {},
   "source": [
    "through doing this, we are still left with ~95% of the original data, which is now more usable for the task at hand."
   ]
  },
  {
   "cell_type": "markdown",
   "id": "bd89c167",
   "metadata": {},
   "source": [
    "### checkpoint: save the cleaned dataset"
   ]
  },
  {
   "cell_type": "code",
   "execution_count": 173,
   "id": "84653cae",
   "metadata": {},
   "outputs": [],
   "source": [
    "taste_df_dropped.to_csv('taste_profiles_cleaned.csv')"
   ]
  },
  {
   "cell_type": "markdown",
   "id": "26da9c0c",
   "metadata": {},
   "source": [
    "### data cleaning TO DO: remove mismatch entries from MSD\n",
    "\n",
    "more info here: http://millionsongdataset.com/blog/12-2-12-fixing-matching-errors/"
   ]
  },
  {
   "cell_type": "code",
   "execution_count": null,
   "id": "28359645",
   "metadata": {},
   "outputs": [],
   "source": []
  },
  {
   "cell_type": "markdown",
   "id": "38e5cb82",
   "metadata": {},
   "source": [
    "### add to the dataset through the Spotify API\n",
    "\n",
    "get additional meta data about the songs/artists that we have in the dataset\n",
    "\n",
    "first we need to get the spotify uri for each song/artist"
   ]
  },
  {
   "cell_type": "code",
   "execution_count": 221,
   "id": "ada2ba84",
   "metadata": {},
   "outputs": [
    {
     "data": {
      "text/html": [
       "<div>\n",
       "<style scoped>\n",
       "    .dataframe tbody tr th:only-of-type {\n",
       "        vertical-align: middle;\n",
       "    }\n",
       "\n",
       "    .dataframe tbody tr th {\n",
       "        vertical-align: top;\n",
       "    }\n",
       "\n",
       "    .dataframe thead th {\n",
       "        text-align: right;\n",
       "    }\n",
       "</style>\n",
       "<table border=\"1\" class=\"dataframe\">\n",
       "  <thead>\n",
       "    <tr style=\"text-align: right;\">\n",
       "      <th></th>\n",
       "      <th>songID</th>\n",
       "      <th>artist</th>\n",
       "      <th>title</th>\n",
       "      <th>trackID_spot</th>\n",
       "      <th>artistID_spot</th>\n",
       "    </tr>\n",
       "  </thead>\n",
       "  <tbody>\n",
       "    <tr>\n",
       "      <th>0</th>\n",
       "      <td>SOAAADD12AB018A9DD</td>\n",
       "      <td>Harold Budd</td>\n",
       "      <td>The Room Of Stairs</td>\n",
       "      <td></td>\n",
       "      <td></td>\n",
       "    </tr>\n",
       "    <tr>\n",
       "      <th>1</th>\n",
       "      <td>SOAAADE12A6D4F80CC</td>\n",
       "      <td>Dave Edmunds</td>\n",
       "      <td>(I'm Gonna Start) Living Again If It Kills Me ...</td>\n",
       "      <td></td>\n",
       "      <td></td>\n",
       "    </tr>\n",
       "    <tr>\n",
       "      <th>2</th>\n",
       "      <td>SOAAADF12A8C13DF62</td>\n",
       "      <td>LANDA DANIEL</td>\n",
       "      <td>KRYSAR (LIVE)</td>\n",
       "      <td></td>\n",
       "      <td></td>\n",
       "    </tr>\n",
       "    <tr>\n",
       "      <th>3</th>\n",
       "      <td>SOAAADZ12A8C1334FB</td>\n",
       "      <td>Paul Cardall</td>\n",
       "      <td>Joy To The World</td>\n",
       "      <td></td>\n",
       "      <td></td>\n",
       "    </tr>\n",
       "    <tr>\n",
       "      <th>4</th>\n",
       "      <td>SOAAAFI12A6D4F9C66</td>\n",
       "      <td>I Love You But I've Chosen Darkness</td>\n",
       "      <td>The Less You See</td>\n",
       "      <td></td>\n",
       "      <td></td>\n",
       "    </tr>\n",
       "  </tbody>\n",
       "</table>\n",
       "</div>"
      ],
      "text/plain": [
       "               songID                               artist  \\\n",
       "0  SOAAADD12AB018A9DD                          Harold Budd   \n",
       "1  SOAAADE12A6D4F80CC                         Dave Edmunds   \n",
       "2  SOAAADF12A8C13DF62                         LANDA DANIEL   \n",
       "3  SOAAADZ12A8C1334FB                         Paul Cardall   \n",
       "4  SOAAAFI12A6D4F9C66  I Love You But I've Chosen Darkness   \n",
       "\n",
       "                                               title trackID_spot  \\\n",
       "0                                 The Room Of Stairs                \n",
       "1  (I'm Gonna Start) Living Again If It Kills Me ...                \n",
       "2                                      KRYSAR (LIVE)                \n",
       "3                                   Joy To The World                \n",
       "4                                   The Less You See                \n",
       "\n",
       "  artistID_spot  \n",
       "0                \n",
       "1                \n",
       "2                \n",
       "3                \n",
       "4                "
      ]
     },
     "execution_count": 221,
     "metadata": {},
     "output_type": "execute_result"
    }
   ],
   "source": [
    "#collect the unique songs/artists that we have left in our dataframe\n",
    "#which we need to look up using the spotify API\n",
    "songs = taste_df_dropped.groupby(['songID', 'artist', 'title']).count()\n",
    "songs.reset_index(inplace=True)\n",
    "songs.drop(columns=['userID', 'playcount', 'trackID'], inplace=True)\n",
    "\n",
    "#make columns to record the Spotify IDs for the track and the artist\n",
    "#which we'll need later\n",
    "songs['trackID_spot'] = ''\n",
    "songs['artistID_spot'] = ''\n",
    "songs.head()"
   ]
  },
  {
   "cell_type": "markdown",
   "id": "07b44d7e",
   "metadata": {},
   "source": [
    "authorization:"
   ]
  },
  {
   "cell_type": "code",
   "execution_count": 194,
   "id": "8731f80e",
   "metadata": {},
   "outputs": [],
   "source": [
    "CLIENT_ID = ''\n",
    "CLIENT_SECRET = ''\n",
    "\n",
    "baseURL = 'https://accounts.spotify.com/authorize'\n",
    "URLpost = {\n",
    "    'client_id': CLIENT_ID,\n",
    "    'response_type': 'code',\n",
    "    'redirect_uri': 'https://csci5622/callback'\n",
    "}"
   ]
  },
  {
   "cell_type": "code",
   "execution_count": 326,
   "id": "5d4b8d63",
   "metadata": {},
   "outputs": [],
   "source": [
    "response1 = requests.get(baseURL, URLpost)"
   ]
  },
  {
   "cell_type": "code",
   "execution_count": 327,
   "id": "d3c14120",
   "metadata": {},
   "outputs": [
    {
     "data": {
      "text/plain": [
       "200"
      ]
     },
     "execution_count": 327,
     "metadata": {},
     "output_type": "execute_result"
    }
   ],
   "source": [
    "response1.status_code"
   ]
  },
  {
   "cell_type": "code",
   "execution_count": 328,
   "id": "dc233bff",
   "metadata": {},
   "outputs": [],
   "source": [
    "AUTH_URL = 'https://accounts.spotify.com/api/token'\n",
    "\n",
    "# POST\n",
    "auth_response = requests.post(AUTH_URL, {\n",
    "    'grant_type': 'client_credentials',\n",
    "    'client_id': CLIENT_ID,\n",
    "    'client_secret': CLIENT_SECRET,\n",
    "})"
   ]
  },
  {
   "cell_type": "code",
   "execution_count": 329,
   "id": "b226c90d",
   "metadata": {},
   "outputs": [
    {
     "data": {
      "text/plain": [
       "<Response [200]>"
      ]
     },
     "execution_count": 329,
     "metadata": {},
     "output_type": "execute_result"
    }
   ],
   "source": [
    "auth_response"
   ]
  },
  {
   "cell_type": "code",
   "execution_count": 330,
   "id": "7fd5e011",
   "metadata": {},
   "outputs": [],
   "source": [
    "# convert the response to JSON\n",
    "auth_response_data = auth_response.json()\n",
    "\n",
    "# save the access token\n",
    "access_token = auth_response_data['access_token']"
   ]
  },
  {
   "cell_type": "code",
   "execution_count": 332,
   "id": "c9fbdf14",
   "metadata": {},
   "outputs": [],
   "source": [
    "headers = {\n",
    "    'Authorization': 'Bearer {token}'.format(token=access_token)\n",
    "}"
   ]
  },
  {
   "cell_type": "markdown",
   "id": "ffa8f397",
   "metadata": {},
   "source": [
    "populate spotify IDs:"
   ]
  },
  {
   "cell_type": "code",
   "execution_count": 338,
   "id": "2b1e90a5",
   "metadata": {
    "scrolled": true
   },
   "outputs": [
    {
     "name": "stdout",
     "output_type": "stream",
     "text": [
      "ERROR: STATUS CODE  429\n",
      "<Response [429]>\n"
     ]
    }
   ],
   "source": [
    "BASE_URL = 'https://api.spotify.com/v1/'\n",
    "\n",
    "for i in range(24802,len(songs)): #start the range at 0 and then as errors come up adjust this to start where you left off\n",
    "    #get names of tracks and artists from the songs dataframe we made above\n",
    "    track = songs.iloc[i,2]\n",
    "    artist = songs.iloc[i,1]\n",
    "    \n",
    "    #formulate the query and the request\n",
    "    query = track + '%20artist:' + artist\n",
    "    r = requests.get(BASE_URL + 'search?q=' + query + '&type=track' + '&limit=1', headers=headers)\n",
    "    \n",
    "    if r.status_code == 400: #usually happens if weird character in song/artist name, skip this\n",
    "        continue\n",
    "    elif r.status_code != 200: #if request is not successful, stop and report\n",
    "        print(\"ERROR: STATUS CODE \", r.status_code)\n",
    "        print(r)\n",
    "        break\n",
    "    elif r.json()['tracks']['total'] == 0: #if request is successful but no results found, skip entry and continue\n",
    "        continue\n",
    "    else: #save IDs to songs dataframe\n",
    "        jsontxt = r.json()\n",
    "        songs.iloc[i,3] = jsontxt['tracks']['items'][0]['id']\n",
    "        songs.iloc[i,4] = jsontxt['tracks']['items'][0]['artists'][0]['id']\n",
    "        \n",
    "        print(\"STATUS: ROW \", i, \"/\", len(songs)) #print status"
   ]
  },
  {
   "cell_type": "code",
   "execution_count": 334,
   "id": "9f16b63e",
   "metadata": {},
   "outputs": [
    {
     "data": {
      "text/html": [
       "<div>\n",
       "<style scoped>\n",
       "    .dataframe tbody tr th:only-of-type {\n",
       "        vertical-align: middle;\n",
       "    }\n",
       "\n",
       "    .dataframe tbody tr th {\n",
       "        vertical-align: top;\n",
       "    }\n",
       "\n",
       "    .dataframe thead th {\n",
       "        text-align: right;\n",
       "    }\n",
       "</style>\n",
       "<table border=\"1\" class=\"dataframe\">\n",
       "  <thead>\n",
       "    <tr style=\"text-align: right;\">\n",
       "      <th></th>\n",
       "      <th>songID</th>\n",
       "      <th>artist</th>\n",
       "      <th>title</th>\n",
       "      <th>trackID_spot</th>\n",
       "      <th>artistID_spot</th>\n",
       "    </tr>\n",
       "  </thead>\n",
       "  <tbody>\n",
       "    <tr>\n",
       "      <th>24795</th>\n",
       "      <td>SOBOIMB12A6D4F7ABA</td>\n",
       "      <td>Trisha Yearwood</td>\n",
       "      <td>Under The Rainbow</td>\n",
       "      <td>3WLK3F6XtyEyL7Xi4HjJx8</td>\n",
       "      <td>3XlIhgydjvC4EniPFZT20j</td>\n",
       "    </tr>\n",
       "    <tr>\n",
       "      <th>24796</th>\n",
       "      <td>SOBOINB12A8C13BCA1</td>\n",
       "      <td>The Human Abstract</td>\n",
       "      <td>Movement From Discord</td>\n",
       "      <td>2rVt2gf9XF7vXnnKOgtYZn</td>\n",
       "      <td>2SDGIFzEh9xmE5zDKcMRkj</td>\n",
       "    </tr>\n",
       "    <tr>\n",
       "      <th>24797</th>\n",
       "      <td>SOBOINW12A8C135CEF</td>\n",
       "      <td>The Reverend Peyton's Big Damn Band</td>\n",
       "      <td>Them Old Days Are Gone</td>\n",
       "      <td>1XTR3BR0A2BSbOBN2hKJte</td>\n",
       "      <td>6Ec85Uubz3lO7BIEvcBfZK</td>\n",
       "    </tr>\n",
       "    <tr>\n",
       "      <th>24798</th>\n",
       "      <td>SOBOIOR12A8C1332A4</td>\n",
       "      <td>Silverchair</td>\n",
       "      <td>Faultline</td>\n",
       "      <td>18ihvfYz6uiieilnfl4XCs</td>\n",
       "      <td>4iudEcmuPlYNdbP3e1bdn1</td>\n",
       "    </tr>\n",
       "    <tr>\n",
       "      <th>24799</th>\n",
       "      <td>SOBOIQD12A8C13B060</td>\n",
       "      <td>Bombshell Rocks</td>\n",
       "      <td>Unstoppable</td>\n",
       "      <td>6Do92hxiqSQza9fyW4nO1P</td>\n",
       "      <td>3mL3tecqNWwTIwi6qhvA6I</td>\n",
       "    </tr>\n",
       "    <tr>\n",
       "      <th>24800</th>\n",
       "      <td>SOBOISJ12A6D4F4AD9</td>\n",
       "      <td>3rd Force</td>\n",
       "      <td>Believe In Me (No Vocals / No DJ Edit)</td>\n",
       "      <td>6EMvrGNjLVsHkiPIQnntxj</td>\n",
       "      <td>3t0v2PRYA41acAC7z17tSm</td>\n",
       "    </tr>\n",
       "    <tr>\n",
       "      <th>24801</th>\n",
       "      <td>SOBOITE12AB0187724</td>\n",
       "      <td>Freddy Fresh</td>\n",
       "      <td>Norbert's Working</td>\n",
       "      <td>5cPYLy0iGfn6tMYZ0eZ776</td>\n",
       "      <td>2jW8DcJLujtIgktWhDcB4L</td>\n",
       "    </tr>\n",
       "    <tr>\n",
       "      <th>24802</th>\n",
       "      <td>SOBOITP12A8C13B675</td>\n",
       "      <td>Pohlmann.</td>\n",
       "      <td>Dämon (Gib Mich Frei) (Münster Version)</td>\n",
       "      <td></td>\n",
       "      <td></td>\n",
       "    </tr>\n",
       "    <tr>\n",
       "      <th>24803</th>\n",
       "      <td>SOBOIXF12AB017E1CA</td>\n",
       "      <td>Jeremy Camp</td>\n",
       "      <td>I'm Alive</td>\n",
       "      <td></td>\n",
       "      <td></td>\n",
       "    </tr>\n",
       "    <tr>\n",
       "      <th>24804</th>\n",
       "      <td>SOBOIXK12A6D4F88C5</td>\n",
       "      <td>Latin Breed</td>\n",
       "      <td>Te Vas O Te Quedas</td>\n",
       "      <td></td>\n",
       "      <td></td>\n",
       "    </tr>\n",
       "  </tbody>\n",
       "</table>\n",
       "</div>"
      ],
      "text/plain": [
       "                   songID                               artist  \\\n",
       "24795  SOBOIMB12A6D4F7ABA                      Trisha Yearwood   \n",
       "24796  SOBOINB12A8C13BCA1                   The Human Abstract   \n",
       "24797  SOBOINW12A8C135CEF  The Reverend Peyton's Big Damn Band   \n",
       "24798  SOBOIOR12A8C1332A4                          Silverchair   \n",
       "24799  SOBOIQD12A8C13B060                      Bombshell Rocks   \n",
       "24800  SOBOISJ12A6D4F4AD9                            3rd Force   \n",
       "24801  SOBOITE12AB0187724                         Freddy Fresh   \n",
       "24802  SOBOITP12A8C13B675                            Pohlmann.   \n",
       "24803  SOBOIXF12AB017E1CA                          Jeremy Camp   \n",
       "24804  SOBOIXK12A6D4F88C5                          Latin Breed   \n",
       "\n",
       "                                         title            trackID_spot  \\\n",
       "24795                        Under The Rainbow  3WLK3F6XtyEyL7Xi4HjJx8   \n",
       "24796                    Movement From Discord  2rVt2gf9XF7vXnnKOgtYZn   \n",
       "24797                   Them Old Days Are Gone  1XTR3BR0A2BSbOBN2hKJte   \n",
       "24798                                Faultline  18ihvfYz6uiieilnfl4XCs   \n",
       "24799                              Unstoppable  6Do92hxiqSQza9fyW4nO1P   \n",
       "24800   Believe In Me (No Vocals / No DJ Edit)  6EMvrGNjLVsHkiPIQnntxj   \n",
       "24801                        Norbert's Working  5cPYLy0iGfn6tMYZ0eZ776   \n",
       "24802  Dämon (Gib Mich Frei) (Münster Version)                           \n",
       "24803                                I'm Alive                           \n",
       "24804                       Te Vas O Te Quedas                           \n",
       "\n",
       "                artistID_spot  \n",
       "24795  3XlIhgydjvC4EniPFZT20j  \n",
       "24796  2SDGIFzEh9xmE5zDKcMRkj  \n",
       "24797  6Ec85Uubz3lO7BIEvcBfZK  \n",
       "24798  4iudEcmuPlYNdbP3e1bdn1  \n",
       "24799  3mL3tecqNWwTIwi6qhvA6I  \n",
       "24800  3t0v2PRYA41acAC7z17tSm  \n",
       "24801  2jW8DcJLujtIgktWhDcB4L  \n",
       "24802                          \n",
       "24803                          \n",
       "24804                          "
      ]
     },
     "execution_count": 334,
     "metadata": {},
     "output_type": "execute_result"
    }
   ],
   "source": [
    "songs.iloc[24795:24805,:]"
   ]
  },
  {
   "cell_type": "code",
   "execution_count": 339,
   "id": "1dc77013",
   "metadata": {},
   "outputs": [
    {
     "data": {
      "text/plain": [
       "<Response [429]>"
      ]
     },
     "execution_count": 339,
     "metadata": {},
     "output_type": "execute_result"
    }
   ],
   "source": [
    "r"
   ]
  },
  {
   "cell_type": "code",
   "execution_count": 340,
   "id": "b198fe54",
   "metadata": {},
   "outputs": [
    {
     "data": {
      "text/plain": [
       "{'cache-control': 'private, max-age=0', 'retry-after': '77561', 'access-control-allow-origin': '*', 'access-control-allow-headers': 'Accept, App-Platform, Authorization, Content-Type, Origin, Retry-After, Spotify-App-Version, X-Cloud-Trace-Context, client-token, content-access-token', 'access-control-allow-methods': 'GET, POST, OPTIONS, PUT, DELETE, PATCH', 'access-control-allow-credentials': 'true', 'access-control-max-age': '604800', 'content-encoding': 'gzip', 'strict-transport-security': 'max-age=31536000', 'x-content-type-options': 'nosniff', 'date': 'Mon, 06 Feb 2023 09:18:05 GMT', 'server': 'envoy', 'Via': 'HTTP/2 edgeproxy, 1.1 google', 'Alt-Svc': 'h3=\":443\"; ma=2592000,h3-29=\":443\"; ma=2592000', 'Transfer-Encoding': 'chunked'}"
      ]
     },
     "execution_count": 340,
     "metadata": {},
     "output_type": "execute_result"
    }
   ],
   "source": [
    "r.headers"
   ]
  },
  {
   "cell_type": "code",
   "execution_count": 335,
   "id": "c73d472b",
   "metadata": {},
   "outputs": [],
   "source": [
    "songs.to_csv('spotifyIDs.csv')"
   ]
  },
  {
   "cell_type": "code",
   "execution_count": null,
   "id": "e54d77e1",
   "metadata": {},
   "outputs": [],
   "source": []
  },
  {
   "cell_type": "code",
   "execution_count": null,
   "id": "23f3476a",
   "metadata": {},
   "outputs": [],
   "source": []
  }
 ],
 "metadata": {
  "kernelspec": {
   "display_name": "Python 3 (ipykernel)",
   "language": "python",
   "name": "python3"
  },
  "language_info": {
   "codemirror_mode": {
    "name": "ipython",
    "version": 3
   },
   "file_extension": ".py",
   "mimetype": "text/x-python",
   "name": "python",
   "nbconvert_exporter": "python",
   "pygments_lexer": "ipython3",
   "version": "3.10.8"
  }
 },
 "nbformat": 4,
 "nbformat_minor": 5
}

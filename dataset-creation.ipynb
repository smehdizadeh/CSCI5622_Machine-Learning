{
 "cells": [
  {
   "cell_type": "markdown",
   "id": "125ac0ba",
   "metadata": {},
   "source": [
    "### load libraries"
   ]
  },
  {
   "cell_type": "code",
   "execution_count": 1,
   "id": "1f1d8cea",
   "metadata": {},
   "outputs": [],
   "source": [
    "import numpy as np\n",
    "import pandas as pd\n",
    "import missingno as msno\n",
    "import plotly.graph_objs as go"
   ]
  },
  {
   "cell_type": "markdown",
   "id": "00925341",
   "metadata": {},
   "source": [
    "### get the Taste Profile subset from the Million Song Dataset (MSD) online\n",
    "\n",
    "Source: http://millionsongdataset.com/tasteprofile/\n",
    "\n",
    "(scroll down and use the link for TRIPLETS FOR 1M USERS)\n",
    "\n",
    "Note: you used to be able to get this data via the Echo Nest API, however that no longer works since they got acquired by Spotify...."
   ]
  },
  {
   "cell_type": "markdown",
   "id": "161a113f",
   "metadata": {},
   "source": [
    "### unzip the downloaded .txt file into THIS directory so we can load it with PANDAS"
   ]
  },
  {
   "cell_type": "code",
   "execution_count": 3,
   "id": "6ab5c6ef",
   "metadata": {},
   "outputs": [
    {
     "data": {
      "text/html": [
       "<div>\n",
       "<style scoped>\n",
       "    .dataframe tbody tr th:only-of-type {\n",
       "        vertical-align: middle;\n",
       "    }\n",
       "\n",
       "    .dataframe tbody tr th {\n",
       "        vertical-align: top;\n",
       "    }\n",
       "\n",
       "    .dataframe thead th {\n",
       "        text-align: right;\n",
       "    }\n",
       "</style>\n",
       "<table border=\"1\" class=\"dataframe\">\n",
       "  <thead>\n",
       "    <tr style=\"text-align: right;\">\n",
       "      <th></th>\n",
       "      <th>userID</th>\n",
       "      <th>songID</th>\n",
       "      <th>playcount</th>\n",
       "    </tr>\n",
       "  </thead>\n",
       "  <tbody>\n",
       "    <tr>\n",
       "      <th>0</th>\n",
       "      <td>b80344d063b5ccb3212f76538f3d9e43d87dca9e</td>\n",
       "      <td>SOAKIMP12A8C130995</td>\n",
       "      <td>1</td>\n",
       "    </tr>\n",
       "    <tr>\n",
       "      <th>1</th>\n",
       "      <td>b80344d063b5ccb3212f76538f3d9e43d87dca9e</td>\n",
       "      <td>SOAPDEY12A81C210A9</td>\n",
       "      <td>1</td>\n",
       "    </tr>\n",
       "    <tr>\n",
       "      <th>2</th>\n",
       "      <td>b80344d063b5ccb3212f76538f3d9e43d87dca9e</td>\n",
       "      <td>SOBBMDR12A8C13253B</td>\n",
       "      <td>2</td>\n",
       "    </tr>\n",
       "    <tr>\n",
       "      <th>3</th>\n",
       "      <td>b80344d063b5ccb3212f76538f3d9e43d87dca9e</td>\n",
       "      <td>SOBFNSP12AF72A0E22</td>\n",
       "      <td>1</td>\n",
       "    </tr>\n",
       "    <tr>\n",
       "      <th>4</th>\n",
       "      <td>b80344d063b5ccb3212f76538f3d9e43d87dca9e</td>\n",
       "      <td>SOBFOVM12A58A7D494</td>\n",
       "      <td>1</td>\n",
       "    </tr>\n",
       "  </tbody>\n",
       "</table>\n",
       "</div>"
      ],
      "text/plain": [
       "                                     userID              songID  playcount\n",
       "0  b80344d063b5ccb3212f76538f3d9e43d87dca9e  SOAKIMP12A8C130995          1\n",
       "1  b80344d063b5ccb3212f76538f3d9e43d87dca9e  SOAPDEY12A81C210A9          1\n",
       "2  b80344d063b5ccb3212f76538f3d9e43d87dca9e  SOBBMDR12A8C13253B          2\n",
       "3  b80344d063b5ccb3212f76538f3d9e43d87dca9e  SOBFNSP12AF72A0E22          1\n",
       "4  b80344d063b5ccb3212f76538f3d9e43d87dca9e  SOBFOVM12A58A7D494          1"
      ]
     },
     "execution_count": 3,
     "metadata": {},
     "output_type": "execute_result"
    }
   ],
   "source": [
    "taste_df = pd.read_csv('train_triplets.txt', sep='\\t', header=None, names=['userID', 'songID', 'playcount'])\n",
    "taste_df.head()"
   ]
  },
  {
   "cell_type": "code",
   "execution_count": 4,
   "id": "8b784741",
   "metadata": {},
   "outputs": [
    {
     "name": "stdout",
     "output_type": "stream",
     "text": [
      "48373586 rows\n",
      "384546 unique songs\n"
     ]
    }
   ],
   "source": [
    "print(len(taste_df), 'rows') #sanity check #rows, should be 48,373,586 according to the website\n",
    "print(len(taste_df['songID'].unique()), 'unique songs') #should be 384,546"
   ]
  },
  {
   "cell_type": "markdown",
   "id": "bc27dbcc",
   "metadata": {},
   "source": [
    "### let's get the song title and artist name for each song ID\n",
    "\n",
    "Source: http://millionsongdataset.com/pages/getting-dataset/ (scroll down to Additional Files, #1: List of all track Echo Nest ID)\n",
    "\n",
    "Save this .txt file in the current directory as well"
   ]
  },
  {
   "cell_type": "code",
   "execution_count": 5,
   "id": "644ddce5",
   "metadata": {},
   "outputs": [
    {
     "name": "stderr",
     "output_type": "stream",
     "text": [
      "C:\\Users\\sophi\\AppData\\Local\\Temp\\ipykernel_5360\\4145821792.py:1: ParserWarning: Falling back to the 'python' engine because the 'c' engine does not support regex separators (separators > 1 char and different from '\\s+' are interpreted as regex); you can avoid this warning by specifying engine='python'.\n",
      "  tracks_df = pd.read_csv('unique_tracks.txt', sep='<SEP>', header=None, names=['trackID', 'songID', 'artist', 'title'])\n"
     ]
    },
    {
     "data": {
      "text/html": [
       "<div>\n",
       "<style scoped>\n",
       "    .dataframe tbody tr th:only-of-type {\n",
       "        vertical-align: middle;\n",
       "    }\n",
       "\n",
       "    .dataframe tbody tr th {\n",
       "        vertical-align: top;\n",
       "    }\n",
       "\n",
       "    .dataframe thead th {\n",
       "        text-align: right;\n",
       "    }\n",
       "</style>\n",
       "<table border=\"1\" class=\"dataframe\">\n",
       "  <thead>\n",
       "    <tr style=\"text-align: right;\">\n",
       "      <th></th>\n",
       "      <th>trackID</th>\n",
       "      <th>songID</th>\n",
       "      <th>artist</th>\n",
       "      <th>title</th>\n",
       "    </tr>\n",
       "  </thead>\n",
       "  <tbody>\n",
       "    <tr>\n",
       "      <th>0</th>\n",
       "      <td>TRMMMYQ128F932D901</td>\n",
       "      <td>SOQMMHC12AB0180CB8</td>\n",
       "      <td>Faster Pussy cat</td>\n",
       "      <td>Silent Night</td>\n",
       "    </tr>\n",
       "    <tr>\n",
       "      <th>1</th>\n",
       "      <td>TRMMMKD128F425225D</td>\n",
       "      <td>SOVFVAK12A8C1350D9</td>\n",
       "      <td>Karkkiautomaatti</td>\n",
       "      <td>Tanssi vaan</td>\n",
       "    </tr>\n",
       "    <tr>\n",
       "      <th>2</th>\n",
       "      <td>TRMMMRX128F93187D9</td>\n",
       "      <td>SOGTUKN12AB017F4F1</td>\n",
       "      <td>Hudson Mohawke</td>\n",
       "      <td>No One Could Ever</td>\n",
       "    </tr>\n",
       "    <tr>\n",
       "      <th>3</th>\n",
       "      <td>TRMMMCH128F425532C</td>\n",
       "      <td>SOBNYVR12A8C13558C</td>\n",
       "      <td>Yerba Brava</td>\n",
       "      <td>Si Vos Querés</td>\n",
       "    </tr>\n",
       "    <tr>\n",
       "      <th>4</th>\n",
       "      <td>TRMMMWA128F426B589</td>\n",
       "      <td>SOHSBXH12A8C13B0DF</td>\n",
       "      <td>Der Mystic</td>\n",
       "      <td>Tangle Of Aspens</td>\n",
       "    </tr>\n",
       "  </tbody>\n",
       "</table>\n",
       "</div>"
      ],
      "text/plain": [
       "              trackID              songID            artist              title\n",
       "0  TRMMMYQ128F932D901  SOQMMHC12AB0180CB8  Faster Pussy cat       Silent Night\n",
       "1  TRMMMKD128F425225D  SOVFVAK12A8C1350D9  Karkkiautomaatti        Tanssi vaan\n",
       "2  TRMMMRX128F93187D9  SOGTUKN12AB017F4F1    Hudson Mohawke  No One Could Ever\n",
       "3  TRMMMCH128F425532C  SOBNYVR12A8C13558C       Yerba Brava      Si Vos Querés\n",
       "4  TRMMMWA128F426B589  SOHSBXH12A8C13B0DF        Der Mystic   Tangle Of Aspens"
      ]
     },
     "execution_count": 5,
     "metadata": {},
     "output_type": "execute_result"
    }
   ],
   "source": [
    "tracks_df = pd.read_csv('unique_tracks.txt', sep='<SEP>', header=None, names=['trackID', 'songID', 'artist', 'title'])\n",
    "tracks_df.head()"
   ]
  },
  {
   "cell_type": "code",
   "execution_count": 6,
   "id": "14efe234",
   "metadata": {},
   "outputs": [
    {
     "name": "stdout",
     "output_type": "stream",
     "text": [
      "1000000 rows\n"
     ]
    }
   ],
   "source": [
    "print(len(tracks_df), 'rows') #should be 1 mill"
   ]
  },
  {
   "cell_type": "markdown",
   "id": "640d9091",
   "metadata": {},
   "source": [
    "Note: the way this data is structured, a \"track\" is the unique instance/recording of a song. Thus one \"song\" can have multiple tracks (recordings) associated with it. For the purposes of this analysis, we only want to keep the unique SONGS.\n",
    "\n",
    "Find and remove duplicate songs:"
   ]
  },
  {
   "cell_type": "code",
   "execution_count": 8,
   "id": "c54a05ef",
   "metadata": {},
   "outputs": [
    {
     "data": {
      "text/html": [
       "<div>\n",
       "<style scoped>\n",
       "    .dataframe tbody tr th:only-of-type {\n",
       "        vertical-align: middle;\n",
       "    }\n",
       "\n",
       "    .dataframe tbody tr th {\n",
       "        vertical-align: top;\n",
       "    }\n",
       "\n",
       "    .dataframe thead th {\n",
       "        text-align: right;\n",
       "    }\n",
       "</style>\n",
       "<table border=\"1\" class=\"dataframe\">\n",
       "  <thead>\n",
       "    <tr style=\"text-align: right;\">\n",
       "      <th></th>\n",
       "      <th>trackID</th>\n",
       "      <th>songID</th>\n",
       "      <th>artist</th>\n",
       "      <th>title</th>\n",
       "    </tr>\n",
       "  </thead>\n",
       "  <tbody>\n",
       "    <tr>\n",
       "      <th>0</th>\n",
       "      <td>TRMMMYQ128F932D901</td>\n",
       "      <td>SOQMMHC12AB0180CB8</td>\n",
       "      <td>Faster Pussy cat</td>\n",
       "      <td>Silent Night</td>\n",
       "    </tr>\n",
       "    <tr>\n",
       "      <th>1</th>\n",
       "      <td>TRMMMKD128F425225D</td>\n",
       "      <td>SOVFVAK12A8C1350D9</td>\n",
       "      <td>Karkkiautomaatti</td>\n",
       "      <td>Tanssi vaan</td>\n",
       "    </tr>\n",
       "    <tr>\n",
       "      <th>2</th>\n",
       "      <td>TRMMMRX128F93187D9</td>\n",
       "      <td>SOGTUKN12AB017F4F1</td>\n",
       "      <td>Hudson Mohawke</td>\n",
       "      <td>No One Could Ever</td>\n",
       "    </tr>\n",
       "    <tr>\n",
       "      <th>3</th>\n",
       "      <td>TRMMMCH128F425532C</td>\n",
       "      <td>SOBNYVR12A8C13558C</td>\n",
       "      <td>Yerba Brava</td>\n",
       "      <td>Si Vos Querés</td>\n",
       "    </tr>\n",
       "    <tr>\n",
       "      <th>4</th>\n",
       "      <td>TRMMMWA128F426B589</td>\n",
       "      <td>SOHSBXH12A8C13B0DF</td>\n",
       "      <td>Der Mystic</td>\n",
       "      <td>Tangle Of Aspens</td>\n",
       "    </tr>\n",
       "  </tbody>\n",
       "</table>\n",
       "</div>"
      ],
      "text/plain": [
       "              trackID              songID            artist              title\n",
       "0  TRMMMYQ128F932D901  SOQMMHC12AB0180CB8  Faster Pussy cat       Silent Night\n",
       "1  TRMMMKD128F425225D  SOVFVAK12A8C1350D9  Karkkiautomaatti        Tanssi vaan\n",
       "2  TRMMMRX128F93187D9  SOGTUKN12AB017F4F1    Hudson Mohawke  No One Could Ever\n",
       "3  TRMMMCH128F425532C  SOBNYVR12A8C13558C       Yerba Brava      Si Vos Querés\n",
       "4  TRMMMWA128F426B589  SOHSBXH12A8C13B0DF        Der Mystic   Tangle Of Aspens"
      ]
     },
     "execution_count": 8,
     "metadata": {},
     "output_type": "execute_result"
    }
   ],
   "source": [
    "unique_songs_df = tracks_df[np.logical_not(tracks_df.duplicated(subset=['songID'], keep='first'))]\n",
    "unique_songs_df.reset_index(inplace=True, drop=True)\n",
    "unique_songs_df.head()"
   ]
  },
  {
   "cell_type": "code",
   "execution_count": 9,
   "id": "871ed56e",
   "metadata": {},
   "outputs": [
    {
     "data": {
      "text/plain": [
       "0"
      ]
     },
     "execution_count": 9,
     "metadata": {},
     "output_type": "execute_result"
    }
   ],
   "source": [
    "unique_songs_df.duplicated(subset=['songID']).sum() #check that this worked"
   ]
  },
  {
   "cell_type": "markdown",
   "id": "69bd5361",
   "metadata": {},
   "source": [
    "### merge dataframes\n",
    "\n",
    "Add the trackID, artist, and title for each entry in the taste dataframe"
   ]
  },
  {
   "cell_type": "code",
   "execution_count": 10,
   "id": "e3bec3ce",
   "metadata": {},
   "outputs": [
    {
     "data": {
      "text/html": [
       "<div>\n",
       "<style scoped>\n",
       "    .dataframe tbody tr th:only-of-type {\n",
       "        vertical-align: middle;\n",
       "    }\n",
       "\n",
       "    .dataframe tbody tr th {\n",
       "        vertical-align: top;\n",
       "    }\n",
       "\n",
       "    .dataframe thead th {\n",
       "        text-align: right;\n",
       "    }\n",
       "</style>\n",
       "<table border=\"1\" class=\"dataframe\">\n",
       "  <thead>\n",
       "    <tr style=\"text-align: right;\">\n",
       "      <th></th>\n",
       "      <th>userID</th>\n",
       "      <th>songID</th>\n",
       "      <th>playcount</th>\n",
       "      <th>trackID</th>\n",
       "      <th>artist</th>\n",
       "      <th>title</th>\n",
       "    </tr>\n",
       "  </thead>\n",
       "  <tbody>\n",
       "    <tr>\n",
       "      <th>0</th>\n",
       "      <td>b80344d063b5ccb3212f76538f3d9e43d87dca9e</td>\n",
       "      <td>SOAKIMP12A8C130995</td>\n",
       "      <td>1</td>\n",
       "      <td>TRIQAUQ128F42435AD</td>\n",
       "      <td>Jack Johnson</td>\n",
       "      <td>The Cove</td>\n",
       "    </tr>\n",
       "    <tr>\n",
       "      <th>1</th>\n",
       "      <td>b80344d063b5ccb3212f76538f3d9e43d87dca9e</td>\n",
       "      <td>SOAPDEY12A81C210A9</td>\n",
       "      <td>1</td>\n",
       "      <td>TRIRLYL128F42539D1</td>\n",
       "      <td>Billy Preston</td>\n",
       "      <td>Nothing from Nothing</td>\n",
       "    </tr>\n",
       "    <tr>\n",
       "      <th>2</th>\n",
       "      <td>b80344d063b5ccb3212f76538f3d9e43d87dca9e</td>\n",
       "      <td>SOBBMDR12A8C13253B</td>\n",
       "      <td>2</td>\n",
       "      <td>TRMHBXZ128F4238406</td>\n",
       "      <td>Paco De Lucia</td>\n",
       "      <td>Entre Dos Aguas</td>\n",
       "    </tr>\n",
       "    <tr>\n",
       "      <th>3</th>\n",
       "      <td>b80344d063b5ccb3212f76538f3d9e43d87dca9e</td>\n",
       "      <td>SOBFNSP12AF72A0E22</td>\n",
       "      <td>1</td>\n",
       "      <td>TRYQMNI128F147C1C7</td>\n",
       "      <td>Josh Rouse</td>\n",
       "      <td>Under Cold Blue Stars</td>\n",
       "    </tr>\n",
       "    <tr>\n",
       "      <th>4</th>\n",
       "      <td>b80344d063b5ccb3212f76538f3d9e43d87dca9e</td>\n",
       "      <td>SOBFOVM12A58A7D494</td>\n",
       "      <td>1</td>\n",
       "      <td>TRAHZNE128F9341B86</td>\n",
       "      <td>The Dead 60s</td>\n",
       "      <td>Riot Radio (Soundtrack Version)</td>\n",
       "    </tr>\n",
       "  </tbody>\n",
       "</table>\n",
       "</div>"
      ],
      "text/plain": [
       "                                     userID              songID  playcount  \\\n",
       "0  b80344d063b5ccb3212f76538f3d9e43d87dca9e  SOAKIMP12A8C130995          1   \n",
       "1  b80344d063b5ccb3212f76538f3d9e43d87dca9e  SOAPDEY12A81C210A9          1   \n",
       "2  b80344d063b5ccb3212f76538f3d9e43d87dca9e  SOBBMDR12A8C13253B          2   \n",
       "3  b80344d063b5ccb3212f76538f3d9e43d87dca9e  SOBFNSP12AF72A0E22          1   \n",
       "4  b80344d063b5ccb3212f76538f3d9e43d87dca9e  SOBFOVM12A58A7D494          1   \n",
       "\n",
       "              trackID         artist                            title  \n",
       "0  TRIQAUQ128F42435AD   Jack Johnson                         The Cove  \n",
       "1  TRIRLYL128F42539D1  Billy Preston             Nothing from Nothing  \n",
       "2  TRMHBXZ128F4238406  Paco De Lucia                  Entre Dos Aguas  \n",
       "3  TRYQMNI128F147C1C7     Josh Rouse            Under Cold Blue Stars  \n",
       "4  TRAHZNE128F9341B86   The Dead 60s  Riot Radio (Soundtrack Version)  "
      ]
     },
     "execution_count": 10,
     "metadata": {},
     "output_type": "execute_result"
    }
   ],
   "source": [
    "taste_df_merged = taste_df.merge(unique_songs_df, how='left', on='songID')\n",
    "taste_df_merged.head()"
   ]
  },
  {
   "cell_type": "code",
   "execution_count": 11,
   "id": "daac8f2c",
   "metadata": {},
   "outputs": [
    {
     "name": "stdout",
     "output_type": "stream",
     "text": [
      "48373586 rows\n",
      "384546 unique songs\n",
      "384546 unique tracks\n"
     ]
    }
   ],
   "source": [
    "#sanity check: the dimensions of merged dataframe should be the same as the original taste dataframe\n",
    "print(len(taste_df_merged), 'rows')\n",
    "print(len(taste_df_merged['songID'].unique()), 'unique songs')\n",
    "print(len(taste_df_merged['trackID'].unique()), 'unique tracks')"
   ]
  },
  {
   "cell_type": "markdown",
   "id": "00d3a237",
   "metadata": {},
   "source": [
    "### check for missing values?"
   ]
  },
  {
   "cell_type": "code",
   "execution_count": 12,
   "id": "c598ccb9",
   "metadata": {},
   "outputs": [
    {
     "data": {
      "text/plain": [
       "True"
      ]
     },
     "execution_count": 12,
     "metadata": {},
     "output_type": "execute_result"
    }
   ],
   "source": [
    "taste_df_merged.isna().values.any() #do we have any missing values?"
   ]
  },
  {
   "cell_type": "code",
   "execution_count": 13,
   "id": "b1c674f5",
   "metadata": {},
   "outputs": [
    {
     "name": "stdout",
     "output_type": "stream",
     "text": [
      "NAs in col  0 ?:  False\n",
      "NAs in col  1 ?:  False\n",
      "NAs in col  2 ?:  False\n",
      "NAs in col  3 ?:  False\n",
      "NAs in col  4 ?:  False\n",
      "NAs in col  5 ?:  True\n"
     ]
    }
   ],
   "source": [
    "#where? which column?\n",
    "for i in range(0,6):\n",
    "    print('NAs in col ', i, '?: ', taste_df_merged.iloc[:,i].isna().values.any())"
   ]
  },
  {
   "cell_type": "code",
   "execution_count": 14,
   "id": "11ab7497",
   "metadata": {},
   "outputs": [
    {
     "data": {
      "text/plain": [
       "Text(0.5, 1.0, 'Visualize missing data from MSD')"
      ]
     },
     "execution_count": 14,
     "metadata": {},
     "output_type": "execute_result"
    },
    {
     "data": {
      "image/png": "[encoded data removed]",
      "text/plain": [
       "<Figure size 2500x1000 with 3 Axes>"
      ]
     },
     "metadata": {},
     "output_type": "display_data"
    }
   ],
   "source": [
    "#lets visualize this\n",
    "plot = msno.bar(taste_df_merged, label_rotation=0)\n",
    "plot.set_xlabel('dataframe columns', fontsize=28)\n",
    "plot.set_title('Visualize missing data from MSD', fontsize=32)"
   ]
  },
  {
   "cell_type": "markdown",
   "id": "e8b81c1c",
   "metadata": {},
   "source": [
    "what songs/tracks/artists are affected?"
   ]
  },
  {
   "cell_type": "code",
   "execution_count": 15,
   "id": "a28d4d70",
   "metadata": {},
   "outputs": [
    {
     "data": {
      "text/plain": [
       "array(['SOZDBDL12AB018AFFF', 'SOLDTFD12AB018AFE6', 'SOFDILP12AC960A4EF',\n",
       "       'SOECGBQ12AB018D582'], dtype=object)"
      ]
     },
     "execution_count": 15,
     "metadata": {},
     "output_type": "execute_result"
    }
   ],
   "source": [
    "taste_df_merged['songID'][taste_df_merged.iloc[:,5].isna()].unique()"
   ]
  },
  {
   "cell_type": "code",
   "execution_count": 16,
   "id": "2f7910bb",
   "metadata": {},
   "outputs": [
    {
     "data": {
      "text/plain": [
       "array(['TROFVVS12903CDCA87', 'TRBXMXG12903CDCA7F', 'TRJOMUD12903CED473',\n",
       "       'TRLKLLK12903CDCAA2'], dtype=object)"
      ]
     },
     "execution_count": 16,
     "metadata": {},
     "output_type": "execute_result"
    }
   ],
   "source": [
    "taste_df_merged['trackID'][taste_df_merged.iloc[:,5].isna()].unique()"
   ]
  },
  {
   "cell_type": "code",
   "execution_count": 17,
   "id": "3e574bfe",
   "metadata": {},
   "outputs": [
    {
     "data": {
      "text/plain": [
       "array(['Sébastien Roch', 'Fobia'], dtype=object)"
      ]
     },
     "execution_count": 17,
     "metadata": {},
     "output_type": "execute_result"
    }
   ],
   "source": [
    "taste_df_merged['artist'][taste_df_merged.iloc[:,5].isna()].unique()"
   ]
  },
  {
   "cell_type": "markdown",
   "id": "856a6efa",
   "metadata": {},
   "source": [
    "seems like the problem stems from 4 songs / 2 artists. since this is an extremely small amount of data compared to what we have (65 rows vs. 48+ mill) let's remove these rows from the dataset so that what we have left is all equivalent amounts of information."
   ]
  },
  {
   "cell_type": "code",
   "execution_count": 19,
   "id": "6ffe2728",
   "metadata": {},
   "outputs": [
    {
     "data": {
      "text/html": [
       "<div>\n",
       "<style scoped>\n",
       "    .dataframe tbody tr th:only-of-type {\n",
       "        vertical-align: middle;\n",
       "    }\n",
       "\n",
       "    .dataframe tbody tr th {\n",
       "        vertical-align: top;\n",
       "    }\n",
       "\n",
       "    .dataframe thead th {\n",
       "        text-align: right;\n",
       "    }\n",
       "</style>\n",
       "<table border=\"1\" class=\"dataframe\">\n",
       "  <thead>\n",
       "    <tr style=\"text-align: right;\">\n",
       "      <th></th>\n",
       "      <th>userID</th>\n",
       "      <th>songID</th>\n",
       "      <th>playcount</th>\n",
       "      <th>trackID</th>\n",
       "      <th>artist</th>\n",
       "      <th>title</th>\n",
       "    </tr>\n",
       "  </thead>\n",
       "  <tbody>\n",
       "    <tr>\n",
       "      <th>0</th>\n",
       "      <td>b80344d063b5ccb3212f76538f3d9e43d87dca9e</td>\n",
       "      <td>SOAKIMP12A8C130995</td>\n",
       "      <td>1</td>\n",
       "      <td>TRIQAUQ128F42435AD</td>\n",
       "      <td>Jack Johnson</td>\n",
       "      <td>The Cove</td>\n",
       "    </tr>\n",
       "    <tr>\n",
       "      <th>1</th>\n",
       "      <td>b80344d063b5ccb3212f76538f3d9e43d87dca9e</td>\n",
       "      <td>SOAPDEY12A81C210A9</td>\n",
       "      <td>1</td>\n",
       "      <td>TRIRLYL128F42539D1</td>\n",
       "      <td>Billy Preston</td>\n",
       "      <td>Nothing from Nothing</td>\n",
       "    </tr>\n",
       "    <tr>\n",
       "      <th>2</th>\n",
       "      <td>b80344d063b5ccb3212f76538f3d9e43d87dca9e</td>\n",
       "      <td>SOBBMDR12A8C13253B</td>\n",
       "      <td>2</td>\n",
       "      <td>TRMHBXZ128F4238406</td>\n",
       "      <td>Paco De Lucia</td>\n",
       "      <td>Entre Dos Aguas</td>\n",
       "    </tr>\n",
       "    <tr>\n",
       "      <th>3</th>\n",
       "      <td>b80344d063b5ccb3212f76538f3d9e43d87dca9e</td>\n",
       "      <td>SOBFNSP12AF72A0E22</td>\n",
       "      <td>1</td>\n",
       "      <td>TRYQMNI128F147C1C7</td>\n",
       "      <td>Josh Rouse</td>\n",
       "      <td>Under Cold Blue Stars</td>\n",
       "    </tr>\n",
       "    <tr>\n",
       "      <th>4</th>\n",
       "      <td>b80344d063b5ccb3212f76538f3d9e43d87dca9e</td>\n",
       "      <td>SOBFOVM12A58A7D494</td>\n",
       "      <td>1</td>\n",
       "      <td>TRAHZNE128F9341B86</td>\n",
       "      <td>The Dead 60s</td>\n",
       "      <td>Riot Radio (Soundtrack Version)</td>\n",
       "    </tr>\n",
       "    <tr>\n",
       "      <th>...</th>\n",
       "      <td>...</td>\n",
       "      <td>...</td>\n",
       "      <td>...</td>\n",
       "      <td>...</td>\n",
       "      <td>...</td>\n",
       "      <td>...</td>\n",
       "    </tr>\n",
       "    <tr>\n",
       "      <th>48373516</th>\n",
       "      <td>b7815dbb206eb2831ce0fe040d0aa537e2e800f7</td>\n",
       "      <td>SOUHHHH12AF729E4AF</td>\n",
       "      <td>2</td>\n",
       "      <td>TRKUAEO128F933ABFC</td>\n",
       "      <td>Eminem / Obie Trice / Stat Quo / Bobby Creekwa...</td>\n",
       "      <td>We're Back</td>\n",
       "    </tr>\n",
       "    <tr>\n",
       "      <th>48373517</th>\n",
       "      <td>b7815dbb206eb2831ce0fe040d0aa537e2e800f7</td>\n",
       "      <td>SOUJVIT12A8C1451C1</td>\n",
       "      <td>1</td>\n",
       "      <td>TRRNFHH128F92D262D</td>\n",
       "      <td>Rise Against</td>\n",
       "      <td>Savior</td>\n",
       "    </tr>\n",
       "    <tr>\n",
       "      <th>48373518</th>\n",
       "      <td>b7815dbb206eb2831ce0fe040d0aa537e2e800f7</td>\n",
       "      <td>SOUSMXX12AB0185C24</td>\n",
       "      <td>1</td>\n",
       "      <td>TRSLDDC12903CC36E7</td>\n",
       "      <td>Usher featuring will.i.am</td>\n",
       "      <td>OMG</td>\n",
       "    </tr>\n",
       "    <tr>\n",
       "      <th>48373519</th>\n",
       "      <td>b7815dbb206eb2831ce0fe040d0aa537e2e800f7</td>\n",
       "      <td>SOWYSKH12AF72A303A</td>\n",
       "      <td>3</td>\n",
       "      <td>TRNJQAM128F14557AF</td>\n",
       "      <td>matchbox twenty</td>\n",
       "      <td>Downfall (Album Version)</td>\n",
       "    </tr>\n",
       "    <tr>\n",
       "      <th>48373520</th>\n",
       "      <td>b7815dbb206eb2831ce0fe040d0aa537e2e800f7</td>\n",
       "      <td>SOYYFLV12A58A7A88F</td>\n",
       "      <td>1</td>\n",
       "      <td>TRKSGQU128F14824E9</td>\n",
       "      <td>Linkin Park</td>\n",
       "      <td>Lying From You (Album Version)</td>\n",
       "    </tr>\n",
       "  </tbody>\n",
       "</table>\n",
       "<p>48373521 rows × 6 columns</p>\n",
       "</div>"
      ],
      "text/plain": [
       "                                            userID              songID  \\\n",
       "0         b80344d063b5ccb3212f76538f3d9e43d87dca9e  SOAKIMP12A8C130995   \n",
       "1         b80344d063b5ccb3212f76538f3d9e43d87dca9e  SOAPDEY12A81C210A9   \n",
       "2         b80344d063b5ccb3212f76538f3d9e43d87dca9e  SOBBMDR12A8C13253B   \n",
       "3         b80344d063b5ccb3212f76538f3d9e43d87dca9e  SOBFNSP12AF72A0E22   \n",
       "4         b80344d063b5ccb3212f76538f3d9e43d87dca9e  SOBFOVM12A58A7D494   \n",
       "...                                            ...                 ...   \n",
       "48373516  b7815dbb206eb2831ce0fe040d0aa537e2e800f7  SOUHHHH12AF729E4AF   \n",
       "48373517  b7815dbb206eb2831ce0fe040d0aa537e2e800f7  SOUJVIT12A8C1451C1   \n",
       "48373518  b7815dbb206eb2831ce0fe040d0aa537e2e800f7  SOUSMXX12AB0185C24   \n",
       "48373519  b7815dbb206eb2831ce0fe040d0aa537e2e800f7  SOWYSKH12AF72A303A   \n",
       "48373520  b7815dbb206eb2831ce0fe040d0aa537e2e800f7  SOYYFLV12A58A7A88F   \n",
       "\n",
       "          playcount             trackID  \\\n",
       "0                 1  TRIQAUQ128F42435AD   \n",
       "1                 1  TRIRLYL128F42539D1   \n",
       "2                 2  TRMHBXZ128F4238406   \n",
       "3                 1  TRYQMNI128F147C1C7   \n",
       "4                 1  TRAHZNE128F9341B86   \n",
       "...             ...                 ...   \n",
       "48373516          2  TRKUAEO128F933ABFC   \n",
       "48373517          1  TRRNFHH128F92D262D   \n",
       "48373518          1  TRSLDDC12903CC36E7   \n",
       "48373519          3  TRNJQAM128F14557AF   \n",
       "48373520          1  TRKSGQU128F14824E9   \n",
       "\n",
       "                                                     artist  \\\n",
       "0                                              Jack Johnson   \n",
       "1                                             Billy Preston   \n",
       "2                                             Paco De Lucia   \n",
       "3                                                Josh Rouse   \n",
       "4                                              The Dead 60s   \n",
       "...                                                     ...   \n",
       "48373516  Eminem / Obie Trice / Stat Quo / Bobby Creekwa...   \n",
       "48373517                                       Rise Against   \n",
       "48373518                          Usher featuring will.i.am   \n",
       "48373519                                    matchbox twenty   \n",
       "48373520                                        Linkin Park   \n",
       "\n",
       "                                    title  \n",
       "0                                The Cove  \n",
       "1                    Nothing from Nothing  \n",
       "2                         Entre Dos Aguas  \n",
       "3                   Under Cold Blue Stars  \n",
       "4         Riot Radio (Soundtrack Version)  \n",
       "...                                   ...  \n",
       "48373516                       We're Back  \n",
       "48373517                           Savior  \n",
       "48373518                              OMG  \n",
       "48373519         Downfall (Album Version)  \n",
       "48373520   Lying From You (Album Version)  \n",
       "\n",
       "[48373521 rows x 6 columns]"
      ]
     },
     "execution_count": 19,
     "metadata": {},
     "output_type": "execute_result"
    }
   ],
   "source": [
    "taste_df_cleaned = taste_df_merged.dropna()\n",
    "taste_df_cleaned.reset_index(inplace=True, drop=True)\n",
    "taste_df_cleaned"
   ]
  },
  {
   "cell_type": "markdown",
   "id": "ef165c5c",
   "metadata": {},
   "source": [
    "### checkpoint: save the merged dataset"
   ]
  },
  {
   "cell_type": "code",
   "execution_count": null,
   "id": "7c3d6b87",
   "metadata": {},
   "outputs": [],
   "source": [
    "taste_df_cleaned.to_csv('taste_profiles.csv')"
   ]
  },
  {
   "cell_type": "markdown",
   "id": "ea4b1931",
   "metadata": {},
   "source": [
    "### exploration: what does the dataset look like so far?"
   ]
  },
  {
   "cell_type": "code",
   "execution_count": null,
   "id": "d0fbecba",
   "metadata": {},
   "outputs": [],
   "source": []
  }
 ],
 "metadata": {
  "kernelspec": {
   "display_name": "Python 3 (ipykernel)",
   "language": "python",
   "name": "python3"
  },
  "language_info": {
   "codemirror_mode": {
    "name": "ipython",
    "version": 3
   },
   "file_extension": ".py",
   "mimetype": "text/x-python",
   "name": "python",
   "nbconvert_exporter": "python",
   "pygments_lexer": "ipython3",
   "version": "3.10.8"
  }
 },
 "nbformat": 4,
 "nbformat_minor": 5
}

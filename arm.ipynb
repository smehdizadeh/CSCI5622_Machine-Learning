{
 "cells": [
  {
   "cell_type": "markdown",
   "id": "03325297",
   "metadata": {},
   "source": [
    "### load libraries"
   ]
  },
  {
   "cell_type": "code",
   "execution_count": 1,
   "id": "2ef5cff6",
   "metadata": {},
   "outputs": [
    {
     "name": "stderr",
     "output_type": "stream",
     "text": [
      "Loading required package: Matrix\n",
      "\n",
      "\n",
      "Attaching package: 'arules'\n",
      "\n",
      "\n",
      "The following objects are masked from 'package:base':\n",
      "\n",
      "    abbreviate, write\n",
      "\n",
      "\n"
     ]
    }
   ],
   "source": [
    "library(arules)\n",
    "library(arulesViz)"
   ]
  },
  {
   "cell_type": "markdown",
   "id": "b5aaaf19",
   "metadata": {},
   "source": [
    "### load data"
   ]
  },
  {
   "cell_type": "code",
   "execution_count": 2,
   "id": "d4659364",
   "metadata": {},
   "outputs": [],
   "source": [
    "df_tran <- read.transactions('arm_data.txt', format=\"basket\", skip=1, sep=',')"
   ]
  },
  {
   "cell_type": "code",
   "execution_count": 3,
   "id": "959e7813",
   "metadata": {},
   "outputs": [
    {
     "name": "stdout",
     "output_type": "stream",
     "text": [
      "    items                    \n",
      "[1] {indie, pop}             \n",
      "[2] {indie, rock, trance}    \n",
      "[3] {metal, rock, trance}    \n",
      "[4] {rock}                   \n",
      "[5] {blues, metal, pop, rock}\n",
      "[6] {pop, rock}              \n"
     ]
    }
   ],
   "source": [
    "inspect(head(df_tran))"
   ]
  },
  {
   "cell_type": "code",
   "execution_count": 4,
   "id": "704d4f33",
   "metadata": {},
   "outputs": [
    {
     "data": {
      "text/plain": [
       "transactions in sparse format with\n",
       " 10000 transactions (rows) and\n",
       " 86 items (columns)"
      ]
     },
     "metadata": {},
     "output_type": "display_data"
    }
   ],
   "source": [
    "df_tran"
   ]
  }
 ],
 "metadata": {
  "kernelspec": {
   "display_name": "R",
   "language": "R",
   "name": "ir"
  },
  "language_info": {
   "codemirror_mode": "r",
   "file_extension": ".r",
   "mimetype": "text/x-r-source",
   "name": "R",
   "pygments_lexer": "r",
   "version": "4.2.2"
  }
 },
 "nbformat": 4,
 "nbformat_minor": 5
}

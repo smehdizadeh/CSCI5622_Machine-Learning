{
 "cells": [
  {
   "cell_type": "markdown",
   "id": "b7d150ea",
   "metadata": {},
   "source": [
    "### libraries"
   ]
  },
  {
   "cell_type": "code",
   "execution_count": 1,
   "id": "c974cf7b",
   "metadata": {},
   "outputs": [
    {
     "name": "stderr",
     "output_type": "stream",
     "text": [
      "Warning message:\n",
      "\"package 'e1071' was built under R version 4.2.3\"\n"
     ]
    }
   ],
   "source": [
    "library(e1071)"
   ]
  },
  {
   "cell_type": "markdown",
   "id": "f8e0298b",
   "metadata": {},
   "source": [
    "### load data\n",
    "\n",
    "Training:"
   ]
  },
  {
   "cell_type": "code",
   "execution_count": 14,
   "id": "1edc1777",
   "metadata": {},
   "outputs": [
    {
     "data": {
      "text/html": [
       "<table class=\"dataframe\">\n",
       "<caption>A data.frame: 6 × 5</caption>\n",
       "<thead>\n",
       "\t<tr><th></th><th scope=col>artistPop</th><th scope=col>trackPop</th><th scope=col>pref_dist6</th><th scope=col>pref_dist3</th><th scope=col>Preferred</th></tr>\n",
       "\t<tr><th></th><th scope=col>&lt;int&gt;</th><th scope=col>&lt;int&gt;</th><th scope=col>&lt;dbl&gt;</th><th scope=col>&lt;dbl&gt;</th><th scope=col>&lt;fct&gt;</th></tr>\n",
       "</thead>\n",
       "<tbody>\n",
       "\t<tr><th scope=row>1</th><td>76</td><td>70</td><td>0.9370117</td><td>0.9096775</td><td>1</td></tr>\n",
       "\t<tr><th scope=row>2</th><td>61</td><td> 3</td><td>0.8970217</td><td>0.8499501</td><td>0</td></tr>\n",
       "\t<tr><th scope=row>3</th><td>59</td><td>34</td><td>0.7397579</td><td>0.7128710</td><td>1</td></tr>\n",
       "\t<tr><th scope=row>4</th><td>49</td><td> 5</td><td>0.5791564</td><td>0.5312315</td><td>0</td></tr>\n",
       "\t<tr><th scope=row>5</th><td>72</td><td>50</td><td>0.9018998</td><td>0.9438479</td><td>0</td></tr>\n",
       "\t<tr><th scope=row>6</th><td>64</td><td>59</td><td>0.9937029</td><td>0.9960812</td><td>1</td></tr>\n",
       "</tbody>\n",
       "</table>\n"
      ],
      "text/latex": [
       "A data.frame: 6 × 5\n",
       "\\begin{tabular}{r|lllll}\n",
       "  & artistPop & trackPop & pref\\_dist6 & pref\\_dist3 & Preferred\\\\\n",
       "  & <int> & <int> & <dbl> & <dbl> & <fct>\\\\\n",
       "\\hline\n",
       "\t1 & 76 & 70 & 0.9370117 & 0.9096775 & 1\\\\\n",
       "\t2 & 61 &  3 & 0.8970217 & 0.8499501 & 0\\\\\n",
       "\t3 & 59 & 34 & 0.7397579 & 0.7128710 & 1\\\\\n",
       "\t4 & 49 &  5 & 0.5791564 & 0.5312315 & 0\\\\\n",
       "\t5 & 72 & 50 & 0.9018998 & 0.9438479 & 0\\\\\n",
       "\t6 & 64 & 59 & 0.9937029 & 0.9960812 & 1\\\\\n",
       "\\end{tabular}\n"
      ],
      "text/markdown": [
       "\n",
       "A data.frame: 6 × 5\n",
       "\n",
       "| <!--/--> | artistPop &lt;int&gt; | trackPop &lt;int&gt; | pref_dist6 &lt;dbl&gt; | pref_dist3 &lt;dbl&gt; | Preferred &lt;fct&gt; |\n",
       "|---|---|---|---|---|---|\n",
       "| 1 | 76 | 70 | 0.9370117 | 0.9096775 | 1 |\n",
       "| 2 | 61 |  3 | 0.8970217 | 0.8499501 | 0 |\n",
       "| 3 | 59 | 34 | 0.7397579 | 0.7128710 | 1 |\n",
       "| 4 | 49 |  5 | 0.5791564 | 0.5312315 | 0 |\n",
       "| 5 | 72 | 50 | 0.9018998 | 0.9438479 | 0 |\n",
       "| 6 | 64 | 59 | 0.9937029 | 0.9960812 | 1 |\n",
       "\n"
      ],
      "text/plain": [
       "  artistPop trackPop pref_dist6 pref_dist3 Preferred\n",
       "1 76        70       0.9370117  0.9096775  1        \n",
       "2 61         3       0.8970217  0.8499501  0        \n",
       "3 59        34       0.7397579  0.7128710  1        \n",
       "4 49         5       0.5791564  0.5312315  0        \n",
       "5 72        50       0.9018998  0.9438479  0        \n",
       "6 64        59       0.9937029  0.9960812  1        "
      ]
     },
     "metadata": {},
     "output_type": "display_data"
    }
   ],
   "source": [
    "df_train <- read.csv(\"SVM_train.csv\", header=TRUE)\n",
    "df_train <- df_train[2:6]\n",
    "\n",
    "df_train$Preferred <- factor(df_train$Preferred)\n",
    "\n",
    "head(df_train)"
   ]
  },
  {
   "cell_type": "markdown",
   "id": "fb74c2a6",
   "metadata": {},
   "source": [
    "Testing:"
   ]
  },
  {
   "cell_type": "code",
   "execution_count": 15,
   "id": "630645ae",
   "metadata": {},
   "outputs": [
    {
     "data": {
      "text/html": [
       "<table class=\"dataframe\">\n",
       "<caption>A data.frame: 6 × 5</caption>\n",
       "<thead>\n",
       "\t<tr><th></th><th scope=col>artistPop</th><th scope=col>trackPop</th><th scope=col>pref_dist6</th><th scope=col>pref_dist3</th><th scope=col>Preferred</th></tr>\n",
       "\t<tr><th></th><th scope=col>&lt;int&gt;</th><th scope=col>&lt;int&gt;</th><th scope=col>&lt;dbl&gt;</th><th scope=col>&lt;dbl&gt;</th><th scope=col>&lt;fct&gt;</th></tr>\n",
       "</thead>\n",
       "<tbody>\n",
       "\t<tr><th scope=row>1</th><td>31</td><td> 6</td><td>0.7925409</td><td>0.7099879</td><td>0</td></tr>\n",
       "\t<tr><th scope=row>2</th><td>60</td><td>59</td><td>0.9860911</td><td>0.9848305</td><td>1</td></tr>\n",
       "\t<tr><th scope=row>3</th><td>38</td><td> 7</td><td>0.9225591</td><td>0.9270121</td><td>1</td></tr>\n",
       "\t<tr><th scope=row>4</th><td>79</td><td>67</td><td>1.0000000</td><td>1.0000000</td><td>1</td></tr>\n",
       "\t<tr><th scope=row>5</th><td>38</td><td>43</td><td>0.9180438</td><td>0.9782298</td><td>1</td></tr>\n",
       "\t<tr><th scope=row>6</th><td>72</td><td>35</td><td>0.8998447</td><td>0.9271644</td><td>1</td></tr>\n",
       "</tbody>\n",
       "</table>\n"
      ],
      "text/latex": [
       "A data.frame: 6 × 5\n",
       "\\begin{tabular}{r|lllll}\n",
       "  & artistPop & trackPop & pref\\_dist6 & pref\\_dist3 & Preferred\\\\\n",
       "  & <int> & <int> & <dbl> & <dbl> & <fct>\\\\\n",
       "\\hline\n",
       "\t1 & 31 &  6 & 0.7925409 & 0.7099879 & 0\\\\\n",
       "\t2 & 60 & 59 & 0.9860911 & 0.9848305 & 1\\\\\n",
       "\t3 & 38 &  7 & 0.9225591 & 0.9270121 & 1\\\\\n",
       "\t4 & 79 & 67 & 1.0000000 & 1.0000000 & 1\\\\\n",
       "\t5 & 38 & 43 & 0.9180438 & 0.9782298 & 1\\\\\n",
       "\t6 & 72 & 35 & 0.8998447 & 0.9271644 & 1\\\\\n",
       "\\end{tabular}\n"
      ],
      "text/markdown": [
       "\n",
       "A data.frame: 6 × 5\n",
       "\n",
       "| <!--/--> | artistPop &lt;int&gt; | trackPop &lt;int&gt; | pref_dist6 &lt;dbl&gt; | pref_dist3 &lt;dbl&gt; | Preferred &lt;fct&gt; |\n",
       "|---|---|---|---|---|---|\n",
       "| 1 | 31 |  6 | 0.7925409 | 0.7099879 | 0 |\n",
       "| 2 | 60 | 59 | 0.9860911 | 0.9848305 | 1 |\n",
       "| 3 | 38 |  7 | 0.9225591 | 0.9270121 | 1 |\n",
       "| 4 | 79 | 67 | 1.0000000 | 1.0000000 | 1 |\n",
       "| 5 | 38 | 43 | 0.9180438 | 0.9782298 | 1 |\n",
       "| 6 | 72 | 35 | 0.8998447 | 0.9271644 | 1 |\n",
       "\n"
      ],
      "text/plain": [
       "  artistPop trackPop pref_dist6 pref_dist3 Preferred\n",
       "1 31         6       0.7925409  0.7099879  0        \n",
       "2 60        59       0.9860911  0.9848305  1        \n",
       "3 38         7       0.9225591  0.9270121  1        \n",
       "4 79        67       1.0000000  1.0000000  1        \n",
       "5 38        43       0.9180438  0.9782298  1        \n",
       "6 72        35       0.8998447  0.9271644  1        "
      ]
     },
     "metadata": {},
     "output_type": "display_data"
    }
   ],
   "source": [
    "df_test <- read.csv(\"SVM_test.csv\", header=TRUE)\n",
    "df_test <- df_test[2:6]\n",
    "\n",
    "df_test$Preferred <- factor(df_test$Preferred)\n",
    "\n",
    "head(df_test)"
   ]
  },
  {
   "cell_type": "markdown",
   "id": "9bda3c9c",
   "metadata": {},
   "source": [
    "### SVM with linear kernel\n",
    "\n",
    "Experiment with cost = 0.001, 0.1, 1, 10, 50\n",
    "\n",
    "Model: Preferred ~ artistPop + trackPop + pref_dist6"
   ]
  },
  {
   "cell_type": "code",
   "execution_count": 29,
   "id": "c87b5dbd",
   "metadata": {},
   "outputs": [
    {
     "data": {
      "text/html": [
       "<table class=\"dataframe\">\n",
       "<caption>A data.frame: 5 × 3</caption>\n",
       "<thead>\n",
       "\t<tr><th scope=col>costs</th><th scope=col>train_acc</th><th scope=col>test_acc</th></tr>\n",
       "\t<tr><th scope=col>&lt;dbl&gt;</th><th scope=col>&lt;dbl&gt;</th><th scope=col>&lt;dbl&gt;</th></tr>\n",
       "</thead>\n",
       "<tbody>\n",
       "\t<tr><td>1e-03</td><td>0.5125</td><td>0.45</td></tr>\n",
       "\t<tr><td>1e-01</td><td>0.5525</td><td>0.55</td></tr>\n",
       "\t<tr><td>1e+00</td><td>0.5500</td><td>0.55</td></tr>\n",
       "\t<tr><td>1e+01</td><td>0.5450</td><td>0.53</td></tr>\n",
       "\t<tr><td>5e+01</td><td>0.5450</td><td>0.53</td></tr>\n",
       "</tbody>\n",
       "</table>\n"
      ],
      "text/latex": [
       "A data.frame: 5 × 3\n",
       "\\begin{tabular}{lll}\n",
       " costs & train\\_acc & test\\_acc\\\\\n",
       " <dbl> & <dbl> & <dbl>\\\\\n",
       "\\hline\n",
       "\t 1e-03 & 0.5125 & 0.45\\\\\n",
       "\t 1e-01 & 0.5525 & 0.55\\\\\n",
       "\t 1e+00 & 0.5500 & 0.55\\\\\n",
       "\t 1e+01 & 0.5450 & 0.53\\\\\n",
       "\t 5e+01 & 0.5450 & 0.53\\\\\n",
       "\\end{tabular}\n"
      ],
      "text/markdown": [
       "\n",
       "A data.frame: 5 × 3\n",
       "\n",
       "| costs &lt;dbl&gt; | train_acc &lt;dbl&gt; | test_acc &lt;dbl&gt; |\n",
       "|---|---|---|\n",
       "| 1e-03 | 0.5125 | 0.45 |\n",
       "| 1e-01 | 0.5525 | 0.55 |\n",
       "| 1e+00 | 0.5500 | 0.55 |\n",
       "| 1e+01 | 0.5450 | 0.53 |\n",
       "| 5e+01 | 0.5450 | 0.53 |\n",
       "\n"
      ],
      "text/plain": [
       "  costs train_acc test_acc\n",
       "1 1e-03 0.5125    0.45    \n",
       "2 1e-01 0.5525    0.55    \n",
       "3 1e+00 0.5500    0.55    \n",
       "4 1e+01 0.5450    0.53    \n",
       "5 5e+01 0.5450    0.53    "
      ]
     },
     "metadata": {},
     "output_type": "display_data"
    }
   ],
   "source": [
    "costs <- c(0.001, 0.1, 1, 10, 50)\n",
    "train_acc <- rep(0, length(costs))\n",
    "test_acc <- rep(0, length(costs))\n",
    "\n",
    "for (i in 1:length(costs)) {\n",
    "    model1 <- svm(Preferred ~ artistPop + trackPop + pref_dist6, data=df_train, kernel='linear', cost=costs[i])\n",
    "    train_tbl <- table(df_train$Preferred, predict(model1))\n",
    "    test_tbl <- table(df_test$Preferred, predict(model1, newdata=df_test))\n",
    "    \n",
    "    train_acc[i] <- sum(diag(train_tbl))/sum(train_tbl)\n",
    "    test_acc[i] <- sum(diag(test_tbl))/sum(test_tbl)\n",
    "}\n",
    "\n",
    "data.frame(costs, train_acc, test_acc)"
   ]
  },
  {
   "cell_type": "markdown",
   "id": "0df46b5d",
   "metadata": {},
   "source": [
    "Model: Preferred ~ artistPop + trackPop + pref_dist3"
   ]
  },
  {
   "cell_type": "code",
   "execution_count": 30,
   "id": "642f0881",
   "metadata": {
    "scrolled": false
   },
   "outputs": [
    {
     "data": {
      "text/html": [
       "<table class=\"dataframe\">\n",
       "<caption>A data.frame: 5 × 3</caption>\n",
       "<thead>\n",
       "\t<tr><th scope=col>costs</th><th scope=col>train_acc</th><th scope=col>test_acc</th></tr>\n",
       "\t<tr><th scope=col>&lt;dbl&gt;</th><th scope=col>&lt;dbl&gt;</th><th scope=col>&lt;dbl&gt;</th></tr>\n",
       "</thead>\n",
       "<tbody>\n",
       "\t<tr><td>1e-03</td><td>0.5125</td><td>0.45</td></tr>\n",
       "\t<tr><td>1e-01</td><td>0.5375</td><td>0.53</td></tr>\n",
       "\t<tr><td>1e+00</td><td>0.5500</td><td>0.51</td></tr>\n",
       "\t<tr><td>1e+01</td><td>0.5500</td><td>0.51</td></tr>\n",
       "\t<tr><td>5e+01</td><td>0.5500</td><td>0.51</td></tr>\n",
       "</tbody>\n",
       "</table>\n"
      ],
      "text/latex": [
       "A data.frame: 5 × 3\n",
       "\\begin{tabular}{lll}\n",
       " costs & train\\_acc & test\\_acc\\\\\n",
       " <dbl> & <dbl> & <dbl>\\\\\n",
       "\\hline\n",
       "\t 1e-03 & 0.5125 & 0.45\\\\\n",
       "\t 1e-01 & 0.5375 & 0.53\\\\\n",
       "\t 1e+00 & 0.5500 & 0.51\\\\\n",
       "\t 1e+01 & 0.5500 & 0.51\\\\\n",
       "\t 5e+01 & 0.5500 & 0.51\\\\\n",
       "\\end{tabular}\n"
      ],
      "text/markdown": [
       "\n",
       "A data.frame: 5 × 3\n",
       "\n",
       "| costs &lt;dbl&gt; | train_acc &lt;dbl&gt; | test_acc &lt;dbl&gt; |\n",
       "|---|---|---|\n",
       "| 1e-03 | 0.5125 | 0.45 |\n",
       "| 1e-01 | 0.5375 | 0.53 |\n",
       "| 1e+00 | 0.5500 | 0.51 |\n",
       "| 1e+01 | 0.5500 | 0.51 |\n",
       "| 5e+01 | 0.5500 | 0.51 |\n",
       "\n"
      ],
      "text/plain": [
       "  costs train_acc test_acc\n",
       "1 1e-03 0.5125    0.45    \n",
       "2 1e-01 0.5375    0.53    \n",
       "3 1e+00 0.5500    0.51    \n",
       "4 1e+01 0.5500    0.51    \n",
       "5 5e+01 0.5500    0.51    "
      ]
     },
     "metadata": {},
     "output_type": "display_data"
    }
   ],
   "source": [
    "costs <- c(0.001, 0.1, 1, 10, 50)\n",
    "train_acc <- rep(0, length(costs))\n",
    "test_acc <- rep(0, length(costs))\n",
    "\n",
    "for (i in 1:length(costs)) {\n",
    "    model1 <- svm(Preferred ~ artistPop + trackPop + pref_dist3, data=df_train, kernel='linear', cost=costs[i])\n",
    "    train_tbl <- table(df_train$Preferred, predict(model1))\n",
    "    test_tbl <- table(df_test$Preferred, predict(model1, newdata=df_test))\n",
    "    \n",
    "    train_acc[i] <- sum(diag(train_tbl))/sum(train_tbl)\n",
    "    test_acc[i] <- sum(diag(test_tbl))/sum(test_tbl)\n",
    "}\n",
    "\n",
    "data.frame(costs, train_acc, test_acc)"
   ]
  },
  {
   "cell_type": "markdown",
   "id": "9bc6fd37",
   "metadata": {},
   "source": [
    "Model: Preferred ~ artistPop + trackPop + pref_dist6 + pref_dist3"
   ]
  },
  {
   "cell_type": "code",
   "execution_count": 56,
   "id": "15d3c29e",
   "metadata": {},
   "outputs": [
    {
     "data": {
      "text/html": [
       "<table class=\"dataframe\">\n",
       "<caption>A data.frame: 5 × 3</caption>\n",
       "<thead>\n",
       "\t<tr><th scope=col>costs</th><th scope=col>train_acc</th><th scope=col>test_acc</th></tr>\n",
       "\t<tr><th scope=col>&lt;dbl&gt;</th><th scope=col>&lt;dbl&gt;</th><th scope=col>&lt;dbl&gt;</th></tr>\n",
       "</thead>\n",
       "<tbody>\n",
       "\t<tr><td>1e-03</td><td>0.5125</td><td>0.45</td></tr>\n",
       "\t<tr><td>1e-01</td><td>0.5500</td><td>0.59</td></tr>\n",
       "\t<tr><td>1e+00</td><td>0.5800</td><td>0.56</td></tr>\n",
       "\t<tr><td>1e+01</td><td>0.5850</td><td>0.57</td></tr>\n",
       "\t<tr><td>5e+01</td><td>0.5850</td><td>0.57</td></tr>\n",
       "</tbody>\n",
       "</table>\n"
      ],
      "text/latex": [
       "A data.frame: 5 × 3\n",
       "\\begin{tabular}{lll}\n",
       " costs & train\\_acc & test\\_acc\\\\\n",
       " <dbl> & <dbl> & <dbl>\\\\\n",
       "\\hline\n",
       "\t 1e-03 & 0.5125 & 0.45\\\\\n",
       "\t 1e-01 & 0.5500 & 0.59\\\\\n",
       "\t 1e+00 & 0.5800 & 0.56\\\\\n",
       "\t 1e+01 & 0.5850 & 0.57\\\\\n",
       "\t 5e+01 & 0.5850 & 0.57\\\\\n",
       "\\end{tabular}\n"
      ],
      "text/markdown": [
       "\n",
       "A data.frame: 5 × 3\n",
       "\n",
       "| costs &lt;dbl&gt; | train_acc &lt;dbl&gt; | test_acc &lt;dbl&gt; |\n",
       "|---|---|---|\n",
       "| 1e-03 | 0.5125 | 0.45 |\n",
       "| 1e-01 | 0.5500 | 0.59 |\n",
       "| 1e+00 | 0.5800 | 0.56 |\n",
       "| 1e+01 | 0.5850 | 0.57 |\n",
       "| 5e+01 | 0.5850 | 0.57 |\n",
       "\n"
      ],
      "text/plain": [
       "  costs train_acc test_acc\n",
       "1 1e-03 0.5125    0.45    \n",
       "2 1e-01 0.5500    0.59    \n",
       "3 1e+00 0.5800    0.56    \n",
       "4 1e+01 0.5850    0.57    \n",
       "5 5e+01 0.5850    0.57    "
      ]
     },
     "metadata": {},
     "output_type": "display_data"
    }
   ],
   "source": [
    "costs <- c(0.001, 0.1, 1, 10, 50)\n",
    "train_acc <- rep(0, length(costs))\n",
    "test_acc <- rep(0, length(costs))\n",
    "\n",
    "for (i in 1:length(costs)) {\n",
    "    model1 <- svm(Preferred ~ ., data=df_train, kernel='linear', cost=costs[i])\n",
    "    train_tbl <- table(df_train$Preferred, predict(model1))\n",
    "    test_tbl <- table(df_test$Preferred, predict(model1, newdata=df_test))\n",
    "    \n",
    "    train_acc[i] <- sum(diag(train_tbl))/sum(train_tbl)\n",
    "    test_acc[i] <- sum(diag(test_tbl))/sum(test_tbl)\n",
    "}\n",
    "\n",
    "data.frame(costs, train_acc, test_acc)"
   ]
  },
  {
   "cell_type": "code",
   "execution_count": 57,
   "id": "df0daabd",
   "metadata": {},
   "outputs": [
    {
     "data": {
      "text/plain": [
       "   \n",
       "     0  1\n",
       "  0 37  8\n",
       "  1 33 22"
      ]
     },
     "metadata": {},
     "output_type": "display_data"
    },
    {
     "data": {
      "text/html": [
       "0.59"
      ],
      "text/latex": [
       "0.59"
      ],
      "text/markdown": [
       "0.59"
      ],
      "text/plain": [
       "[1] 0.59"
      ]
     },
     "metadata": {},
     "output_type": "display_data"
    }
   ],
   "source": [
    "linear_model <- svm(Preferred ~ ., data=df_train, kernel='linear', cost=0.1)\n",
    "test_tbl <- table(df_test$Preferred, predict(linear_model, newdata=df_test))\n",
    "test_tbl\n",
    "sum(diag(test_tbl))/sum(test_tbl)"
   ]
  },
  {
   "cell_type": "markdown",
   "id": "7d36deaf",
   "metadata": {},
   "source": [
    "### SVM with RBF kernel\n",
    "\n",
    "Experiment with cost = 0.001, 0.1, 1, 10, 50, and gamma = 0.16, 0.33, 0.49\n",
    "\n",
    "Model: Preferred ~ artistPop + trackPop + pref_dist6"
   ]
  },
  {
   "cell_type": "code",
   "execution_count": 64,
   "id": "b50740fe",
   "metadata": {},
   "outputs": [
    {
     "data": {
      "text/html": [
       "<table class=\"dataframe\">\n",
       "<caption>A data.frame: 5 × 4</caption>\n",
       "<thead>\n",
       "\t<tr><th scope=col>costs</th><th scope=col>train_acc</th><th scope=col>test_acc</th><th scope=col>gamma</th></tr>\n",
       "\t<tr><th scope=col>&lt;dbl&gt;</th><th scope=col>&lt;dbl&gt;</th><th scope=col>&lt;dbl&gt;</th><th scope=col>&lt;dbl&gt;</th></tr>\n",
       "</thead>\n",
       "<tbody>\n",
       "\t<tr><td>1e-03</td><td>0.5125</td><td>0.45</td><td>0.16</td></tr>\n",
       "\t<tr><td>1e-01</td><td>0.5225</td><td>0.47</td><td>0.16</td></tr>\n",
       "\t<tr><td>1e+00</td><td>0.5975</td><td>0.54</td><td>0.16</td></tr>\n",
       "\t<tr><td>1e+01</td><td>0.6150</td><td>0.47</td><td>0.16</td></tr>\n",
       "\t<tr><td>5e+01</td><td>0.6250</td><td>0.44</td><td>0.16</td></tr>\n",
       "</tbody>\n",
       "</table>\n"
      ],
      "text/latex": [
       "A data.frame: 5 × 4\n",
       "\\begin{tabular}{llll}\n",
       " costs & train\\_acc & test\\_acc & gamma\\\\\n",
       " <dbl> & <dbl> & <dbl> & <dbl>\\\\\n",
       "\\hline\n",
       "\t 1e-03 & 0.5125 & 0.45 & 0.16\\\\\n",
       "\t 1e-01 & 0.5225 & 0.47 & 0.16\\\\\n",
       "\t 1e+00 & 0.5975 & 0.54 & 0.16\\\\\n",
       "\t 1e+01 & 0.6150 & 0.47 & 0.16\\\\\n",
       "\t 5e+01 & 0.6250 & 0.44 & 0.16\\\\\n",
       "\\end{tabular}\n"
      ],
      "text/markdown": [
       "\n",
       "A data.frame: 5 × 4\n",
       "\n",
       "| costs &lt;dbl&gt; | train_acc &lt;dbl&gt; | test_acc &lt;dbl&gt; | gamma &lt;dbl&gt; |\n",
       "|---|---|---|---|\n",
       "| 1e-03 | 0.5125 | 0.45 | 0.16 |\n",
       "| 1e-01 | 0.5225 | 0.47 | 0.16 |\n",
       "| 1e+00 | 0.5975 | 0.54 | 0.16 |\n",
       "| 1e+01 | 0.6150 | 0.47 | 0.16 |\n",
       "| 5e+01 | 0.6250 | 0.44 | 0.16 |\n",
       "\n"
      ],
      "text/plain": [
       "  costs train_acc test_acc gamma\n",
       "1 1e-03 0.5125    0.45     0.16 \n",
       "2 1e-01 0.5225    0.47     0.16 \n",
       "3 1e+00 0.5975    0.54     0.16 \n",
       "4 1e+01 0.6150    0.47     0.16 \n",
       "5 5e+01 0.6250    0.44     0.16 "
      ]
     },
     "metadata": {},
     "output_type": "display_data"
    },
    {
     "data": {
      "text/html": [
       "<table class=\"dataframe\">\n",
       "<caption>A data.frame: 5 × 4</caption>\n",
       "<thead>\n",
       "\t<tr><th scope=col>costs</th><th scope=col>train_acc</th><th scope=col>test_acc</th><th scope=col>gamma</th></tr>\n",
       "\t<tr><th scope=col>&lt;dbl&gt;</th><th scope=col>&lt;dbl&gt;</th><th scope=col>&lt;dbl&gt;</th><th scope=col>&lt;dbl&gt;</th></tr>\n",
       "</thead>\n",
       "<tbody>\n",
       "\t<tr><td>1e-03</td><td>0.5125</td><td>0.45</td><td>0.33</td></tr>\n",
       "\t<tr><td>1e-01</td><td>0.5300</td><td>0.46</td><td>0.33</td></tr>\n",
       "\t<tr><td>1e+00</td><td>0.6175</td><td>0.45</td><td>0.33</td></tr>\n",
       "\t<tr><td>1e+01</td><td>0.6650</td><td>0.47</td><td>0.33</td></tr>\n",
       "\t<tr><td>5e+01</td><td>0.6775</td><td>0.49</td><td>0.33</td></tr>\n",
       "</tbody>\n",
       "</table>\n"
      ],
      "text/latex": [
       "A data.frame: 5 × 4\n",
       "\\begin{tabular}{llll}\n",
       " costs & train\\_acc & test\\_acc & gamma\\\\\n",
       " <dbl> & <dbl> & <dbl> & <dbl>\\\\\n",
       "\\hline\n",
       "\t 1e-03 & 0.5125 & 0.45 & 0.33\\\\\n",
       "\t 1e-01 & 0.5300 & 0.46 & 0.33\\\\\n",
       "\t 1e+00 & 0.6175 & 0.45 & 0.33\\\\\n",
       "\t 1e+01 & 0.6650 & 0.47 & 0.33\\\\\n",
       "\t 5e+01 & 0.6775 & 0.49 & 0.33\\\\\n",
       "\\end{tabular}\n"
      ],
      "text/markdown": [
       "\n",
       "A data.frame: 5 × 4\n",
       "\n",
       "| costs &lt;dbl&gt; | train_acc &lt;dbl&gt; | test_acc &lt;dbl&gt; | gamma &lt;dbl&gt; |\n",
       "|---|---|---|---|\n",
       "| 1e-03 | 0.5125 | 0.45 | 0.33 |\n",
       "| 1e-01 | 0.5300 | 0.46 | 0.33 |\n",
       "| 1e+00 | 0.6175 | 0.45 | 0.33 |\n",
       "| 1e+01 | 0.6650 | 0.47 | 0.33 |\n",
       "| 5e+01 | 0.6775 | 0.49 | 0.33 |\n",
       "\n"
      ],
      "text/plain": [
       "  costs train_acc test_acc gamma\n",
       "1 1e-03 0.5125    0.45     0.33 \n",
       "2 1e-01 0.5300    0.46     0.33 \n",
       "3 1e+00 0.6175    0.45     0.33 \n",
       "4 1e+01 0.6650    0.47     0.33 \n",
       "5 5e+01 0.6775    0.49     0.33 "
      ]
     },
     "metadata": {},
     "output_type": "display_data"
    },
    {
     "data": {
      "text/html": [
       "<table class=\"dataframe\">\n",
       "<caption>A data.frame: 5 × 4</caption>\n",
       "<thead>\n",
       "\t<tr><th scope=col>costs</th><th scope=col>train_acc</th><th scope=col>test_acc</th><th scope=col>gamma</th></tr>\n",
       "\t<tr><th scope=col>&lt;dbl&gt;</th><th scope=col>&lt;dbl&gt;</th><th scope=col>&lt;dbl&gt;</th><th scope=col>&lt;dbl&gt;</th></tr>\n",
       "</thead>\n",
       "<tbody>\n",
       "\t<tr><td>1e-03</td><td>0.5125</td><td>0.45</td><td>0.49</td></tr>\n",
       "\t<tr><td>1e-01</td><td>0.5150</td><td>0.43</td><td>0.49</td></tr>\n",
       "\t<tr><td>1e+00</td><td>0.6300</td><td>0.48</td><td>0.49</td></tr>\n",
       "\t<tr><td>1e+01</td><td>0.6850</td><td>0.50</td><td>0.49</td></tr>\n",
       "\t<tr><td>5e+01</td><td>0.7100</td><td>0.43</td><td>0.49</td></tr>\n",
       "</tbody>\n",
       "</table>\n"
      ],
      "text/latex": [
       "A data.frame: 5 × 4\n",
       "\\begin{tabular}{llll}\n",
       " costs & train\\_acc & test\\_acc & gamma\\\\\n",
       " <dbl> & <dbl> & <dbl> & <dbl>\\\\\n",
       "\\hline\n",
       "\t 1e-03 & 0.5125 & 0.45 & 0.49\\\\\n",
       "\t 1e-01 & 0.5150 & 0.43 & 0.49\\\\\n",
       "\t 1e+00 & 0.6300 & 0.48 & 0.49\\\\\n",
       "\t 1e+01 & 0.6850 & 0.50 & 0.49\\\\\n",
       "\t 5e+01 & 0.7100 & 0.43 & 0.49\\\\\n",
       "\\end{tabular}\n"
      ],
      "text/markdown": [
       "\n",
       "A data.frame: 5 × 4\n",
       "\n",
       "| costs &lt;dbl&gt; | train_acc &lt;dbl&gt; | test_acc &lt;dbl&gt; | gamma &lt;dbl&gt; |\n",
       "|---|---|---|---|\n",
       "| 1e-03 | 0.5125 | 0.45 | 0.49 |\n",
       "| 1e-01 | 0.5150 | 0.43 | 0.49 |\n",
       "| 1e+00 | 0.6300 | 0.48 | 0.49 |\n",
       "| 1e+01 | 0.6850 | 0.50 | 0.49 |\n",
       "| 5e+01 | 0.7100 | 0.43 | 0.49 |\n",
       "\n"
      ],
      "text/plain": [
       "  costs train_acc test_acc gamma\n",
       "1 1e-03 0.5125    0.45     0.49 \n",
       "2 1e-01 0.5150    0.43     0.49 \n",
       "3 1e+00 0.6300    0.48     0.49 \n",
       "4 1e+01 0.6850    0.50     0.49 \n",
       "5 5e+01 0.7100    0.43     0.49 "
      ]
     },
     "metadata": {},
     "output_type": "display_data"
    }
   ],
   "source": [
    "costs <- c(0.001, 0.1, 1, 10, 50)\n",
    "gamma <- c(0.16, 0.16, 0.16, 0.16, 0.16)\n",
    "train_acc <- rep(0, length(costs))\n",
    "test_acc <- rep(0, length(costs))\n",
    "\n",
    "for (i in 1:length(costs)) {\n",
    "    model1 <- svm(Preferred ~ artistPop + trackPop + pref_dist6, data=df_train, kernel='radial', cost=costs[i], gamma=0.16)\n",
    "    train_tbl <- table(df_train$Preferred, predict(model1))\n",
    "    test_tbl <- table(df_test$Preferred, predict(model1, newdata=df_test))\n",
    "    \n",
    "    train_acc[i] <- sum(diag(train_tbl))/sum(train_tbl)\n",
    "    test_acc[i] <- sum(diag(test_tbl))/sum(test_tbl)\n",
    "}\n",
    "\n",
    "data.frame(costs, train_acc, test_acc, gamma)\n",
    "\n",
    "gamma <- c(0.33, 0.33, 0.33, 0.33, 0.33)\n",
    "train_acc <- rep(0, length(costs))\n",
    "test_acc <- rep(0, length(costs))\n",
    "\n",
    "for (i in 1:length(costs)) {\n",
    "    model1 <- svm(Preferred ~ artistPop + trackPop + pref_dist6, data=df_train, kernel='radial', cost=costs[i], gamma=0.33)\n",
    "    train_tbl <- table(df_train$Preferred, predict(model1))\n",
    "    test_tbl <- table(df_test$Preferred, predict(model1, newdata=df_test))\n",
    "    \n",
    "    train_acc[i] <- sum(diag(train_tbl))/sum(train_tbl)\n",
    "    test_acc[i] <- sum(diag(test_tbl))/sum(test_tbl)\n",
    "}\n",
    "\n",
    "data.frame(costs, train_acc, test_acc, gamma)\n",
    "\n",
    "gamma <- c(0.49, 0.49, 0.49, 0.49, 0.49)\n",
    "train_acc <- rep(0, length(costs))\n",
    "test_acc <- rep(0, length(costs))\n",
    "\n",
    "for (i in 1:length(costs)) {\n",
    "    model1 <- svm(Preferred ~ artistPop + trackPop + pref_dist6, data=df_train, kernel='radial', cost=costs[i], gamma=0.49)\n",
    "    train_tbl <- table(df_train$Preferred, predict(model1))\n",
    "    test_tbl <- table(df_test$Preferred, predict(model1, newdata=df_test))\n",
    "    \n",
    "    train_acc[i] <- sum(diag(train_tbl))/sum(train_tbl)\n",
    "    test_acc[i] <- sum(diag(test_tbl))/sum(test_tbl)\n",
    "}\n",
    "\n",
    "data.frame(costs, train_acc, test_acc, gamma)"
   ]
  },
  {
   "cell_type": "markdown",
   "id": "a0846cb2",
   "metadata": {},
   "source": [
    "Model: Preferred ~ artistPop + trackPop + pref_dist6 + pref_dist3"
   ]
  },
  {
   "cell_type": "code",
   "execution_count": 65,
   "id": "543cde1a",
   "metadata": {},
   "outputs": [
    {
     "data": {
      "text/html": [
       "<table class=\"dataframe\">\n",
       "<caption>A data.frame: 5 × 4</caption>\n",
       "<thead>\n",
       "\t<tr><th scope=col>costs</th><th scope=col>train_acc</th><th scope=col>test_acc</th><th scope=col>gamma</th></tr>\n",
       "\t<tr><th scope=col>&lt;dbl&gt;</th><th scope=col>&lt;dbl&gt;</th><th scope=col>&lt;dbl&gt;</th><th scope=col>&lt;dbl&gt;</th></tr>\n",
       "</thead>\n",
       "<tbody>\n",
       "\t<tr><td>1e-03</td><td>0.5125</td><td>0.45</td><td>0.16</td></tr>\n",
       "\t<tr><td>1e-01</td><td>0.5225</td><td>0.48</td><td>0.16</td></tr>\n",
       "\t<tr><td>1e+00</td><td>0.5850</td><td>0.51</td><td>0.16</td></tr>\n",
       "\t<tr><td>1e+01</td><td>0.6100</td><td>0.41</td><td>0.16</td></tr>\n",
       "\t<tr><td>5e+01</td><td>0.6425</td><td>0.43</td><td>0.16</td></tr>\n",
       "</tbody>\n",
       "</table>\n"
      ],
      "text/latex": [
       "A data.frame: 5 × 4\n",
       "\\begin{tabular}{llll}\n",
       " costs & train\\_acc & test\\_acc & gamma\\\\\n",
       " <dbl> & <dbl> & <dbl> & <dbl>\\\\\n",
       "\\hline\n",
       "\t 1e-03 & 0.5125 & 0.45 & 0.16\\\\\n",
       "\t 1e-01 & 0.5225 & 0.48 & 0.16\\\\\n",
       "\t 1e+00 & 0.5850 & 0.51 & 0.16\\\\\n",
       "\t 1e+01 & 0.6100 & 0.41 & 0.16\\\\\n",
       "\t 5e+01 & 0.6425 & 0.43 & 0.16\\\\\n",
       "\\end{tabular}\n"
      ],
      "text/markdown": [
       "\n",
       "A data.frame: 5 × 4\n",
       "\n",
       "| costs &lt;dbl&gt; | train_acc &lt;dbl&gt; | test_acc &lt;dbl&gt; | gamma &lt;dbl&gt; |\n",
       "|---|---|---|---|\n",
       "| 1e-03 | 0.5125 | 0.45 | 0.16 |\n",
       "| 1e-01 | 0.5225 | 0.48 | 0.16 |\n",
       "| 1e+00 | 0.5850 | 0.51 | 0.16 |\n",
       "| 1e+01 | 0.6100 | 0.41 | 0.16 |\n",
       "| 5e+01 | 0.6425 | 0.43 | 0.16 |\n",
       "\n"
      ],
      "text/plain": [
       "  costs train_acc test_acc gamma\n",
       "1 1e-03 0.5125    0.45     0.16 \n",
       "2 1e-01 0.5225    0.48     0.16 \n",
       "3 1e+00 0.5850    0.51     0.16 \n",
       "4 1e+01 0.6100    0.41     0.16 \n",
       "5 5e+01 0.6425    0.43     0.16 "
      ]
     },
     "metadata": {},
     "output_type": "display_data"
    },
    {
     "data": {
      "text/html": [
       "<table class=\"dataframe\">\n",
       "<caption>A data.frame: 5 × 4</caption>\n",
       "<thead>\n",
       "\t<tr><th scope=col>costs</th><th scope=col>train_acc</th><th scope=col>test_acc</th><th scope=col>gamma</th></tr>\n",
       "\t<tr><th scope=col>&lt;dbl&gt;</th><th scope=col>&lt;dbl&gt;</th><th scope=col>&lt;dbl&gt;</th><th scope=col>&lt;dbl&gt;</th></tr>\n",
       "</thead>\n",
       "<tbody>\n",
       "\t<tr><td>1e-03</td><td>0.5125</td><td>0.45</td><td>0.33</td></tr>\n",
       "\t<tr><td>1e-01</td><td>0.5300</td><td>0.48</td><td>0.33</td></tr>\n",
       "\t<tr><td>1e+00</td><td>0.5925</td><td>0.43</td><td>0.33</td></tr>\n",
       "\t<tr><td>1e+01</td><td>0.6350</td><td>0.44</td><td>0.33</td></tr>\n",
       "\t<tr><td>5e+01</td><td>0.6675</td><td>0.43</td><td>0.33</td></tr>\n",
       "</tbody>\n",
       "</table>\n"
      ],
      "text/latex": [
       "A data.frame: 5 × 4\n",
       "\\begin{tabular}{llll}\n",
       " costs & train\\_acc & test\\_acc & gamma\\\\\n",
       " <dbl> & <dbl> & <dbl> & <dbl>\\\\\n",
       "\\hline\n",
       "\t 1e-03 & 0.5125 & 0.45 & 0.33\\\\\n",
       "\t 1e-01 & 0.5300 & 0.48 & 0.33\\\\\n",
       "\t 1e+00 & 0.5925 & 0.43 & 0.33\\\\\n",
       "\t 1e+01 & 0.6350 & 0.44 & 0.33\\\\\n",
       "\t 5e+01 & 0.6675 & 0.43 & 0.33\\\\\n",
       "\\end{tabular}\n"
      ],
      "text/markdown": [
       "\n",
       "A data.frame: 5 × 4\n",
       "\n",
       "| costs &lt;dbl&gt; | train_acc &lt;dbl&gt; | test_acc &lt;dbl&gt; | gamma &lt;dbl&gt; |\n",
       "|---|---|---|---|\n",
       "| 1e-03 | 0.5125 | 0.45 | 0.33 |\n",
       "| 1e-01 | 0.5300 | 0.48 | 0.33 |\n",
       "| 1e+00 | 0.5925 | 0.43 | 0.33 |\n",
       "| 1e+01 | 0.6350 | 0.44 | 0.33 |\n",
       "| 5e+01 | 0.6675 | 0.43 | 0.33 |\n",
       "\n"
      ],
      "text/plain": [
       "  costs train_acc test_acc gamma\n",
       "1 1e-03 0.5125    0.45     0.33 \n",
       "2 1e-01 0.5300    0.48     0.33 \n",
       "3 1e+00 0.5925    0.43     0.33 \n",
       "4 1e+01 0.6350    0.44     0.33 \n",
       "5 5e+01 0.6675    0.43     0.33 "
      ]
     },
     "metadata": {},
     "output_type": "display_data"
    },
    {
     "data": {
      "text/html": [
       "<table class=\"dataframe\">\n",
       "<caption>A data.frame: 5 × 4</caption>\n",
       "<thead>\n",
       "\t<tr><th scope=col>costs</th><th scope=col>train_acc</th><th scope=col>test_acc</th><th scope=col>gamma</th></tr>\n",
       "\t<tr><th scope=col>&lt;dbl&gt;</th><th scope=col>&lt;dbl&gt;</th><th scope=col>&lt;dbl&gt;</th><th scope=col>&lt;dbl&gt;</th></tr>\n",
       "</thead>\n",
       "<tbody>\n",
       "\t<tr><td>1e-03</td><td>0.5125</td><td>0.45</td><td>0.49</td></tr>\n",
       "\t<tr><td>1e-01</td><td>0.5175</td><td>0.48</td><td>0.49</td></tr>\n",
       "\t<tr><td>1e+00</td><td>0.6200</td><td>0.46</td><td>0.49</td></tr>\n",
       "\t<tr><td>1e+01</td><td>0.6675</td><td>0.45</td><td>0.49</td></tr>\n",
       "\t<tr><td>5e+01</td><td>0.7125</td><td>0.41</td><td>0.49</td></tr>\n",
       "</tbody>\n",
       "</table>\n"
      ],
      "text/latex": [
       "A data.frame: 5 × 4\n",
       "\\begin{tabular}{llll}\n",
       " costs & train\\_acc & test\\_acc & gamma\\\\\n",
       " <dbl> & <dbl> & <dbl> & <dbl>\\\\\n",
       "\\hline\n",
       "\t 1e-03 & 0.5125 & 0.45 & 0.49\\\\\n",
       "\t 1e-01 & 0.5175 & 0.48 & 0.49\\\\\n",
       "\t 1e+00 & 0.6200 & 0.46 & 0.49\\\\\n",
       "\t 1e+01 & 0.6675 & 0.45 & 0.49\\\\\n",
       "\t 5e+01 & 0.7125 & 0.41 & 0.49\\\\\n",
       "\\end{tabular}\n"
      ],
      "text/markdown": [
       "\n",
       "A data.frame: 5 × 4\n",
       "\n",
       "| costs &lt;dbl&gt; | train_acc &lt;dbl&gt; | test_acc &lt;dbl&gt; | gamma &lt;dbl&gt; |\n",
       "|---|---|---|---|\n",
       "| 1e-03 | 0.5125 | 0.45 | 0.49 |\n",
       "| 1e-01 | 0.5175 | 0.48 | 0.49 |\n",
       "| 1e+00 | 0.6200 | 0.46 | 0.49 |\n",
       "| 1e+01 | 0.6675 | 0.45 | 0.49 |\n",
       "| 5e+01 | 0.7125 | 0.41 | 0.49 |\n",
       "\n"
      ],
      "text/plain": [
       "  costs train_acc test_acc gamma\n",
       "1 1e-03 0.5125    0.45     0.49 \n",
       "2 1e-01 0.5175    0.48     0.49 \n",
       "3 1e+00 0.6200    0.46     0.49 \n",
       "4 1e+01 0.6675    0.45     0.49 \n",
       "5 5e+01 0.7125    0.41     0.49 "
      ]
     },
     "metadata": {},
     "output_type": "display_data"
    }
   ],
   "source": [
    "costs <- c(0.001, 0.1, 1, 10, 50)\n",
    "gamma <- c(0.16, 0.16, 0.16, 0.16, 0.16)\n",
    "train_acc <- rep(0, length(costs))\n",
    "test_acc <- rep(0, length(costs))\n",
    "\n",
    "for (i in 1:length(costs)) {\n",
    "    model1 <- svm(Preferred ~ artistPop + trackPop + pref_dist3, data=df_train, kernel='radial', cost=costs[i], gamma=0.16)\n",
    "    train_tbl <- table(df_train$Preferred, predict(model1))\n",
    "    test_tbl <- table(df_test$Preferred, predict(model1, newdata=df_test))\n",
    "    \n",
    "    train_acc[i] <- sum(diag(train_tbl))/sum(train_tbl)\n",
    "    test_acc[i] <- sum(diag(test_tbl))/sum(test_tbl)\n",
    "}\n",
    "\n",
    "data.frame(costs, train_acc, test_acc, gamma)\n",
    "\n",
    "gamma <- c(0.33, 0.33, 0.33, 0.33, 0.33)\n",
    "train_acc <- rep(0, length(costs))\n",
    "test_acc <- rep(0, length(costs))\n",
    "\n",
    "for (i in 1:length(costs)) {\n",
    "    model1 <- svm(Preferred ~ artistPop + trackPop + pref_dist3, data=df_train, kernel='radial', cost=costs[i], gamma=0.33)\n",
    "    train_tbl <- table(df_train$Preferred, predict(model1))\n",
    "    test_tbl <- table(df_test$Preferred, predict(model1, newdata=df_test))\n",
    "    \n",
    "    train_acc[i] <- sum(diag(train_tbl))/sum(train_tbl)\n",
    "    test_acc[i] <- sum(diag(test_tbl))/sum(test_tbl)\n",
    "}\n",
    "\n",
    "data.frame(costs, train_acc, test_acc, gamma)\n",
    "\n",
    "gamma <- c(0.49, 0.49, 0.49, 0.49, 0.49)\n",
    "train_acc <- rep(0, length(costs))\n",
    "test_acc <- rep(0, length(costs))\n",
    "\n",
    "for (i in 1:length(costs)) {\n",
    "    model1 <- svm(Preferred ~ artistPop + trackPop + pref_dist3, data=df_train, kernel='radial', cost=costs[i], gamma=0.49)\n",
    "    train_tbl <- table(df_train$Preferred, predict(model1))\n",
    "    test_tbl <- table(df_test$Preferred, predict(model1, newdata=df_test))\n",
    "    \n",
    "    train_acc[i] <- sum(diag(train_tbl))/sum(train_tbl)\n",
    "    test_acc[i] <- sum(diag(test_tbl))/sum(test_tbl)\n",
    "}\n",
    "\n",
    "data.frame(costs, train_acc, test_acc, gamma)"
   ]
  },
  {
   "cell_type": "markdown",
   "id": "59c8efc8",
   "metadata": {},
   "source": [
    "Model: Preferred ~ artistPop + trackPop + pref_dist6 + pref_dist3"
   ]
  },
  {
   "cell_type": "code",
   "execution_count": 66,
   "id": "60f0ca20",
   "metadata": {},
   "outputs": [
    {
     "data": {
      "text/html": [
       "<table class=\"dataframe\">\n",
       "<caption>A data.frame: 5 × 4</caption>\n",
       "<thead>\n",
       "\t<tr><th scope=col>costs</th><th scope=col>train_acc</th><th scope=col>test_acc</th><th scope=col>gamma</th></tr>\n",
       "\t<tr><th scope=col>&lt;dbl&gt;</th><th scope=col>&lt;dbl&gt;</th><th scope=col>&lt;dbl&gt;</th><th scope=col>&lt;dbl&gt;</th></tr>\n",
       "</thead>\n",
       "<tbody>\n",
       "\t<tr><td>1e-03</td><td>0.5125</td><td>0.45</td><td>0.16</td></tr>\n",
       "\t<tr><td>1e-01</td><td>0.5250</td><td>0.46</td><td>0.16</td></tr>\n",
       "\t<tr><td>1e+00</td><td>0.5950</td><td>0.52</td><td>0.16</td></tr>\n",
       "\t<tr><td>1e+01</td><td>0.6625</td><td>0.50</td><td>0.16</td></tr>\n",
       "\t<tr><td>5e+01</td><td>0.6750</td><td>0.40</td><td>0.16</td></tr>\n",
       "</tbody>\n",
       "</table>\n"
      ],
      "text/latex": [
       "A data.frame: 5 × 4\n",
       "\\begin{tabular}{llll}\n",
       " costs & train\\_acc & test\\_acc & gamma\\\\\n",
       " <dbl> & <dbl> & <dbl> & <dbl>\\\\\n",
       "\\hline\n",
       "\t 1e-03 & 0.5125 & 0.45 & 0.16\\\\\n",
       "\t 1e-01 & 0.5250 & 0.46 & 0.16\\\\\n",
       "\t 1e+00 & 0.5950 & 0.52 & 0.16\\\\\n",
       "\t 1e+01 & 0.6625 & 0.50 & 0.16\\\\\n",
       "\t 5e+01 & 0.6750 & 0.40 & 0.16\\\\\n",
       "\\end{tabular}\n"
      ],
      "text/markdown": [
       "\n",
       "A data.frame: 5 × 4\n",
       "\n",
       "| costs &lt;dbl&gt; | train_acc &lt;dbl&gt; | test_acc &lt;dbl&gt; | gamma &lt;dbl&gt; |\n",
       "|---|---|---|---|\n",
       "| 1e-03 | 0.5125 | 0.45 | 0.16 |\n",
       "| 1e-01 | 0.5250 | 0.46 | 0.16 |\n",
       "| 1e+00 | 0.5950 | 0.52 | 0.16 |\n",
       "| 1e+01 | 0.6625 | 0.50 | 0.16 |\n",
       "| 5e+01 | 0.6750 | 0.40 | 0.16 |\n",
       "\n"
      ],
      "text/plain": [
       "  costs train_acc test_acc gamma\n",
       "1 1e-03 0.5125    0.45     0.16 \n",
       "2 1e-01 0.5250    0.46     0.16 \n",
       "3 1e+00 0.5950    0.52     0.16 \n",
       "4 1e+01 0.6625    0.50     0.16 \n",
       "5 5e+01 0.6750    0.40     0.16 "
      ]
     },
     "metadata": {},
     "output_type": "display_data"
    },
    {
     "data": {
      "text/html": [
       "<table class=\"dataframe\">\n",
       "<caption>A data.frame: 5 × 4</caption>\n",
       "<thead>\n",
       "\t<tr><th scope=col>costs</th><th scope=col>train_acc</th><th scope=col>test_acc</th><th scope=col>gamma</th></tr>\n",
       "\t<tr><th scope=col>&lt;dbl&gt;</th><th scope=col>&lt;dbl&gt;</th><th scope=col>&lt;dbl&gt;</th><th scope=col>&lt;dbl&gt;</th></tr>\n",
       "</thead>\n",
       "<tbody>\n",
       "\t<tr><td>1e-03</td><td>0.5125</td><td>0.45</td><td>0.33</td></tr>\n",
       "\t<tr><td>1e-01</td><td>0.5225</td><td>0.43</td><td>0.33</td></tr>\n",
       "\t<tr><td>1e+00</td><td>0.6450</td><td>0.46</td><td>0.33</td></tr>\n",
       "\t<tr><td>1e+01</td><td>0.7025</td><td>0.47</td><td>0.33</td></tr>\n",
       "\t<tr><td>5e+01</td><td>0.7275</td><td>0.42</td><td>0.33</td></tr>\n",
       "</tbody>\n",
       "</table>\n"
      ],
      "text/latex": [
       "A data.frame: 5 × 4\n",
       "\\begin{tabular}{llll}\n",
       " costs & train\\_acc & test\\_acc & gamma\\\\\n",
       " <dbl> & <dbl> & <dbl> & <dbl>\\\\\n",
       "\\hline\n",
       "\t 1e-03 & 0.5125 & 0.45 & 0.33\\\\\n",
       "\t 1e-01 & 0.5225 & 0.43 & 0.33\\\\\n",
       "\t 1e+00 & 0.6450 & 0.46 & 0.33\\\\\n",
       "\t 1e+01 & 0.7025 & 0.47 & 0.33\\\\\n",
       "\t 5e+01 & 0.7275 & 0.42 & 0.33\\\\\n",
       "\\end{tabular}\n"
      ],
      "text/markdown": [
       "\n",
       "A data.frame: 5 × 4\n",
       "\n",
       "| costs &lt;dbl&gt; | train_acc &lt;dbl&gt; | test_acc &lt;dbl&gt; | gamma &lt;dbl&gt; |\n",
       "|---|---|---|---|\n",
       "| 1e-03 | 0.5125 | 0.45 | 0.33 |\n",
       "| 1e-01 | 0.5225 | 0.43 | 0.33 |\n",
       "| 1e+00 | 0.6450 | 0.46 | 0.33 |\n",
       "| 1e+01 | 0.7025 | 0.47 | 0.33 |\n",
       "| 5e+01 | 0.7275 | 0.42 | 0.33 |\n",
       "\n"
      ],
      "text/plain": [
       "  costs train_acc test_acc gamma\n",
       "1 1e-03 0.5125    0.45     0.33 \n",
       "2 1e-01 0.5225    0.43     0.33 \n",
       "3 1e+00 0.6450    0.46     0.33 \n",
       "4 1e+01 0.7025    0.47     0.33 \n",
       "5 5e+01 0.7275    0.42     0.33 "
      ]
     },
     "metadata": {},
     "output_type": "display_data"
    },
    {
     "data": {
      "text/html": [
       "<table class=\"dataframe\">\n",
       "<caption>A data.frame: 5 × 4</caption>\n",
       "<thead>\n",
       "\t<tr><th scope=col>costs</th><th scope=col>train_acc</th><th scope=col>test_acc</th><th scope=col>gamma</th></tr>\n",
       "\t<tr><th scope=col>&lt;dbl&gt;</th><th scope=col>&lt;dbl&gt;</th><th scope=col>&lt;dbl&gt;</th><th scope=col>&lt;dbl&gt;</th></tr>\n",
       "</thead>\n",
       "<tbody>\n",
       "\t<tr><td>1e-03</td><td>0.5125</td><td>0.45</td><td>0.49</td></tr>\n",
       "\t<tr><td>1e-01</td><td>0.5175</td><td>0.43</td><td>0.49</td></tr>\n",
       "\t<tr><td>1e+00</td><td>0.6450</td><td>0.48</td><td>0.49</td></tr>\n",
       "\t<tr><td>1e+01</td><td>0.7275</td><td>0.42</td><td>0.49</td></tr>\n",
       "\t<tr><td>5e+01</td><td>0.7675</td><td>0.39</td><td>0.49</td></tr>\n",
       "</tbody>\n",
       "</table>\n"
      ],
      "text/latex": [
       "A data.frame: 5 × 4\n",
       "\\begin{tabular}{llll}\n",
       " costs & train\\_acc & test\\_acc & gamma\\\\\n",
       " <dbl> & <dbl> & <dbl> & <dbl>\\\\\n",
       "\\hline\n",
       "\t 1e-03 & 0.5125 & 0.45 & 0.49\\\\\n",
       "\t 1e-01 & 0.5175 & 0.43 & 0.49\\\\\n",
       "\t 1e+00 & 0.6450 & 0.48 & 0.49\\\\\n",
       "\t 1e+01 & 0.7275 & 0.42 & 0.49\\\\\n",
       "\t 5e+01 & 0.7675 & 0.39 & 0.49\\\\\n",
       "\\end{tabular}\n"
      ],
      "text/markdown": [
       "\n",
       "A data.frame: 5 × 4\n",
       "\n",
       "| costs &lt;dbl&gt; | train_acc &lt;dbl&gt; | test_acc &lt;dbl&gt; | gamma &lt;dbl&gt; |\n",
       "|---|---|---|---|\n",
       "| 1e-03 | 0.5125 | 0.45 | 0.49 |\n",
       "| 1e-01 | 0.5175 | 0.43 | 0.49 |\n",
       "| 1e+00 | 0.6450 | 0.48 | 0.49 |\n",
       "| 1e+01 | 0.7275 | 0.42 | 0.49 |\n",
       "| 5e+01 | 0.7675 | 0.39 | 0.49 |\n",
       "\n"
      ],
      "text/plain": [
       "  costs train_acc test_acc gamma\n",
       "1 1e-03 0.5125    0.45     0.49 \n",
       "2 1e-01 0.5175    0.43     0.49 \n",
       "3 1e+00 0.6450    0.48     0.49 \n",
       "4 1e+01 0.7275    0.42     0.49 \n",
       "5 5e+01 0.7675    0.39     0.49 "
      ]
     },
     "metadata": {},
     "output_type": "display_data"
    }
   ],
   "source": [
    "costs <- c(0.001, 0.1, 1, 10, 50)\n",
    "gamma <- c(0.16, 0.16, 0.16, 0.16, 0.16)\n",
    "train_acc <- rep(0, length(costs))\n",
    "test_acc <- rep(0, length(costs))\n",
    "\n",
    "for (i in 1:length(costs)) {\n",
    "    model1 <- svm(Preferred ~ ., data=df_train, kernel='radial', cost=costs[i], gamma=0.16)\n",
    "    train_tbl <- table(df_train$Preferred, predict(model1))\n",
    "    test_tbl <- table(df_test$Preferred, predict(model1, newdata=df_test))\n",
    "    \n",
    "    train_acc[i] <- sum(diag(train_tbl))/sum(train_tbl)\n",
    "    test_acc[i] <- sum(diag(test_tbl))/sum(test_tbl)\n",
    "}\n",
    "\n",
    "data.frame(costs, train_acc, test_acc, gamma)\n",
    "\n",
    "gamma <- c(0.33, 0.33, 0.33, 0.33, 0.33)\n",
    "train_acc <- rep(0, length(costs))\n",
    "test_acc <- rep(0, length(costs))\n",
    "\n",
    "for (i in 1:length(costs)) {\n",
    "    model1 <- svm(Preferred ~ ., data=df_train, kernel='radial', cost=costs[i], gamma=0.33)\n",
    "    train_tbl <- table(df_train$Preferred, predict(model1))\n",
    "    test_tbl <- table(df_test$Preferred, predict(model1, newdata=df_test))\n",
    "    \n",
    "    train_acc[i] <- sum(diag(train_tbl))/sum(train_tbl)\n",
    "    test_acc[i] <- sum(diag(test_tbl))/sum(test_tbl)\n",
    "}\n",
    "\n",
    "data.frame(costs, train_acc, test_acc, gamma)\n",
    "\n",
    "gamma <- c(0.49, 0.49, 0.49, 0.49, 0.49)\n",
    "train_acc <- rep(0, length(costs))\n",
    "test_acc <- rep(0, length(costs))\n",
    "\n",
    "for (i in 1:length(costs)) {\n",
    "    model1 <- svm(Preferred ~ ., data=df_train, kernel='radial', cost=costs[i], gamma=0.49)\n",
    "    train_tbl <- table(df_train$Preferred, predict(model1))\n",
    "    test_tbl <- table(df_test$Preferred, predict(model1, newdata=df_test))\n",
    "    \n",
    "    train_acc[i] <- sum(diag(train_tbl))/sum(train_tbl)\n",
    "    test_acc[i] <- sum(diag(test_tbl))/sum(test_tbl)\n",
    "}\n",
    "\n",
    "data.frame(costs, train_acc, test_acc, gamma)"
   ]
  },
  {
   "cell_type": "code",
   "execution_count": 58,
   "id": "829151cc",
   "metadata": {},
   "outputs": [
    {
     "data": {
      "text/plain": [
       "   \n",
       "     0  1\n",
       "  0 26 19\n",
       "  1 27 28"
      ]
     },
     "metadata": {},
     "output_type": "display_data"
    },
    {
     "data": {
      "text/html": [
       "0.54"
      ],
      "text/latex": [
       "0.54"
      ],
      "text/markdown": [
       "0.54"
      ],
      "text/plain": [
       "[1] 0.54"
      ]
     },
     "metadata": {},
     "output_type": "display_data"
    }
   ],
   "source": [
    "rbf_model <- svm(Preferred ~ artistPop + trackPop + pref_dist6, data=df_train, kernel='radial', cost=1, gamma=0.16)\n",
    "test_tbl <- table(df_test$Preferred, predict(rbf_model, newdata=df_test))\n",
    "test_tbl\n",
    "sum(diag(test_tbl))/sum(test_tbl)"
   ]
  },
  {
   "cell_type": "markdown",
   "id": "c5bedf6b",
   "metadata": {},
   "source": [
    "### SVM with Sigmoid kernel\n",
    "\n",
    "Experiment with cost = 0.001, 0.1, 1, 10, 50, and gamma = 0.16, 0.33, 0.49, and coef = 0, 0.5, 1\n",
    "\n",
    "Model: Preferred ~ artistPop + trackPop + pref_dist6"
   ]
  },
  {
   "cell_type": "code",
   "execution_count": 67,
   "id": "17f38beb",
   "metadata": {},
   "outputs": [
    {
     "data": {
      "text/html": [
       "<table class=\"dataframe\">\n",
       "<caption>A data.frame: 5 × 5</caption>\n",
       "<thead>\n",
       "\t<tr><th scope=col>costs</th><th scope=col>train_acc</th><th scope=col>test_acc</th><th scope=col>gamma</th><th scope=col>coef</th></tr>\n",
       "\t<tr><th scope=col>&lt;dbl&gt;</th><th scope=col>&lt;dbl&gt;</th><th scope=col>&lt;dbl&gt;</th><th scope=col>&lt;dbl&gt;</th><th scope=col>&lt;dbl&gt;</th></tr>\n",
       "</thead>\n",
       "<tbody>\n",
       "\t<tr><td>1e-03</td><td>0.5125</td><td>0.45</td><td>0.16</td><td>0</td></tr>\n",
       "\t<tr><td>1e-01</td><td>0.5350</td><td>0.49</td><td>0.16</td><td>0</td></tr>\n",
       "\t<tr><td>1e+00</td><td>0.5025</td><td>0.52</td><td>0.16</td><td>0</td></tr>\n",
       "\t<tr><td>1e+01</td><td>0.4925</td><td>0.54</td><td>0.16</td><td>0</td></tr>\n",
       "\t<tr><td>5e+01</td><td>0.5025</td><td>0.53</td><td>0.16</td><td>0</td></tr>\n",
       "</tbody>\n",
       "</table>\n"
      ],
      "text/latex": [
       "A data.frame: 5 × 5\n",
       "\\begin{tabular}{lllll}\n",
       " costs & train\\_acc & test\\_acc & gamma & coef\\\\\n",
       " <dbl> & <dbl> & <dbl> & <dbl> & <dbl>\\\\\n",
       "\\hline\n",
       "\t 1e-03 & 0.5125 & 0.45 & 0.16 & 0\\\\\n",
       "\t 1e-01 & 0.5350 & 0.49 & 0.16 & 0\\\\\n",
       "\t 1e+00 & 0.5025 & 0.52 & 0.16 & 0\\\\\n",
       "\t 1e+01 & 0.4925 & 0.54 & 0.16 & 0\\\\\n",
       "\t 5e+01 & 0.5025 & 0.53 & 0.16 & 0\\\\\n",
       "\\end{tabular}\n"
      ],
      "text/markdown": [
       "\n",
       "A data.frame: 5 × 5\n",
       "\n",
       "| costs &lt;dbl&gt; | train_acc &lt;dbl&gt; | test_acc &lt;dbl&gt; | gamma &lt;dbl&gt; | coef &lt;dbl&gt; |\n",
       "|---|---|---|---|---|\n",
       "| 1e-03 | 0.5125 | 0.45 | 0.16 | 0 |\n",
       "| 1e-01 | 0.5350 | 0.49 | 0.16 | 0 |\n",
       "| 1e+00 | 0.5025 | 0.52 | 0.16 | 0 |\n",
       "| 1e+01 | 0.4925 | 0.54 | 0.16 | 0 |\n",
       "| 5e+01 | 0.5025 | 0.53 | 0.16 | 0 |\n",
       "\n"
      ],
      "text/plain": [
       "  costs train_acc test_acc gamma coef\n",
       "1 1e-03 0.5125    0.45     0.16  0   \n",
       "2 1e-01 0.5350    0.49     0.16  0   \n",
       "3 1e+00 0.5025    0.52     0.16  0   \n",
       "4 1e+01 0.4925    0.54     0.16  0   \n",
       "5 5e+01 0.5025    0.53     0.16  0   "
      ]
     },
     "metadata": {},
     "output_type": "display_data"
    },
    {
     "data": {
      "text/html": [
       "<table class=\"dataframe\">\n",
       "<caption>A data.frame: 5 × 5</caption>\n",
       "<thead>\n",
       "\t<tr><th scope=col>costs</th><th scope=col>train_acc</th><th scope=col>test_acc</th><th scope=col>gamma</th><th scope=col>coef</th></tr>\n",
       "\t<tr><th scope=col>&lt;dbl&gt;</th><th scope=col>&lt;dbl&gt;</th><th scope=col>&lt;dbl&gt;</th><th scope=col>&lt;dbl&gt;</th><th scope=col>&lt;dbl&gt;</th></tr>\n",
       "</thead>\n",
       "<tbody>\n",
       "\t<tr><td>1e-03</td><td>0.5125</td><td>0.45</td><td>0.16</td><td>0.5</td></tr>\n",
       "\t<tr><td>1e-01</td><td>0.5475</td><td>0.50</td><td>0.16</td><td>0.5</td></tr>\n",
       "\t<tr><td>1e+00</td><td>0.5300</td><td>0.59</td><td>0.16</td><td>0.5</td></tr>\n",
       "\t<tr><td>1e+01</td><td>0.5325</td><td>0.59</td><td>0.16</td><td>0.5</td></tr>\n",
       "\t<tr><td>5e+01</td><td>0.5325</td><td>0.59</td><td>0.16</td><td>0.5</td></tr>\n",
       "</tbody>\n",
       "</table>\n"
      ],
      "text/latex": [
       "A data.frame: 5 × 5\n",
       "\\begin{tabular}{lllll}\n",
       " costs & train\\_acc & test\\_acc & gamma & coef\\\\\n",
       " <dbl> & <dbl> & <dbl> & <dbl> & <dbl>\\\\\n",
       "\\hline\n",
       "\t 1e-03 & 0.5125 & 0.45 & 0.16 & 0.5\\\\\n",
       "\t 1e-01 & 0.5475 & 0.50 & 0.16 & 0.5\\\\\n",
       "\t 1e+00 & 0.5300 & 0.59 & 0.16 & 0.5\\\\\n",
       "\t 1e+01 & 0.5325 & 0.59 & 0.16 & 0.5\\\\\n",
       "\t 5e+01 & 0.5325 & 0.59 & 0.16 & 0.5\\\\\n",
       "\\end{tabular}\n"
      ],
      "text/markdown": [
       "\n",
       "A data.frame: 5 × 5\n",
       "\n",
       "| costs &lt;dbl&gt; | train_acc &lt;dbl&gt; | test_acc &lt;dbl&gt; | gamma &lt;dbl&gt; | coef &lt;dbl&gt; |\n",
       "|---|---|---|---|---|\n",
       "| 1e-03 | 0.5125 | 0.45 | 0.16 | 0.5 |\n",
       "| 1e-01 | 0.5475 | 0.50 | 0.16 | 0.5 |\n",
       "| 1e+00 | 0.5300 | 0.59 | 0.16 | 0.5 |\n",
       "| 1e+01 | 0.5325 | 0.59 | 0.16 | 0.5 |\n",
       "| 5e+01 | 0.5325 | 0.59 | 0.16 | 0.5 |\n",
       "\n"
      ],
      "text/plain": [
       "  costs train_acc test_acc gamma coef\n",
       "1 1e-03 0.5125    0.45     0.16  0.5 \n",
       "2 1e-01 0.5475    0.50     0.16  0.5 \n",
       "3 1e+00 0.5300    0.59     0.16  0.5 \n",
       "4 1e+01 0.5325    0.59     0.16  0.5 \n",
       "5 5e+01 0.5325    0.59     0.16  0.5 "
      ]
     },
     "metadata": {},
     "output_type": "display_data"
    },
    {
     "data": {
      "text/html": [
       "<table class=\"dataframe\">\n",
       "<caption>A data.frame: 5 × 5</caption>\n",
       "<thead>\n",
       "\t<tr><th scope=col>costs</th><th scope=col>train_acc</th><th scope=col>test_acc</th><th scope=col>gamma</th><th scope=col>coef</th></tr>\n",
       "\t<tr><th scope=col>&lt;dbl&gt;</th><th scope=col>&lt;dbl&gt;</th><th scope=col>&lt;dbl&gt;</th><th scope=col>&lt;dbl&gt;</th><th scope=col>&lt;dbl&gt;</th></tr>\n",
       "</thead>\n",
       "<tbody>\n",
       "\t<tr><td>1e-03</td><td>0.5125</td><td>0.45</td><td>0.16</td><td>1</td></tr>\n",
       "\t<tr><td>1e-01</td><td>0.5125</td><td>0.45</td><td>0.16</td><td>1</td></tr>\n",
       "\t<tr><td>1e+00</td><td>0.5350</td><td>0.61</td><td>0.16</td><td>1</td></tr>\n",
       "\t<tr><td>1e+01</td><td>0.5250</td><td>0.59</td><td>0.16</td><td>1</td></tr>\n",
       "\t<tr><td>5e+01</td><td>0.5275</td><td>0.59</td><td>0.16</td><td>1</td></tr>\n",
       "</tbody>\n",
       "</table>\n"
      ],
      "text/latex": [
       "A data.frame: 5 × 5\n",
       "\\begin{tabular}{lllll}\n",
       " costs & train\\_acc & test\\_acc & gamma & coef\\\\\n",
       " <dbl> & <dbl> & <dbl> & <dbl> & <dbl>\\\\\n",
       "\\hline\n",
       "\t 1e-03 & 0.5125 & 0.45 & 0.16 & 1\\\\\n",
       "\t 1e-01 & 0.5125 & 0.45 & 0.16 & 1\\\\\n",
       "\t 1e+00 & 0.5350 & 0.61 & 0.16 & 1\\\\\n",
       "\t 1e+01 & 0.5250 & 0.59 & 0.16 & 1\\\\\n",
       "\t 5e+01 & 0.5275 & 0.59 & 0.16 & 1\\\\\n",
       "\\end{tabular}\n"
      ],
      "text/markdown": [
       "\n",
       "A data.frame: 5 × 5\n",
       "\n",
       "| costs &lt;dbl&gt; | train_acc &lt;dbl&gt; | test_acc &lt;dbl&gt; | gamma &lt;dbl&gt; | coef &lt;dbl&gt; |\n",
       "|---|---|---|---|---|\n",
       "| 1e-03 | 0.5125 | 0.45 | 0.16 | 1 |\n",
       "| 1e-01 | 0.5125 | 0.45 | 0.16 | 1 |\n",
       "| 1e+00 | 0.5350 | 0.61 | 0.16 | 1 |\n",
       "| 1e+01 | 0.5250 | 0.59 | 0.16 | 1 |\n",
       "| 5e+01 | 0.5275 | 0.59 | 0.16 | 1 |\n",
       "\n"
      ],
      "text/plain": [
       "  costs train_acc test_acc gamma coef\n",
       "1 1e-03 0.5125    0.45     0.16  1   \n",
       "2 1e-01 0.5125    0.45     0.16  1   \n",
       "3 1e+00 0.5350    0.61     0.16  1   \n",
       "4 1e+01 0.5250    0.59     0.16  1   \n",
       "5 5e+01 0.5275    0.59     0.16  1   "
      ]
     },
     "metadata": {},
     "output_type": "display_data"
    },
    {
     "data": {
      "text/html": [
       "<table class=\"dataframe\">\n",
       "<caption>A data.frame: 5 × 5</caption>\n",
       "<thead>\n",
       "\t<tr><th scope=col>costs</th><th scope=col>train_acc</th><th scope=col>test_acc</th><th scope=col>gamma</th><th scope=col>coef</th></tr>\n",
       "\t<tr><th scope=col>&lt;dbl&gt;</th><th scope=col>&lt;dbl&gt;</th><th scope=col>&lt;dbl&gt;</th><th scope=col>&lt;dbl&gt;</th><th scope=col>&lt;dbl&gt;</th></tr>\n",
       "</thead>\n",
       "<tbody>\n",
       "\t<tr><td>1e-03</td><td>0.5125</td><td>0.45</td><td>0.33</td><td>0</td></tr>\n",
       "\t<tr><td>1e-01</td><td>0.5100</td><td>0.52</td><td>0.33</td><td>0</td></tr>\n",
       "\t<tr><td>1e+00</td><td>0.4950</td><td>0.52</td><td>0.33</td><td>0</td></tr>\n",
       "\t<tr><td>1e+01</td><td>0.4975</td><td>0.48</td><td>0.33</td><td>0</td></tr>\n",
       "\t<tr><td>5e+01</td><td>0.5000</td><td>0.58</td><td>0.33</td><td>0</td></tr>\n",
       "</tbody>\n",
       "</table>\n"
      ],
      "text/latex": [
       "A data.frame: 5 × 5\n",
       "\\begin{tabular}{lllll}\n",
       " costs & train\\_acc & test\\_acc & gamma & coef\\\\\n",
       " <dbl> & <dbl> & <dbl> & <dbl> & <dbl>\\\\\n",
       "\\hline\n",
       "\t 1e-03 & 0.5125 & 0.45 & 0.33 & 0\\\\\n",
       "\t 1e-01 & 0.5100 & 0.52 & 0.33 & 0\\\\\n",
       "\t 1e+00 & 0.4950 & 0.52 & 0.33 & 0\\\\\n",
       "\t 1e+01 & 0.4975 & 0.48 & 0.33 & 0\\\\\n",
       "\t 5e+01 & 0.5000 & 0.58 & 0.33 & 0\\\\\n",
       "\\end{tabular}\n"
      ],
      "text/markdown": [
       "\n",
       "A data.frame: 5 × 5\n",
       "\n",
       "| costs &lt;dbl&gt; | train_acc &lt;dbl&gt; | test_acc &lt;dbl&gt; | gamma &lt;dbl&gt; | coef &lt;dbl&gt; |\n",
       "|---|---|---|---|---|\n",
       "| 1e-03 | 0.5125 | 0.45 | 0.33 | 0 |\n",
       "| 1e-01 | 0.5100 | 0.52 | 0.33 | 0 |\n",
       "| 1e+00 | 0.4950 | 0.52 | 0.33 | 0 |\n",
       "| 1e+01 | 0.4975 | 0.48 | 0.33 | 0 |\n",
       "| 5e+01 | 0.5000 | 0.58 | 0.33 | 0 |\n",
       "\n"
      ],
      "text/plain": [
       "  costs train_acc test_acc gamma coef\n",
       "1 1e-03 0.5125    0.45     0.33  0   \n",
       "2 1e-01 0.5100    0.52     0.33  0   \n",
       "3 1e+00 0.4950    0.52     0.33  0   \n",
       "4 1e+01 0.4975    0.48     0.33  0   \n",
       "5 5e+01 0.5000    0.58     0.33  0   "
      ]
     },
     "metadata": {},
     "output_type": "display_data"
    },
    {
     "data": {
      "text/html": [
       "<table class=\"dataframe\">\n",
       "<caption>A data.frame: 5 × 5</caption>\n",
       "<thead>\n",
       "\t<tr><th scope=col>costs</th><th scope=col>train_acc</th><th scope=col>test_acc</th><th scope=col>gamma</th><th scope=col>coef</th></tr>\n",
       "\t<tr><th scope=col>&lt;dbl&gt;</th><th scope=col>&lt;dbl&gt;</th><th scope=col>&lt;dbl&gt;</th><th scope=col>&lt;dbl&gt;</th><th scope=col>&lt;dbl&gt;</th></tr>\n",
       "</thead>\n",
       "<tbody>\n",
       "\t<tr><td>1e-03</td><td>0.5125</td><td>0.45</td><td>0.33</td><td>0.5</td></tr>\n",
       "\t<tr><td>1e-01</td><td>0.5075</td><td>0.51</td><td>0.33</td><td>0.5</td></tr>\n",
       "\t<tr><td>1e+00</td><td>0.5000</td><td>0.44</td><td>0.33</td><td>0.5</td></tr>\n",
       "\t<tr><td>1e+01</td><td>0.5050</td><td>0.43</td><td>0.33</td><td>0.5</td></tr>\n",
       "\t<tr><td>5e+01</td><td>0.4975</td><td>0.43</td><td>0.33</td><td>0.5</td></tr>\n",
       "</tbody>\n",
       "</table>\n"
      ],
      "text/latex": [
       "A data.frame: 5 × 5\n",
       "\\begin{tabular}{lllll}\n",
       " costs & train\\_acc & test\\_acc & gamma & coef\\\\\n",
       " <dbl> & <dbl> & <dbl> & <dbl> & <dbl>\\\\\n",
       "\\hline\n",
       "\t 1e-03 & 0.5125 & 0.45 & 0.33 & 0.5\\\\\n",
       "\t 1e-01 & 0.5075 & 0.51 & 0.33 & 0.5\\\\\n",
       "\t 1e+00 & 0.5000 & 0.44 & 0.33 & 0.5\\\\\n",
       "\t 1e+01 & 0.5050 & 0.43 & 0.33 & 0.5\\\\\n",
       "\t 5e+01 & 0.4975 & 0.43 & 0.33 & 0.5\\\\\n",
       "\\end{tabular}\n"
      ],
      "text/markdown": [
       "\n",
       "A data.frame: 5 × 5\n",
       "\n",
       "| costs &lt;dbl&gt; | train_acc &lt;dbl&gt; | test_acc &lt;dbl&gt; | gamma &lt;dbl&gt; | coef &lt;dbl&gt; |\n",
       "|---|---|---|---|---|\n",
       "| 1e-03 | 0.5125 | 0.45 | 0.33 | 0.5 |\n",
       "| 1e-01 | 0.5075 | 0.51 | 0.33 | 0.5 |\n",
       "| 1e+00 | 0.5000 | 0.44 | 0.33 | 0.5 |\n",
       "| 1e+01 | 0.5050 | 0.43 | 0.33 | 0.5 |\n",
       "| 5e+01 | 0.4975 | 0.43 | 0.33 | 0.5 |\n",
       "\n"
      ],
      "text/plain": [
       "  costs train_acc test_acc gamma coef\n",
       "1 1e-03 0.5125    0.45     0.33  0.5 \n",
       "2 1e-01 0.5075    0.51     0.33  0.5 \n",
       "3 1e+00 0.5000    0.44     0.33  0.5 \n",
       "4 1e+01 0.5050    0.43     0.33  0.5 \n",
       "5 5e+01 0.4975    0.43     0.33  0.5 "
      ]
     },
     "metadata": {},
     "output_type": "display_data"
    },
    {
     "data": {
      "text/html": [
       "<table class=\"dataframe\">\n",
       "<caption>A data.frame: 5 × 5</caption>\n",
       "<thead>\n",
       "\t<tr><th scope=col>costs</th><th scope=col>train_acc</th><th scope=col>test_acc</th><th scope=col>gamma</th><th scope=col>coef</th></tr>\n",
       "\t<tr><th scope=col>&lt;dbl&gt;</th><th scope=col>&lt;dbl&gt;</th><th scope=col>&lt;dbl&gt;</th><th scope=col>&lt;dbl&gt;</th><th scope=col>&lt;dbl&gt;</th></tr>\n",
       "</thead>\n",
       "<tbody>\n",
       "\t<tr><td>1e-03</td><td>0.5125</td><td>0.45</td><td>0.33</td><td>1</td></tr>\n",
       "\t<tr><td>1e-01</td><td>0.5175</td><td>0.56</td><td>0.33</td><td>1</td></tr>\n",
       "\t<tr><td>1e+00</td><td>0.4975</td><td>0.44</td><td>0.33</td><td>1</td></tr>\n",
       "\t<tr><td>1e+01</td><td>0.4925</td><td>0.43</td><td>0.33</td><td>1</td></tr>\n",
       "\t<tr><td>5e+01</td><td>0.4925</td><td>0.43</td><td>0.33</td><td>1</td></tr>\n",
       "</tbody>\n",
       "</table>\n"
      ],
      "text/latex": [
       "A data.frame: 5 × 5\n",
       "\\begin{tabular}{lllll}\n",
       " costs & train\\_acc & test\\_acc & gamma & coef\\\\\n",
       " <dbl> & <dbl> & <dbl> & <dbl> & <dbl>\\\\\n",
       "\\hline\n",
       "\t 1e-03 & 0.5125 & 0.45 & 0.33 & 1\\\\\n",
       "\t 1e-01 & 0.5175 & 0.56 & 0.33 & 1\\\\\n",
       "\t 1e+00 & 0.4975 & 0.44 & 0.33 & 1\\\\\n",
       "\t 1e+01 & 0.4925 & 0.43 & 0.33 & 1\\\\\n",
       "\t 5e+01 & 0.4925 & 0.43 & 0.33 & 1\\\\\n",
       "\\end{tabular}\n"
      ],
      "text/markdown": [
       "\n",
       "A data.frame: 5 × 5\n",
       "\n",
       "| costs &lt;dbl&gt; | train_acc &lt;dbl&gt; | test_acc &lt;dbl&gt; | gamma &lt;dbl&gt; | coef &lt;dbl&gt; |\n",
       "|---|---|---|---|---|\n",
       "| 1e-03 | 0.5125 | 0.45 | 0.33 | 1 |\n",
       "| 1e-01 | 0.5175 | 0.56 | 0.33 | 1 |\n",
       "| 1e+00 | 0.4975 | 0.44 | 0.33 | 1 |\n",
       "| 1e+01 | 0.4925 | 0.43 | 0.33 | 1 |\n",
       "| 5e+01 | 0.4925 | 0.43 | 0.33 | 1 |\n",
       "\n"
      ],
      "text/plain": [
       "  costs train_acc test_acc gamma coef\n",
       "1 1e-03 0.5125    0.45     0.33  1   \n",
       "2 1e-01 0.5175    0.56     0.33  1   \n",
       "3 1e+00 0.4975    0.44     0.33  1   \n",
       "4 1e+01 0.4925    0.43     0.33  1   \n",
       "5 5e+01 0.4925    0.43     0.33  1   "
      ]
     },
     "metadata": {},
     "output_type": "display_data"
    },
    {
     "data": {
      "text/html": [
       "<table class=\"dataframe\">\n",
       "<caption>A data.frame: 5 × 5</caption>\n",
       "<thead>\n",
       "\t<tr><th scope=col>costs</th><th scope=col>train_acc</th><th scope=col>test_acc</th><th scope=col>gamma</th><th scope=col>coef</th></tr>\n",
       "\t<tr><th scope=col>&lt;dbl&gt;</th><th scope=col>&lt;dbl&gt;</th><th scope=col>&lt;dbl&gt;</th><th scope=col>&lt;dbl&gt;</th><th scope=col>&lt;dbl&gt;</th></tr>\n",
       "</thead>\n",
       "<tbody>\n",
       "\t<tr><td>1e-03</td><td>0.5125</td><td>0.45</td><td>0.49</td><td>0</td></tr>\n",
       "\t<tr><td>1e-01</td><td>0.4925</td><td>0.49</td><td>0.49</td><td>0</td></tr>\n",
       "\t<tr><td>1e+00</td><td>0.4850</td><td>0.53</td><td>0.49</td><td>0</td></tr>\n",
       "\t<tr><td>1e+01</td><td>0.4875</td><td>0.57</td><td>0.49</td><td>0</td></tr>\n",
       "\t<tr><td>5e+01</td><td>0.4925</td><td>0.46</td><td>0.49</td><td>0</td></tr>\n",
       "</tbody>\n",
       "</table>\n"
      ],
      "text/latex": [
       "A data.frame: 5 × 5\n",
       "\\begin{tabular}{lllll}\n",
       " costs & train\\_acc & test\\_acc & gamma & coef\\\\\n",
       " <dbl> & <dbl> & <dbl> & <dbl> & <dbl>\\\\\n",
       "\\hline\n",
       "\t 1e-03 & 0.5125 & 0.45 & 0.49 & 0\\\\\n",
       "\t 1e-01 & 0.4925 & 0.49 & 0.49 & 0\\\\\n",
       "\t 1e+00 & 0.4850 & 0.53 & 0.49 & 0\\\\\n",
       "\t 1e+01 & 0.4875 & 0.57 & 0.49 & 0\\\\\n",
       "\t 5e+01 & 0.4925 & 0.46 & 0.49 & 0\\\\\n",
       "\\end{tabular}\n"
      ],
      "text/markdown": [
       "\n",
       "A data.frame: 5 × 5\n",
       "\n",
       "| costs &lt;dbl&gt; | train_acc &lt;dbl&gt; | test_acc &lt;dbl&gt; | gamma &lt;dbl&gt; | coef &lt;dbl&gt; |\n",
       "|---|---|---|---|---|\n",
       "| 1e-03 | 0.5125 | 0.45 | 0.49 | 0 |\n",
       "| 1e-01 | 0.4925 | 0.49 | 0.49 | 0 |\n",
       "| 1e+00 | 0.4850 | 0.53 | 0.49 | 0 |\n",
       "| 1e+01 | 0.4875 | 0.57 | 0.49 | 0 |\n",
       "| 5e+01 | 0.4925 | 0.46 | 0.49 | 0 |\n",
       "\n"
      ],
      "text/plain": [
       "  costs train_acc test_acc gamma coef\n",
       "1 1e-03 0.5125    0.45     0.49  0   \n",
       "2 1e-01 0.4925    0.49     0.49  0   \n",
       "3 1e+00 0.4850    0.53     0.49  0   \n",
       "4 1e+01 0.4875    0.57     0.49  0   \n",
       "5 5e+01 0.4925    0.46     0.49  0   "
      ]
     },
     "metadata": {},
     "output_type": "display_data"
    },
    {
     "data": {
      "text/html": [
       "<table class=\"dataframe\">\n",
       "<caption>A data.frame: 5 × 5</caption>\n",
       "<thead>\n",
       "\t<tr><th scope=col>costs</th><th scope=col>train_acc</th><th scope=col>test_acc</th><th scope=col>gamma</th><th scope=col>coef</th></tr>\n",
       "\t<tr><th scope=col>&lt;dbl&gt;</th><th scope=col>&lt;dbl&gt;</th><th scope=col>&lt;dbl&gt;</th><th scope=col>&lt;dbl&gt;</th><th scope=col>&lt;dbl&gt;</th></tr>\n",
       "</thead>\n",
       "<tbody>\n",
       "\t<tr><td>1e-03</td><td>0.5125</td><td>0.45</td><td>0.49</td><td>0.5</td></tr>\n",
       "\t<tr><td>1e-01</td><td>0.4950</td><td>0.50</td><td>0.49</td><td>0.5</td></tr>\n",
       "\t<tr><td>1e+00</td><td>0.5025</td><td>0.55</td><td>0.49</td><td>0.5</td></tr>\n",
       "\t<tr><td>1e+01</td><td>0.4950</td><td>0.44</td><td>0.49</td><td>0.5</td></tr>\n",
       "\t<tr><td>5e+01</td><td>0.4975</td><td>0.43</td><td>0.49</td><td>0.5</td></tr>\n",
       "</tbody>\n",
       "</table>\n"
      ],
      "text/latex": [
       "A data.frame: 5 × 5\n",
       "\\begin{tabular}{lllll}\n",
       " costs & train\\_acc & test\\_acc & gamma & coef\\\\\n",
       " <dbl> & <dbl> & <dbl> & <dbl> & <dbl>\\\\\n",
       "\\hline\n",
       "\t 1e-03 & 0.5125 & 0.45 & 0.49 & 0.5\\\\\n",
       "\t 1e-01 & 0.4950 & 0.50 & 0.49 & 0.5\\\\\n",
       "\t 1e+00 & 0.5025 & 0.55 & 0.49 & 0.5\\\\\n",
       "\t 1e+01 & 0.4950 & 0.44 & 0.49 & 0.5\\\\\n",
       "\t 5e+01 & 0.4975 & 0.43 & 0.49 & 0.5\\\\\n",
       "\\end{tabular}\n"
      ],
      "text/markdown": [
       "\n",
       "A data.frame: 5 × 5\n",
       "\n",
       "| costs &lt;dbl&gt; | train_acc &lt;dbl&gt; | test_acc &lt;dbl&gt; | gamma &lt;dbl&gt; | coef &lt;dbl&gt; |\n",
       "|---|---|---|---|---|\n",
       "| 1e-03 | 0.5125 | 0.45 | 0.49 | 0.5 |\n",
       "| 1e-01 | 0.4950 | 0.50 | 0.49 | 0.5 |\n",
       "| 1e+00 | 0.5025 | 0.55 | 0.49 | 0.5 |\n",
       "| 1e+01 | 0.4950 | 0.44 | 0.49 | 0.5 |\n",
       "| 5e+01 | 0.4975 | 0.43 | 0.49 | 0.5 |\n",
       "\n"
      ],
      "text/plain": [
       "  costs train_acc test_acc gamma coef\n",
       "1 1e-03 0.5125    0.45     0.49  0.5 \n",
       "2 1e-01 0.4950    0.50     0.49  0.5 \n",
       "3 1e+00 0.5025    0.55     0.49  0.5 \n",
       "4 1e+01 0.4950    0.44     0.49  0.5 \n",
       "5 5e+01 0.4975    0.43     0.49  0.5 "
      ]
     },
     "metadata": {},
     "output_type": "display_data"
    },
    {
     "data": {
      "text/html": [
       "<table class=\"dataframe\">\n",
       "<caption>A data.frame: 5 × 5</caption>\n",
       "<thead>\n",
       "\t<tr><th scope=col>costs</th><th scope=col>train_acc</th><th scope=col>test_acc</th><th scope=col>gamma</th><th scope=col>coef</th></tr>\n",
       "\t<tr><th scope=col>&lt;dbl&gt;</th><th scope=col>&lt;dbl&gt;</th><th scope=col>&lt;dbl&gt;</th><th scope=col>&lt;dbl&gt;</th><th scope=col>&lt;dbl&gt;</th></tr>\n",
       "</thead>\n",
       "<tbody>\n",
       "\t<tr><td>1e-03</td><td>0.5125</td><td>0.45</td><td>0.49</td><td>1</td></tr>\n",
       "\t<tr><td>1e-01</td><td>0.5100</td><td>0.54</td><td>0.49</td><td>1</td></tr>\n",
       "\t<tr><td>1e+00</td><td>0.4975</td><td>0.43</td><td>0.49</td><td>1</td></tr>\n",
       "\t<tr><td>1e+01</td><td>0.4975</td><td>0.43</td><td>0.49</td><td>1</td></tr>\n",
       "\t<tr><td>5e+01</td><td>0.4975</td><td>0.43</td><td>0.49</td><td>1</td></tr>\n",
       "</tbody>\n",
       "</table>\n"
      ],
      "text/latex": [
       "A data.frame: 5 × 5\n",
       "\\begin{tabular}{lllll}\n",
       " costs & train\\_acc & test\\_acc & gamma & coef\\\\\n",
       " <dbl> & <dbl> & <dbl> & <dbl> & <dbl>\\\\\n",
       "\\hline\n",
       "\t 1e-03 & 0.5125 & 0.45 & 0.49 & 1\\\\\n",
       "\t 1e-01 & 0.5100 & 0.54 & 0.49 & 1\\\\\n",
       "\t 1e+00 & 0.4975 & 0.43 & 0.49 & 1\\\\\n",
       "\t 1e+01 & 0.4975 & 0.43 & 0.49 & 1\\\\\n",
       "\t 5e+01 & 0.4975 & 0.43 & 0.49 & 1\\\\\n",
       "\\end{tabular}\n"
      ],
      "text/markdown": [
       "\n",
       "A data.frame: 5 × 5\n",
       "\n",
       "| costs &lt;dbl&gt; | train_acc &lt;dbl&gt; | test_acc &lt;dbl&gt; | gamma &lt;dbl&gt; | coef &lt;dbl&gt; |\n",
       "|---|---|---|---|---|\n",
       "| 1e-03 | 0.5125 | 0.45 | 0.49 | 1 |\n",
       "| 1e-01 | 0.5100 | 0.54 | 0.49 | 1 |\n",
       "| 1e+00 | 0.4975 | 0.43 | 0.49 | 1 |\n",
       "| 1e+01 | 0.4975 | 0.43 | 0.49 | 1 |\n",
       "| 5e+01 | 0.4975 | 0.43 | 0.49 | 1 |\n",
       "\n"
      ],
      "text/plain": [
       "  costs train_acc test_acc gamma coef\n",
       "1 1e-03 0.5125    0.45     0.49  1   \n",
       "2 1e-01 0.5100    0.54     0.49  1   \n",
       "3 1e+00 0.4975    0.43     0.49  1   \n",
       "4 1e+01 0.4975    0.43     0.49  1   \n",
       "5 5e+01 0.4975    0.43     0.49  1   "
      ]
     },
     "metadata": {},
     "output_type": "display_data"
    }
   ],
   "source": [
    "costs <- c(0.001, 0.1, 1, 10, 50)\n",
    "gamma <- c(0.16, 0.16, 0.16, 0.16, 0.16)\n",
    "coef <- c(0, 0, 0, 0, 0)\n",
    "train_acc <- rep(0, length(costs))\n",
    "test_acc <- rep(0, length(costs))\n",
    "\n",
    "for (i in 1:length(costs)) {\n",
    "    model1 <- svm(Preferred ~ artistPop + trackPop + pref_dist6, data=df_train, kernel='sigmoid', cost=costs[i], gamma=0.16, coef0=0)\n",
    "    train_tbl <- table(df_train$Preferred, predict(model1))\n",
    "    test_tbl <- table(df_test$Preferred, predict(model1, newdata=df_test))\n",
    "    \n",
    "    train_acc[i] <- sum(diag(train_tbl))/sum(train_tbl)\n",
    "    test_acc[i] <- sum(diag(test_tbl))/sum(test_tbl)\n",
    "}\n",
    "\n",
    "data.frame(costs, train_acc, test_acc, gamma, coef)\n",
    "\n",
    "gamma <- c(0.16, 0.16, 0.16, 0.16, 0.16)\n",
    "coef <- c(0.5, 0.5, 0.5, 0.5, 0.5)\n",
    "train_acc <- rep(0, length(costs))\n",
    "test_acc <- rep(0, length(costs))\n",
    "\n",
    "for (i in 1:length(costs)) {\n",
    "    model1 <- svm(Preferred ~ artistPop + trackPop + pref_dist6, data=df_train, kernel='sigmoid', cost=costs[i], gamma=0.16, coef0=0.5)\n",
    "    train_tbl <- table(df_train$Preferred, predict(model1))\n",
    "    test_tbl <- table(df_test$Preferred, predict(model1, newdata=df_test))\n",
    "    \n",
    "    train_acc[i] <- sum(diag(train_tbl))/sum(train_tbl)\n",
    "    test_acc[i] <- sum(diag(test_tbl))/sum(test_tbl)\n",
    "}\n",
    "\n",
    "data.frame(costs, train_acc, test_acc, gamma, coef)\n",
    "\n",
    "gamma <- c(0.16, 0.16, 0.16, 0.16, 0.16)\n",
    "coef <- c(1, 1, 1, 1, 1)\n",
    "train_acc <- rep(0, length(costs))\n",
    "test_acc <- rep(0, length(costs))\n",
    "\n",
    "for (i in 1:length(costs)) {\n",
    "    model1 <- svm(Preferred ~ artistPop + trackPop + pref_dist6, data=df_train, kernel='sigmoid', cost=costs[i], gamma=0.16, coef0=1)\n",
    "    train_tbl <- table(df_train$Preferred, predict(model1))\n",
    "    test_tbl <- table(df_test$Preferred, predict(model1, newdata=df_test))\n",
    "    \n",
    "    train_acc[i] <- sum(diag(train_tbl))/sum(train_tbl)\n",
    "    test_acc[i] <- sum(diag(test_tbl))/sum(test_tbl)\n",
    "}\n",
    "\n",
    "data.frame(costs, train_acc, test_acc, gamma, coef)\n",
    "\n",
    "########################################################################################################################\n",
    "\n",
    "gamma <- c(0.33, 0.33, 0.33, 0.33, 0.33)\n",
    "coef <- c(0, 0, 0, 0, 0)\n",
    "train_acc <- rep(0, length(costs))\n",
    "test_acc <- rep(0, length(costs))\n",
    "\n",
    "for (i in 1:length(costs)) {\n",
    "    model1 <- svm(Preferred ~ artistPop + trackPop + pref_dist6, data=df_train, kernel='sigmoid', cost=costs[i], gamma=0.33, coef0=0)\n",
    "    train_tbl <- table(df_train$Preferred, predict(model1))\n",
    "    test_tbl <- table(df_test$Preferred, predict(model1, newdata=df_test))\n",
    "    \n",
    "    train_acc[i] <- sum(diag(train_tbl))/sum(train_tbl)\n",
    "    test_acc[i] <- sum(diag(test_tbl))/sum(test_tbl)\n",
    "}\n",
    "\n",
    "data.frame(costs, train_acc, test_acc, gamma, coef)\n",
    "\n",
    "gamma <- c(0.33, 0.33, 0.33, 0.33, 0.33)\n",
    "coef <- c(0.5, 0.5, 0.5, 0.5, 0.5)\n",
    "train_acc <- rep(0, length(costs))\n",
    "test_acc <- rep(0, length(costs))\n",
    "\n",
    "for (i in 1:length(costs)) {\n",
    "    model1 <- svm(Preferred ~ artistPop + trackPop + pref_dist6, data=df_train, kernel='sigmoid', cost=costs[i], gamma=0.33, coef0=0.5)\n",
    "    train_tbl <- table(df_train$Preferred, predict(model1))\n",
    "    test_tbl <- table(df_test$Preferred, predict(model1, newdata=df_test))\n",
    "    \n",
    "    train_acc[i] <- sum(diag(train_tbl))/sum(train_tbl)\n",
    "    test_acc[i] <- sum(diag(test_tbl))/sum(test_tbl)\n",
    "}\n",
    "\n",
    "data.frame(costs, train_acc, test_acc, gamma, coef)\n",
    "\n",
    "gamma <- c(0.33, 0.33, 0.33, 0.33, 0.33)\n",
    "coef <- c(1, 1, 1, 1, 1)\n",
    "train_acc <- rep(0, length(costs))\n",
    "test_acc <- rep(0, length(costs))\n",
    "\n",
    "for (i in 1:length(costs)) {\n",
    "    model1 <- svm(Preferred ~ artistPop + trackPop + pref_dist6, data=df_train, kernel='sigmoid', cost=costs[i], gamma=0.33, coef0=1)\n",
    "    train_tbl <- table(df_train$Preferred, predict(model1))\n",
    "    test_tbl <- table(df_test$Preferred, predict(model1, newdata=df_test))\n",
    "    \n",
    "    train_acc[i] <- sum(diag(train_tbl))/sum(train_tbl)\n",
    "    test_acc[i] <- sum(diag(test_tbl))/sum(test_tbl)\n",
    "}\n",
    "\n",
    "data.frame(costs, train_acc, test_acc, gamma, coef)\n",
    "\n",
    "########################################################################################\n",
    "\n",
    "gamma <- c(0.49, 0.49, 0.49, 0.49, 0.49)\n",
    "coef <- c(0, 0, 0, 0, 0)\n",
    "train_acc <- rep(0, length(costs))\n",
    "test_acc <- rep(0, length(costs))\n",
    "\n",
    "for (i in 1:length(costs)) {\n",
    "    model1 <- svm(Preferred ~ artistPop + trackPop + pref_dist6, data=df_train, kernel='sigmoid', cost=costs[i], gamma=0.49, coef0=0)\n",
    "    train_tbl <- table(df_train$Preferred, predict(model1))\n",
    "    test_tbl <- table(df_test$Preferred, predict(model1, newdata=df_test))\n",
    "    \n",
    "    train_acc[i] <- sum(diag(train_tbl))/sum(train_tbl)\n",
    "    test_acc[i] <- sum(diag(test_tbl))/sum(test_tbl)\n",
    "}\n",
    "\n",
    "data.frame(costs, train_acc, test_acc, gamma, coef)\n",
    "\n",
    "gamma <- c(0.49, 0.49, 0.49, 0.49, 0.49)\n",
    "coef <- c(0.5, 0.5, 0.5, 0.5, 0.5)\n",
    "train_acc <- rep(0, length(costs))\n",
    "test_acc <- rep(0, length(costs))\n",
    "\n",
    "for (i in 1:length(costs)) {\n",
    "    model1 <- svm(Preferred ~ artistPop + trackPop + pref_dist6, data=df_train, kernel='sigmoid', cost=costs[i], gamma=0.49, coef0=0.5)\n",
    "    train_tbl <- table(df_train$Preferred, predict(model1))\n",
    "    test_tbl <- table(df_test$Preferred, predict(model1, newdata=df_test))\n",
    "    \n",
    "    train_acc[i] <- sum(diag(train_tbl))/sum(train_tbl)\n",
    "    test_acc[i] <- sum(diag(test_tbl))/sum(test_tbl)\n",
    "}\n",
    "\n",
    "data.frame(costs, train_acc, test_acc, gamma, coef)\n",
    "\n",
    "gamma <- c(0.49, 0.49, 0.49, 0.49, 0.49)\n",
    "coef <- c(1, 1, 1, 1, 1)\n",
    "train_acc <- rep(0, length(costs))\n",
    "test_acc <- rep(0, length(costs))\n",
    "\n",
    "for (i in 1:length(costs)) {\n",
    "    model1 <- svm(Preferred ~ artistPop + trackPop + pref_dist6, data=df_train, kernel='sigmoid', cost=costs[i], gamma=0.49, coef0=1)\n",
    "    train_tbl <- table(df_train$Preferred, predict(model1))\n",
    "    test_tbl <- table(df_test$Preferred, predict(model1, newdata=df_test))\n",
    "    \n",
    "    train_acc[i] <- sum(diag(train_tbl))/sum(train_tbl)\n",
    "    test_acc[i] <- sum(diag(test_tbl))/sum(test_tbl)\n",
    "}\n",
    "\n",
    "data.frame(costs, train_acc, test_acc, gamma, coef)"
   ]
  },
  {
   "cell_type": "markdown",
   "id": "b04899b0",
   "metadata": {},
   "source": [
    "Model: Preferred ~ artistPop + trackPop + pref_dist6 + pref_dist3"
   ]
  },
  {
   "cell_type": "code",
   "execution_count": 68,
   "id": "d867c7be",
   "metadata": {},
   "outputs": [
    {
     "data": {
      "text/html": [
       "<table class=\"dataframe\">\n",
       "<caption>A data.frame: 5 × 5</caption>\n",
       "<thead>\n",
       "\t<tr><th scope=col>costs</th><th scope=col>train_acc</th><th scope=col>test_acc</th><th scope=col>gamma</th><th scope=col>coef</th></tr>\n",
       "\t<tr><th scope=col>&lt;dbl&gt;</th><th scope=col>&lt;dbl&gt;</th><th scope=col>&lt;dbl&gt;</th><th scope=col>&lt;dbl&gt;</th><th scope=col>&lt;dbl&gt;</th></tr>\n",
       "</thead>\n",
       "<tbody>\n",
       "\t<tr><td>1e-03</td><td>0.5125</td><td>0.45</td><td>0.16</td><td>0</td></tr>\n",
       "\t<tr><td>1e-01</td><td>0.5425</td><td>0.48</td><td>0.16</td><td>0</td></tr>\n",
       "\t<tr><td>1e+00</td><td>0.4950</td><td>0.50</td><td>0.16</td><td>0</td></tr>\n",
       "\t<tr><td>1e+01</td><td>0.4775</td><td>0.48</td><td>0.16</td><td>0</td></tr>\n",
       "\t<tr><td>5e+01</td><td>0.4800</td><td>0.46</td><td>0.16</td><td>0</td></tr>\n",
       "</tbody>\n",
       "</table>\n"
      ],
      "text/latex": [
       "A data.frame: 5 × 5\n",
       "\\begin{tabular}{lllll}\n",
       " costs & train\\_acc & test\\_acc & gamma & coef\\\\\n",
       " <dbl> & <dbl> & <dbl> & <dbl> & <dbl>\\\\\n",
       "\\hline\n",
       "\t 1e-03 & 0.5125 & 0.45 & 0.16 & 0\\\\\n",
       "\t 1e-01 & 0.5425 & 0.48 & 0.16 & 0\\\\\n",
       "\t 1e+00 & 0.4950 & 0.50 & 0.16 & 0\\\\\n",
       "\t 1e+01 & 0.4775 & 0.48 & 0.16 & 0\\\\\n",
       "\t 5e+01 & 0.4800 & 0.46 & 0.16 & 0\\\\\n",
       "\\end{tabular}\n"
      ],
      "text/markdown": [
       "\n",
       "A data.frame: 5 × 5\n",
       "\n",
       "| costs &lt;dbl&gt; | train_acc &lt;dbl&gt; | test_acc &lt;dbl&gt; | gamma &lt;dbl&gt; | coef &lt;dbl&gt; |\n",
       "|---|---|---|---|---|\n",
       "| 1e-03 | 0.5125 | 0.45 | 0.16 | 0 |\n",
       "| 1e-01 | 0.5425 | 0.48 | 0.16 | 0 |\n",
       "| 1e+00 | 0.4950 | 0.50 | 0.16 | 0 |\n",
       "| 1e+01 | 0.4775 | 0.48 | 0.16 | 0 |\n",
       "| 5e+01 | 0.4800 | 0.46 | 0.16 | 0 |\n",
       "\n"
      ],
      "text/plain": [
       "  costs train_acc test_acc gamma coef\n",
       "1 1e-03 0.5125    0.45     0.16  0   \n",
       "2 1e-01 0.5425    0.48     0.16  0   \n",
       "3 1e+00 0.4950    0.50     0.16  0   \n",
       "4 1e+01 0.4775    0.48     0.16  0   \n",
       "5 5e+01 0.4800    0.46     0.16  0   "
      ]
     },
     "metadata": {},
     "output_type": "display_data"
    },
    {
     "data": {
      "text/html": [
       "<table class=\"dataframe\">\n",
       "<caption>A data.frame: 5 × 5</caption>\n",
       "<thead>\n",
       "\t<tr><th scope=col>costs</th><th scope=col>train_acc</th><th scope=col>test_acc</th><th scope=col>gamma</th><th scope=col>coef</th></tr>\n",
       "\t<tr><th scope=col>&lt;dbl&gt;</th><th scope=col>&lt;dbl&gt;</th><th scope=col>&lt;dbl&gt;</th><th scope=col>&lt;dbl&gt;</th><th scope=col>&lt;dbl&gt;</th></tr>\n",
       "</thead>\n",
       "<tbody>\n",
       "\t<tr><td>1e-03</td><td>0.5125</td><td>0.45</td><td>0.16</td><td>0.5</td></tr>\n",
       "\t<tr><td>1e-01</td><td>0.5225</td><td>0.47</td><td>0.16</td><td>0.5</td></tr>\n",
       "\t<tr><td>1e+00</td><td>0.5225</td><td>0.57</td><td>0.16</td><td>0.5</td></tr>\n",
       "\t<tr><td>1e+01</td><td>0.5150</td><td>0.56</td><td>0.16</td><td>0.5</td></tr>\n",
       "\t<tr><td>5e+01</td><td>0.5150</td><td>0.56</td><td>0.16</td><td>0.5</td></tr>\n",
       "</tbody>\n",
       "</table>\n"
      ],
      "text/latex": [
       "A data.frame: 5 × 5\n",
       "\\begin{tabular}{lllll}\n",
       " costs & train\\_acc & test\\_acc & gamma & coef\\\\\n",
       " <dbl> & <dbl> & <dbl> & <dbl> & <dbl>\\\\\n",
       "\\hline\n",
       "\t 1e-03 & 0.5125 & 0.45 & 0.16 & 0.5\\\\\n",
       "\t 1e-01 & 0.5225 & 0.47 & 0.16 & 0.5\\\\\n",
       "\t 1e+00 & 0.5225 & 0.57 & 0.16 & 0.5\\\\\n",
       "\t 1e+01 & 0.5150 & 0.56 & 0.16 & 0.5\\\\\n",
       "\t 5e+01 & 0.5150 & 0.56 & 0.16 & 0.5\\\\\n",
       "\\end{tabular}\n"
      ],
      "text/markdown": [
       "\n",
       "A data.frame: 5 × 5\n",
       "\n",
       "| costs &lt;dbl&gt; | train_acc &lt;dbl&gt; | test_acc &lt;dbl&gt; | gamma &lt;dbl&gt; | coef &lt;dbl&gt; |\n",
       "|---|---|---|---|---|\n",
       "| 1e-03 | 0.5125 | 0.45 | 0.16 | 0.5 |\n",
       "| 1e-01 | 0.5225 | 0.47 | 0.16 | 0.5 |\n",
       "| 1e+00 | 0.5225 | 0.57 | 0.16 | 0.5 |\n",
       "| 1e+01 | 0.5150 | 0.56 | 0.16 | 0.5 |\n",
       "| 5e+01 | 0.5150 | 0.56 | 0.16 | 0.5 |\n",
       "\n"
      ],
      "text/plain": [
       "  costs train_acc test_acc gamma coef\n",
       "1 1e-03 0.5125    0.45     0.16  0.5 \n",
       "2 1e-01 0.5225    0.47     0.16  0.5 \n",
       "3 1e+00 0.5225    0.57     0.16  0.5 \n",
       "4 1e+01 0.5150    0.56     0.16  0.5 \n",
       "5 5e+01 0.5150    0.56     0.16  0.5 "
      ]
     },
     "metadata": {},
     "output_type": "display_data"
    },
    {
     "data": {
      "text/html": [
       "<table class=\"dataframe\">\n",
       "<caption>A data.frame: 5 × 5</caption>\n",
       "<thead>\n",
       "\t<tr><th scope=col>costs</th><th scope=col>train_acc</th><th scope=col>test_acc</th><th scope=col>gamma</th><th scope=col>coef</th></tr>\n",
       "\t<tr><th scope=col>&lt;dbl&gt;</th><th scope=col>&lt;dbl&gt;</th><th scope=col>&lt;dbl&gt;</th><th scope=col>&lt;dbl&gt;</th><th scope=col>&lt;dbl&gt;</th></tr>\n",
       "</thead>\n",
       "<tbody>\n",
       "\t<tr><td>1e-03</td><td>0.5125</td><td>0.45</td><td>0.16</td><td>1</td></tr>\n",
       "\t<tr><td>1e-01</td><td>0.5150</td><td>0.45</td><td>0.16</td><td>1</td></tr>\n",
       "\t<tr><td>1e+00</td><td>0.5250</td><td>0.58</td><td>0.16</td><td>1</td></tr>\n",
       "\t<tr><td>1e+01</td><td>0.5100</td><td>0.57</td><td>0.16</td><td>1</td></tr>\n",
       "\t<tr><td>5e+01</td><td>0.5100</td><td>0.57</td><td>0.16</td><td>1</td></tr>\n",
       "</tbody>\n",
       "</table>\n"
      ],
      "text/latex": [
       "A data.frame: 5 × 5\n",
       "\\begin{tabular}{lllll}\n",
       " costs & train\\_acc & test\\_acc & gamma & coef\\\\\n",
       " <dbl> & <dbl> & <dbl> & <dbl> & <dbl>\\\\\n",
       "\\hline\n",
       "\t 1e-03 & 0.5125 & 0.45 & 0.16 & 1\\\\\n",
       "\t 1e-01 & 0.5150 & 0.45 & 0.16 & 1\\\\\n",
       "\t 1e+00 & 0.5250 & 0.58 & 0.16 & 1\\\\\n",
       "\t 1e+01 & 0.5100 & 0.57 & 0.16 & 1\\\\\n",
       "\t 5e+01 & 0.5100 & 0.57 & 0.16 & 1\\\\\n",
       "\\end{tabular}\n"
      ],
      "text/markdown": [
       "\n",
       "A data.frame: 5 × 5\n",
       "\n",
       "| costs &lt;dbl&gt; | train_acc &lt;dbl&gt; | test_acc &lt;dbl&gt; | gamma &lt;dbl&gt; | coef &lt;dbl&gt; |\n",
       "|---|---|---|---|---|\n",
       "| 1e-03 | 0.5125 | 0.45 | 0.16 | 1 |\n",
       "| 1e-01 | 0.5150 | 0.45 | 0.16 | 1 |\n",
       "| 1e+00 | 0.5250 | 0.58 | 0.16 | 1 |\n",
       "| 1e+01 | 0.5100 | 0.57 | 0.16 | 1 |\n",
       "| 5e+01 | 0.5100 | 0.57 | 0.16 | 1 |\n",
       "\n"
      ],
      "text/plain": [
       "  costs train_acc test_acc gamma coef\n",
       "1 1e-03 0.5125    0.45     0.16  1   \n",
       "2 1e-01 0.5150    0.45     0.16  1   \n",
       "3 1e+00 0.5250    0.58     0.16  1   \n",
       "4 1e+01 0.5100    0.57     0.16  1   \n",
       "5 5e+01 0.5100    0.57     0.16  1   "
      ]
     },
     "metadata": {},
     "output_type": "display_data"
    },
    {
     "data": {
      "text/html": [
       "<table class=\"dataframe\">\n",
       "<caption>A data.frame: 5 × 5</caption>\n",
       "<thead>\n",
       "\t<tr><th scope=col>costs</th><th scope=col>train_acc</th><th scope=col>test_acc</th><th scope=col>gamma</th><th scope=col>coef</th></tr>\n",
       "\t<tr><th scope=col>&lt;dbl&gt;</th><th scope=col>&lt;dbl&gt;</th><th scope=col>&lt;dbl&gt;</th><th scope=col>&lt;dbl&gt;</th><th scope=col>&lt;dbl&gt;</th></tr>\n",
       "</thead>\n",
       "<tbody>\n",
       "\t<tr><td>1e-03</td><td>0.5125</td><td>0.45</td><td>0.33</td><td>0</td></tr>\n",
       "\t<tr><td>1e-01</td><td>0.5025</td><td>0.53</td><td>0.33</td><td>0</td></tr>\n",
       "\t<tr><td>1e+00</td><td>0.4800</td><td>0.56</td><td>0.33</td><td>0</td></tr>\n",
       "\t<tr><td>1e+01</td><td>0.4825</td><td>0.57</td><td>0.33</td><td>0</td></tr>\n",
       "\t<tr><td>5e+01</td><td>0.4875</td><td>0.56</td><td>0.33</td><td>0</td></tr>\n",
       "</tbody>\n",
       "</table>\n"
      ],
      "text/latex": [
       "A data.frame: 5 × 5\n",
       "\\begin{tabular}{lllll}\n",
       " costs & train\\_acc & test\\_acc & gamma & coef\\\\\n",
       " <dbl> & <dbl> & <dbl> & <dbl> & <dbl>\\\\\n",
       "\\hline\n",
       "\t 1e-03 & 0.5125 & 0.45 & 0.33 & 0\\\\\n",
       "\t 1e-01 & 0.5025 & 0.53 & 0.33 & 0\\\\\n",
       "\t 1e+00 & 0.4800 & 0.56 & 0.33 & 0\\\\\n",
       "\t 1e+01 & 0.4825 & 0.57 & 0.33 & 0\\\\\n",
       "\t 5e+01 & 0.4875 & 0.56 & 0.33 & 0\\\\\n",
       "\\end{tabular}\n"
      ],
      "text/markdown": [
       "\n",
       "A data.frame: 5 × 5\n",
       "\n",
       "| costs &lt;dbl&gt; | train_acc &lt;dbl&gt; | test_acc &lt;dbl&gt; | gamma &lt;dbl&gt; | coef &lt;dbl&gt; |\n",
       "|---|---|---|---|---|\n",
       "| 1e-03 | 0.5125 | 0.45 | 0.33 | 0 |\n",
       "| 1e-01 | 0.5025 | 0.53 | 0.33 | 0 |\n",
       "| 1e+00 | 0.4800 | 0.56 | 0.33 | 0 |\n",
       "| 1e+01 | 0.4825 | 0.57 | 0.33 | 0 |\n",
       "| 5e+01 | 0.4875 | 0.56 | 0.33 | 0 |\n",
       "\n"
      ],
      "text/plain": [
       "  costs train_acc test_acc gamma coef\n",
       "1 1e-03 0.5125    0.45     0.33  0   \n",
       "2 1e-01 0.5025    0.53     0.33  0   \n",
       "3 1e+00 0.4800    0.56     0.33  0   \n",
       "4 1e+01 0.4825    0.57     0.33  0   \n",
       "5 5e+01 0.4875    0.56     0.33  0   "
      ]
     },
     "metadata": {},
     "output_type": "display_data"
    },
    {
     "data": {
      "text/html": [
       "<table class=\"dataframe\">\n",
       "<caption>A data.frame: 5 × 5</caption>\n",
       "<thead>\n",
       "\t<tr><th scope=col>costs</th><th scope=col>train_acc</th><th scope=col>test_acc</th><th scope=col>gamma</th><th scope=col>coef</th></tr>\n",
       "\t<tr><th scope=col>&lt;dbl&gt;</th><th scope=col>&lt;dbl&gt;</th><th scope=col>&lt;dbl&gt;</th><th scope=col>&lt;dbl&gt;</th><th scope=col>&lt;dbl&gt;</th></tr>\n",
       "</thead>\n",
       "<tbody>\n",
       "\t<tr><td>1e-03</td><td>0.5125</td><td>0.45</td><td>0.33</td><td>0.5</td></tr>\n",
       "\t<tr><td>1e-01</td><td>0.5125</td><td>0.53</td><td>0.33</td><td>0.5</td></tr>\n",
       "\t<tr><td>1e+00</td><td>0.5125</td><td>0.57</td><td>0.33</td><td>0.5</td></tr>\n",
       "\t<tr><td>1e+01</td><td>0.5025</td><td>0.57</td><td>0.33</td><td>0.5</td></tr>\n",
       "\t<tr><td>5e+01</td><td>0.5025</td><td>0.57</td><td>0.33</td><td>0.5</td></tr>\n",
       "</tbody>\n",
       "</table>\n"
      ],
      "text/latex": [
       "A data.frame: 5 × 5\n",
       "\\begin{tabular}{lllll}\n",
       " costs & train\\_acc & test\\_acc & gamma & coef\\\\\n",
       " <dbl> & <dbl> & <dbl> & <dbl> & <dbl>\\\\\n",
       "\\hline\n",
       "\t 1e-03 & 0.5125 & 0.45 & 0.33 & 0.5\\\\\n",
       "\t 1e-01 & 0.5125 & 0.53 & 0.33 & 0.5\\\\\n",
       "\t 1e+00 & 0.5125 & 0.57 & 0.33 & 0.5\\\\\n",
       "\t 1e+01 & 0.5025 & 0.57 & 0.33 & 0.5\\\\\n",
       "\t 5e+01 & 0.5025 & 0.57 & 0.33 & 0.5\\\\\n",
       "\\end{tabular}\n"
      ],
      "text/markdown": [
       "\n",
       "A data.frame: 5 × 5\n",
       "\n",
       "| costs &lt;dbl&gt; | train_acc &lt;dbl&gt; | test_acc &lt;dbl&gt; | gamma &lt;dbl&gt; | coef &lt;dbl&gt; |\n",
       "|---|---|---|---|---|\n",
       "| 1e-03 | 0.5125 | 0.45 | 0.33 | 0.5 |\n",
       "| 1e-01 | 0.5125 | 0.53 | 0.33 | 0.5 |\n",
       "| 1e+00 | 0.5125 | 0.57 | 0.33 | 0.5 |\n",
       "| 1e+01 | 0.5025 | 0.57 | 0.33 | 0.5 |\n",
       "| 5e+01 | 0.5025 | 0.57 | 0.33 | 0.5 |\n",
       "\n"
      ],
      "text/plain": [
       "  costs train_acc test_acc gamma coef\n",
       "1 1e-03 0.5125    0.45     0.33  0.5 \n",
       "2 1e-01 0.5125    0.53     0.33  0.5 \n",
       "3 1e+00 0.5125    0.57     0.33  0.5 \n",
       "4 1e+01 0.5025    0.57     0.33  0.5 \n",
       "5 5e+01 0.5025    0.57     0.33  0.5 "
      ]
     },
     "metadata": {},
     "output_type": "display_data"
    },
    {
     "data": {
      "text/html": [
       "<table class=\"dataframe\">\n",
       "<caption>A data.frame: 5 × 5</caption>\n",
       "<thead>\n",
       "\t<tr><th scope=col>costs</th><th scope=col>train_acc</th><th scope=col>test_acc</th><th scope=col>gamma</th><th scope=col>coef</th></tr>\n",
       "\t<tr><th scope=col>&lt;dbl&gt;</th><th scope=col>&lt;dbl&gt;</th><th scope=col>&lt;dbl&gt;</th><th scope=col>&lt;dbl&gt;</th><th scope=col>&lt;dbl&gt;</th></tr>\n",
       "</thead>\n",
       "<tbody>\n",
       "\t<tr><td>1e-03</td><td>0.5125</td><td>0.45</td><td>0.33</td><td>1</td></tr>\n",
       "\t<tr><td>1e-01</td><td>0.5050</td><td>0.52</td><td>0.33</td><td>1</td></tr>\n",
       "\t<tr><td>1e+00</td><td>0.5000</td><td>0.44</td><td>0.33</td><td>1</td></tr>\n",
       "\t<tr><td>1e+01</td><td>0.4975</td><td>0.43</td><td>0.33</td><td>1</td></tr>\n",
       "\t<tr><td>5e+01</td><td>0.4975</td><td>0.43</td><td>0.33</td><td>1</td></tr>\n",
       "</tbody>\n",
       "</table>\n"
      ],
      "text/latex": [
       "A data.frame: 5 × 5\n",
       "\\begin{tabular}{lllll}\n",
       " costs & train\\_acc & test\\_acc & gamma & coef\\\\\n",
       " <dbl> & <dbl> & <dbl> & <dbl> & <dbl>\\\\\n",
       "\\hline\n",
       "\t 1e-03 & 0.5125 & 0.45 & 0.33 & 1\\\\\n",
       "\t 1e-01 & 0.5050 & 0.52 & 0.33 & 1\\\\\n",
       "\t 1e+00 & 0.5000 & 0.44 & 0.33 & 1\\\\\n",
       "\t 1e+01 & 0.4975 & 0.43 & 0.33 & 1\\\\\n",
       "\t 5e+01 & 0.4975 & 0.43 & 0.33 & 1\\\\\n",
       "\\end{tabular}\n"
      ],
      "text/markdown": [
       "\n",
       "A data.frame: 5 × 5\n",
       "\n",
       "| costs &lt;dbl&gt; | train_acc &lt;dbl&gt; | test_acc &lt;dbl&gt; | gamma &lt;dbl&gt; | coef &lt;dbl&gt; |\n",
       "|---|---|---|---|---|\n",
       "| 1e-03 | 0.5125 | 0.45 | 0.33 | 1 |\n",
       "| 1e-01 | 0.5050 | 0.52 | 0.33 | 1 |\n",
       "| 1e+00 | 0.5000 | 0.44 | 0.33 | 1 |\n",
       "| 1e+01 | 0.4975 | 0.43 | 0.33 | 1 |\n",
       "| 5e+01 | 0.4975 | 0.43 | 0.33 | 1 |\n",
       "\n"
      ],
      "text/plain": [
       "  costs train_acc test_acc gamma coef\n",
       "1 1e-03 0.5125    0.45     0.33  1   \n",
       "2 1e-01 0.5050    0.52     0.33  1   \n",
       "3 1e+00 0.5000    0.44     0.33  1   \n",
       "4 1e+01 0.4975    0.43     0.33  1   \n",
       "5 5e+01 0.4975    0.43     0.33  1   "
      ]
     },
     "metadata": {},
     "output_type": "display_data"
    },
    {
     "data": {
      "text/html": [
       "<table class=\"dataframe\">\n",
       "<caption>A data.frame: 5 × 5</caption>\n",
       "<thead>\n",
       "\t<tr><th scope=col>costs</th><th scope=col>train_acc</th><th scope=col>test_acc</th><th scope=col>gamma</th><th scope=col>coef</th></tr>\n",
       "\t<tr><th scope=col>&lt;dbl&gt;</th><th scope=col>&lt;dbl&gt;</th><th scope=col>&lt;dbl&gt;</th><th scope=col>&lt;dbl&gt;</th><th scope=col>&lt;dbl&gt;</th></tr>\n",
       "</thead>\n",
       "<tbody>\n",
       "\t<tr><td>1e-03</td><td>0.5125</td><td>0.45</td><td>0.49</td><td>0</td></tr>\n",
       "\t<tr><td>1e-01</td><td>0.5075</td><td>0.53</td><td>0.49</td><td>0</td></tr>\n",
       "\t<tr><td>1e+00</td><td>0.4750</td><td>0.56</td><td>0.49</td><td>0</td></tr>\n",
       "\t<tr><td>1e+01</td><td>0.4950</td><td>0.56</td><td>0.49</td><td>0</td></tr>\n",
       "\t<tr><td>5e+01</td><td>0.4900</td><td>0.57</td><td>0.49</td><td>0</td></tr>\n",
       "</tbody>\n",
       "</table>\n"
      ],
      "text/latex": [
       "A data.frame: 5 × 5\n",
       "\\begin{tabular}{lllll}\n",
       " costs & train\\_acc & test\\_acc & gamma & coef\\\\\n",
       " <dbl> & <dbl> & <dbl> & <dbl> & <dbl>\\\\\n",
       "\\hline\n",
       "\t 1e-03 & 0.5125 & 0.45 & 0.49 & 0\\\\\n",
       "\t 1e-01 & 0.5075 & 0.53 & 0.49 & 0\\\\\n",
       "\t 1e+00 & 0.4750 & 0.56 & 0.49 & 0\\\\\n",
       "\t 1e+01 & 0.4950 & 0.56 & 0.49 & 0\\\\\n",
       "\t 5e+01 & 0.4900 & 0.57 & 0.49 & 0\\\\\n",
       "\\end{tabular}\n"
      ],
      "text/markdown": [
       "\n",
       "A data.frame: 5 × 5\n",
       "\n",
       "| costs &lt;dbl&gt; | train_acc &lt;dbl&gt; | test_acc &lt;dbl&gt; | gamma &lt;dbl&gt; | coef &lt;dbl&gt; |\n",
       "|---|---|---|---|---|\n",
       "| 1e-03 | 0.5125 | 0.45 | 0.49 | 0 |\n",
       "| 1e-01 | 0.5075 | 0.53 | 0.49 | 0 |\n",
       "| 1e+00 | 0.4750 | 0.56 | 0.49 | 0 |\n",
       "| 1e+01 | 0.4950 | 0.56 | 0.49 | 0 |\n",
       "| 5e+01 | 0.4900 | 0.57 | 0.49 | 0 |\n",
       "\n"
      ],
      "text/plain": [
       "  costs train_acc test_acc gamma coef\n",
       "1 1e-03 0.5125    0.45     0.49  0   \n",
       "2 1e-01 0.5075    0.53     0.49  0   \n",
       "3 1e+00 0.4750    0.56     0.49  0   \n",
       "4 1e+01 0.4950    0.56     0.49  0   \n",
       "5 5e+01 0.4900    0.57     0.49  0   "
      ]
     },
     "metadata": {},
     "output_type": "display_data"
    },
    {
     "data": {
      "text/html": [
       "<table class=\"dataframe\">\n",
       "<caption>A data.frame: 5 × 5</caption>\n",
       "<thead>\n",
       "\t<tr><th scope=col>costs</th><th scope=col>train_acc</th><th scope=col>test_acc</th><th scope=col>gamma</th><th scope=col>coef</th></tr>\n",
       "\t<tr><th scope=col>&lt;dbl&gt;</th><th scope=col>&lt;dbl&gt;</th><th scope=col>&lt;dbl&gt;</th><th scope=col>&lt;dbl&gt;</th><th scope=col>&lt;dbl&gt;</th></tr>\n",
       "</thead>\n",
       "<tbody>\n",
       "\t<tr><td>1e-03</td><td>0.5125</td><td>0.45</td><td>0.49</td><td>0.5</td></tr>\n",
       "\t<tr><td>1e-01</td><td>0.5100</td><td>0.52</td><td>0.49</td><td>0.5</td></tr>\n",
       "\t<tr><td>1e+00</td><td>0.5225</td><td>0.53</td><td>0.49</td><td>0.5</td></tr>\n",
       "\t<tr><td>1e+01</td><td>0.5175</td><td>0.53</td><td>0.49</td><td>0.5</td></tr>\n",
       "\t<tr><td>5e+01</td><td>0.5150</td><td>0.53</td><td>0.49</td><td>0.5</td></tr>\n",
       "</tbody>\n",
       "</table>\n"
      ],
      "text/latex": [
       "A data.frame: 5 × 5\n",
       "\\begin{tabular}{lllll}\n",
       " costs & train\\_acc & test\\_acc & gamma & coef\\\\\n",
       " <dbl> & <dbl> & <dbl> & <dbl> & <dbl>\\\\\n",
       "\\hline\n",
       "\t 1e-03 & 0.5125 & 0.45 & 0.49 & 0.5\\\\\n",
       "\t 1e-01 & 0.5100 & 0.52 & 0.49 & 0.5\\\\\n",
       "\t 1e+00 & 0.5225 & 0.53 & 0.49 & 0.5\\\\\n",
       "\t 1e+01 & 0.5175 & 0.53 & 0.49 & 0.5\\\\\n",
       "\t 5e+01 & 0.5150 & 0.53 & 0.49 & 0.5\\\\\n",
       "\\end{tabular}\n"
      ],
      "text/markdown": [
       "\n",
       "A data.frame: 5 × 5\n",
       "\n",
       "| costs &lt;dbl&gt; | train_acc &lt;dbl&gt; | test_acc &lt;dbl&gt; | gamma &lt;dbl&gt; | coef &lt;dbl&gt; |\n",
       "|---|---|---|---|---|\n",
       "| 1e-03 | 0.5125 | 0.45 | 0.49 | 0.5 |\n",
       "| 1e-01 | 0.5100 | 0.52 | 0.49 | 0.5 |\n",
       "| 1e+00 | 0.5225 | 0.53 | 0.49 | 0.5 |\n",
       "| 1e+01 | 0.5175 | 0.53 | 0.49 | 0.5 |\n",
       "| 5e+01 | 0.5150 | 0.53 | 0.49 | 0.5 |\n",
       "\n"
      ],
      "text/plain": [
       "  costs train_acc test_acc gamma coef\n",
       "1 1e-03 0.5125    0.45     0.49  0.5 \n",
       "2 1e-01 0.5100    0.52     0.49  0.5 \n",
       "3 1e+00 0.5225    0.53     0.49  0.5 \n",
       "4 1e+01 0.5175    0.53     0.49  0.5 \n",
       "5 5e+01 0.5150    0.53     0.49  0.5 "
      ]
     },
     "metadata": {},
     "output_type": "display_data"
    },
    {
     "data": {
      "text/html": [
       "<table class=\"dataframe\">\n",
       "<caption>A data.frame: 5 × 5</caption>\n",
       "<thead>\n",
       "\t<tr><th scope=col>costs</th><th scope=col>train_acc</th><th scope=col>test_acc</th><th scope=col>gamma</th><th scope=col>coef</th></tr>\n",
       "\t<tr><th scope=col>&lt;dbl&gt;</th><th scope=col>&lt;dbl&gt;</th><th scope=col>&lt;dbl&gt;</th><th scope=col>&lt;dbl&gt;</th><th scope=col>&lt;dbl&gt;</th></tr>\n",
       "</thead>\n",
       "<tbody>\n",
       "\t<tr><td>1e-03</td><td>0.5125</td><td>0.45</td><td>0.49</td><td>1</td></tr>\n",
       "\t<tr><td>1e-01</td><td>0.5200</td><td>0.49</td><td>0.49</td><td>1</td></tr>\n",
       "\t<tr><td>1e+00</td><td>0.4950</td><td>0.44</td><td>0.49</td><td>1</td></tr>\n",
       "\t<tr><td>1e+01</td><td>0.4950</td><td>0.42</td><td>0.49</td><td>1</td></tr>\n",
       "\t<tr><td>5e+01</td><td>0.4950</td><td>0.42</td><td>0.49</td><td>1</td></tr>\n",
       "</tbody>\n",
       "</table>\n"
      ],
      "text/latex": [
       "A data.frame: 5 × 5\n",
       "\\begin{tabular}{lllll}\n",
       " costs & train\\_acc & test\\_acc & gamma & coef\\\\\n",
       " <dbl> & <dbl> & <dbl> & <dbl> & <dbl>\\\\\n",
       "\\hline\n",
       "\t 1e-03 & 0.5125 & 0.45 & 0.49 & 1\\\\\n",
       "\t 1e-01 & 0.5200 & 0.49 & 0.49 & 1\\\\\n",
       "\t 1e+00 & 0.4950 & 0.44 & 0.49 & 1\\\\\n",
       "\t 1e+01 & 0.4950 & 0.42 & 0.49 & 1\\\\\n",
       "\t 5e+01 & 0.4950 & 0.42 & 0.49 & 1\\\\\n",
       "\\end{tabular}\n"
      ],
      "text/markdown": [
       "\n",
       "A data.frame: 5 × 5\n",
       "\n",
       "| costs &lt;dbl&gt; | train_acc &lt;dbl&gt; | test_acc &lt;dbl&gt; | gamma &lt;dbl&gt; | coef &lt;dbl&gt; |\n",
       "|---|---|---|---|---|\n",
       "| 1e-03 | 0.5125 | 0.45 | 0.49 | 1 |\n",
       "| 1e-01 | 0.5200 | 0.49 | 0.49 | 1 |\n",
       "| 1e+00 | 0.4950 | 0.44 | 0.49 | 1 |\n",
       "| 1e+01 | 0.4950 | 0.42 | 0.49 | 1 |\n",
       "| 5e+01 | 0.4950 | 0.42 | 0.49 | 1 |\n",
       "\n"
      ],
      "text/plain": [
       "  costs train_acc test_acc gamma coef\n",
       "1 1e-03 0.5125    0.45     0.49  1   \n",
       "2 1e-01 0.5200    0.49     0.49  1   \n",
       "3 1e+00 0.4950    0.44     0.49  1   \n",
       "4 1e+01 0.4950    0.42     0.49  1   \n",
       "5 5e+01 0.4950    0.42     0.49  1   "
      ]
     },
     "metadata": {},
     "output_type": "display_data"
    }
   ],
   "source": [
    "costs <- c(0.001, 0.1, 1, 10, 50)\n",
    "gamma <- c(0.16, 0.16, 0.16, 0.16, 0.16)\n",
    "coef <- c(0, 0, 0, 0, 0)\n",
    "train_acc <- rep(0, length(costs))\n",
    "test_acc <- rep(0, length(costs))\n",
    "\n",
    "for (i in 1:length(costs)) {\n",
    "    model1 <- svm(Preferred ~ artistPop + trackPop + pref_dist3, data=df_train, kernel='sigmoid', cost=costs[i], gamma=0.16, coef0=0)\n",
    "    train_tbl <- table(df_train$Preferred, predict(model1))\n",
    "    test_tbl <- table(df_test$Preferred, predict(model1, newdata=df_test))\n",
    "    \n",
    "    train_acc[i] <- sum(diag(train_tbl))/sum(train_tbl)\n",
    "    test_acc[i] <- sum(diag(test_tbl))/sum(test_tbl)\n",
    "}\n",
    "\n",
    "data.frame(costs, train_acc, test_acc, gamma, coef)\n",
    "\n",
    "gamma <- c(0.16, 0.16, 0.16, 0.16, 0.16)\n",
    "coef <- c(0.5, 0.5, 0.5, 0.5, 0.5)\n",
    "train_acc <- rep(0, length(costs))\n",
    "test_acc <- rep(0, length(costs))\n",
    "\n",
    "for (i in 1:length(costs)) {\n",
    "    model1 <- svm(Preferred ~ artistPop + trackPop + pref_dist3, data=df_train, kernel='sigmoid', cost=costs[i], gamma=0.16, coef0=0.5)\n",
    "    train_tbl <- table(df_train$Preferred, predict(model1))\n",
    "    test_tbl <- table(df_test$Preferred, predict(model1, newdata=df_test))\n",
    "    \n",
    "    train_acc[i] <- sum(diag(train_tbl))/sum(train_tbl)\n",
    "    test_acc[i] <- sum(diag(test_tbl))/sum(test_tbl)\n",
    "}\n",
    "\n",
    "data.frame(costs, train_acc, test_acc, gamma, coef)\n",
    "\n",
    "gamma <- c(0.16, 0.16, 0.16, 0.16, 0.16)\n",
    "coef <- c(1, 1, 1, 1, 1)\n",
    "train_acc <- rep(0, length(costs))\n",
    "test_acc <- rep(0, length(costs))\n",
    "\n",
    "for (i in 1:length(costs)) {\n",
    "    model1 <- svm(Preferred ~ artistPop + trackPop + pref_dist3, data=df_train, kernel='sigmoid', cost=costs[i], gamma=0.16, coef0=1)\n",
    "    train_tbl <- table(df_train$Preferred, predict(model1))\n",
    "    test_tbl <- table(df_test$Preferred, predict(model1, newdata=df_test))\n",
    "    \n",
    "    train_acc[i] <- sum(diag(train_tbl))/sum(train_tbl)\n",
    "    test_acc[i] <- sum(diag(test_tbl))/sum(test_tbl)\n",
    "}\n",
    "\n",
    "data.frame(costs, train_acc, test_acc, gamma, coef)\n",
    "\n",
    "########################################################################################################################\n",
    "\n",
    "gamma <- c(0.33, 0.33, 0.33, 0.33, 0.33)\n",
    "coef <- c(0, 0, 0, 0, 0)\n",
    "train_acc <- rep(0, length(costs))\n",
    "test_acc <- rep(0, length(costs))\n",
    "\n",
    "for (i in 1:length(costs)) {\n",
    "    model1 <- svm(Preferred ~ artistPop + trackPop + pref_dist3, data=df_train, kernel='sigmoid', cost=costs[i], gamma=0.33, coef0=0)\n",
    "    train_tbl <- table(df_train$Preferred, predict(model1))\n",
    "    test_tbl <- table(df_test$Preferred, predict(model1, newdata=df_test))\n",
    "    \n",
    "    train_acc[i] <- sum(diag(train_tbl))/sum(train_tbl)\n",
    "    test_acc[i] <- sum(diag(test_tbl))/sum(test_tbl)\n",
    "}\n",
    "\n",
    "data.frame(costs, train_acc, test_acc, gamma, coef)\n",
    "\n",
    "gamma <- c(0.33, 0.33, 0.33, 0.33, 0.33)\n",
    "coef <- c(0.5, 0.5, 0.5, 0.5, 0.5)\n",
    "train_acc <- rep(0, length(costs))\n",
    "test_acc <- rep(0, length(costs))\n",
    "\n",
    "for (i in 1:length(costs)) {\n",
    "    model1 <- svm(Preferred ~ artistPop + trackPop + pref_dist3, data=df_train, kernel='sigmoid', cost=costs[i], gamma=0.33, coef0=0.5)\n",
    "    train_tbl <- table(df_train$Preferred, predict(model1))\n",
    "    test_tbl <- table(df_test$Preferred, predict(model1, newdata=df_test))\n",
    "    \n",
    "    train_acc[i] <- sum(diag(train_tbl))/sum(train_tbl)\n",
    "    test_acc[i] <- sum(diag(test_tbl))/sum(test_tbl)\n",
    "}\n",
    "\n",
    "data.frame(costs, train_acc, test_acc, gamma, coef)\n",
    "\n",
    "gamma <- c(0.33, 0.33, 0.33, 0.33, 0.33)\n",
    "coef <- c(1, 1, 1, 1, 1)\n",
    "train_acc <- rep(0, length(costs))\n",
    "test_acc <- rep(0, length(costs))\n",
    "\n",
    "for (i in 1:length(costs)) {\n",
    "    model1 <- svm(Preferred ~ artistPop + trackPop + pref_dist3, data=df_train, kernel='sigmoid', cost=costs[i], gamma=0.33, coef0=1)\n",
    "    train_tbl <- table(df_train$Preferred, predict(model1))\n",
    "    test_tbl <- table(df_test$Preferred, predict(model1, newdata=df_test))\n",
    "    \n",
    "    train_acc[i] <- sum(diag(train_tbl))/sum(train_tbl)\n",
    "    test_acc[i] <- sum(diag(test_tbl))/sum(test_tbl)\n",
    "}\n",
    "\n",
    "data.frame(costs, train_acc, test_acc, gamma, coef)\n",
    "\n",
    "########################################################################################\n",
    "\n",
    "gamma <- c(0.49, 0.49, 0.49, 0.49, 0.49)\n",
    "coef <- c(0, 0, 0, 0, 0)\n",
    "train_acc <- rep(0, length(costs))\n",
    "test_acc <- rep(0, length(costs))\n",
    "\n",
    "for (i in 1:length(costs)) {\n",
    "    model1 <- svm(Preferred ~ artistPop + trackPop + pref_dist3, data=df_train, kernel='sigmoid', cost=costs[i], gamma=0.49, coef0=0)\n",
    "    train_tbl <- table(df_train$Preferred, predict(model1))\n",
    "    test_tbl <- table(df_test$Preferred, predict(model1, newdata=df_test))\n",
    "    \n",
    "    train_acc[i] <- sum(diag(train_tbl))/sum(train_tbl)\n",
    "    test_acc[i] <- sum(diag(test_tbl))/sum(test_tbl)\n",
    "}\n",
    "\n",
    "data.frame(costs, train_acc, test_acc, gamma, coef)\n",
    "\n",
    "gamma <- c(0.49, 0.49, 0.49, 0.49, 0.49)\n",
    "coef <- c(0.5, 0.5, 0.5, 0.5, 0.5)\n",
    "train_acc <- rep(0, length(costs))\n",
    "test_acc <- rep(0, length(costs))\n",
    "\n",
    "for (i in 1:length(costs)) {\n",
    "    model1 <- svm(Preferred ~ artistPop + trackPop + pref_dist3, data=df_train, kernel='sigmoid', cost=costs[i], gamma=0.49, coef0=0.5)\n",
    "    train_tbl <- table(df_train$Preferred, predict(model1))\n",
    "    test_tbl <- table(df_test$Preferred, predict(model1, newdata=df_test))\n",
    "    \n",
    "    train_acc[i] <- sum(diag(train_tbl))/sum(train_tbl)\n",
    "    test_acc[i] <- sum(diag(test_tbl))/sum(test_tbl)\n",
    "}\n",
    "\n",
    "data.frame(costs, train_acc, test_acc, gamma, coef)\n",
    "\n",
    "gamma <- c(0.49, 0.49, 0.49, 0.49, 0.49)\n",
    "coef <- c(1, 1, 1, 1, 1)\n",
    "train_acc <- rep(0, length(costs))\n",
    "test_acc <- rep(0, length(costs))\n",
    "\n",
    "for (i in 1:length(costs)) {\n",
    "    model1 <- svm(Preferred ~ artistPop + trackPop + pref_dist3, data=df_train, kernel='sigmoid', cost=costs[i], gamma=0.49, coef0=1)\n",
    "    train_tbl <- table(df_train$Preferred, predict(model1))\n",
    "    test_tbl <- table(df_test$Preferred, predict(model1, newdata=df_test))\n",
    "    \n",
    "    train_acc[i] <- sum(diag(train_tbl))/sum(train_tbl)\n",
    "    test_acc[i] <- sum(diag(test_tbl))/sum(test_tbl)\n",
    "}\n",
    "\n",
    "data.frame(costs, train_acc, test_acc, gamma, coef)"
   ]
  },
  {
   "cell_type": "markdown",
   "id": "74851279",
   "metadata": {},
   "source": [
    "Model: Preferred ~ artistPop + trackPop + pref_dist6 + pref_dist3"
   ]
  },
  {
   "cell_type": "code",
   "execution_count": 69,
   "id": "f393e575",
   "metadata": {},
   "outputs": [
    {
     "data": {
      "text/html": [
       "<table class=\"dataframe\">\n",
       "<caption>A data.frame: 5 × 5</caption>\n",
       "<thead>\n",
       "\t<tr><th scope=col>costs</th><th scope=col>train_acc</th><th scope=col>test_acc</th><th scope=col>gamma</th><th scope=col>coef</th></tr>\n",
       "\t<tr><th scope=col>&lt;dbl&gt;</th><th scope=col>&lt;dbl&gt;</th><th scope=col>&lt;dbl&gt;</th><th scope=col>&lt;dbl&gt;</th><th scope=col>&lt;dbl&gt;</th></tr>\n",
       "</thead>\n",
       "<tbody>\n",
       "\t<tr><td>1e-03</td><td>0.5125</td><td>0.45</td><td>0.16</td><td>0</td></tr>\n",
       "\t<tr><td>1e-01</td><td>0.5425</td><td>0.50</td><td>0.16</td><td>0</td></tr>\n",
       "\t<tr><td>1e+00</td><td>0.5300</td><td>0.46</td><td>0.16</td><td>0</td></tr>\n",
       "\t<tr><td>1e+01</td><td>0.5050</td><td>0.53</td><td>0.16</td><td>0</td></tr>\n",
       "\t<tr><td>5e+01</td><td>0.5275</td><td>0.48</td><td>0.16</td><td>0</td></tr>\n",
       "</tbody>\n",
       "</table>\n"
      ],
      "text/latex": [
       "A data.frame: 5 × 5\n",
       "\\begin{tabular}{lllll}\n",
       " costs & train\\_acc & test\\_acc & gamma & coef\\\\\n",
       " <dbl> & <dbl> & <dbl> & <dbl> & <dbl>\\\\\n",
       "\\hline\n",
       "\t 1e-03 & 0.5125 & 0.45 & 0.16 & 0\\\\\n",
       "\t 1e-01 & 0.5425 & 0.50 & 0.16 & 0\\\\\n",
       "\t 1e+00 & 0.5300 & 0.46 & 0.16 & 0\\\\\n",
       "\t 1e+01 & 0.5050 & 0.53 & 0.16 & 0\\\\\n",
       "\t 5e+01 & 0.5275 & 0.48 & 0.16 & 0\\\\\n",
       "\\end{tabular}\n"
      ],
      "text/markdown": [
       "\n",
       "A data.frame: 5 × 5\n",
       "\n",
       "| costs &lt;dbl&gt; | train_acc &lt;dbl&gt; | test_acc &lt;dbl&gt; | gamma &lt;dbl&gt; | coef &lt;dbl&gt; |\n",
       "|---|---|---|---|---|\n",
       "| 1e-03 | 0.5125 | 0.45 | 0.16 | 0 |\n",
       "| 1e-01 | 0.5425 | 0.50 | 0.16 | 0 |\n",
       "| 1e+00 | 0.5300 | 0.46 | 0.16 | 0 |\n",
       "| 1e+01 | 0.5050 | 0.53 | 0.16 | 0 |\n",
       "| 5e+01 | 0.5275 | 0.48 | 0.16 | 0 |\n",
       "\n"
      ],
      "text/plain": [
       "  costs train_acc test_acc gamma coef\n",
       "1 1e-03 0.5125    0.45     0.16  0   \n",
       "2 1e-01 0.5425    0.50     0.16  0   \n",
       "3 1e+00 0.5300    0.46     0.16  0   \n",
       "4 1e+01 0.5050    0.53     0.16  0   \n",
       "5 5e+01 0.5275    0.48     0.16  0   "
      ]
     },
     "metadata": {},
     "output_type": "display_data"
    },
    {
     "data": {
      "text/html": [
       "<table class=\"dataframe\">\n",
       "<caption>A data.frame: 5 × 5</caption>\n",
       "<thead>\n",
       "\t<tr><th scope=col>costs</th><th scope=col>train_acc</th><th scope=col>test_acc</th><th scope=col>gamma</th><th scope=col>coef</th></tr>\n",
       "\t<tr><th scope=col>&lt;dbl&gt;</th><th scope=col>&lt;dbl&gt;</th><th scope=col>&lt;dbl&gt;</th><th scope=col>&lt;dbl&gt;</th><th scope=col>&lt;dbl&gt;</th></tr>\n",
       "</thead>\n",
       "<tbody>\n",
       "\t<tr><td>1e-03</td><td>0.5125</td><td>0.45</td><td>0.16</td><td>0.5</td></tr>\n",
       "\t<tr><td>1e-01</td><td>0.5375</td><td>0.49</td><td>0.16</td><td>0.5</td></tr>\n",
       "\t<tr><td>1e+00</td><td>0.5275</td><td>0.59</td><td>0.16</td><td>0.5</td></tr>\n",
       "\t<tr><td>1e+01</td><td>0.5050</td><td>0.61</td><td>0.16</td><td>0.5</td></tr>\n",
       "\t<tr><td>5e+01</td><td>0.5175</td><td>0.59</td><td>0.16</td><td>0.5</td></tr>\n",
       "</tbody>\n",
       "</table>\n"
      ],
      "text/latex": [
       "A data.frame: 5 × 5\n",
       "\\begin{tabular}{lllll}\n",
       " costs & train\\_acc & test\\_acc & gamma & coef\\\\\n",
       " <dbl> & <dbl> & <dbl> & <dbl> & <dbl>\\\\\n",
       "\\hline\n",
       "\t 1e-03 & 0.5125 & 0.45 & 0.16 & 0.5\\\\\n",
       "\t 1e-01 & 0.5375 & 0.49 & 0.16 & 0.5\\\\\n",
       "\t 1e+00 & 0.5275 & 0.59 & 0.16 & 0.5\\\\\n",
       "\t 1e+01 & 0.5050 & 0.61 & 0.16 & 0.5\\\\\n",
       "\t 5e+01 & 0.5175 & 0.59 & 0.16 & 0.5\\\\\n",
       "\\end{tabular}\n"
      ],
      "text/markdown": [
       "\n",
       "A data.frame: 5 × 5\n",
       "\n",
       "| costs &lt;dbl&gt; | train_acc &lt;dbl&gt; | test_acc &lt;dbl&gt; | gamma &lt;dbl&gt; | coef &lt;dbl&gt; |\n",
       "|---|---|---|---|---|\n",
       "| 1e-03 | 0.5125 | 0.45 | 0.16 | 0.5 |\n",
       "| 1e-01 | 0.5375 | 0.49 | 0.16 | 0.5 |\n",
       "| 1e+00 | 0.5275 | 0.59 | 0.16 | 0.5 |\n",
       "| 1e+01 | 0.5050 | 0.61 | 0.16 | 0.5 |\n",
       "| 5e+01 | 0.5175 | 0.59 | 0.16 | 0.5 |\n",
       "\n"
      ],
      "text/plain": [
       "  costs train_acc test_acc gamma coef\n",
       "1 1e-03 0.5125    0.45     0.16  0.5 \n",
       "2 1e-01 0.5375    0.49     0.16  0.5 \n",
       "3 1e+00 0.5275    0.59     0.16  0.5 \n",
       "4 1e+01 0.5050    0.61     0.16  0.5 \n",
       "5 5e+01 0.5175    0.59     0.16  0.5 "
      ]
     },
     "metadata": {},
     "output_type": "display_data"
    },
    {
     "data": {
      "text/html": [
       "<table class=\"dataframe\">\n",
       "<caption>A data.frame: 5 × 5</caption>\n",
       "<thead>\n",
       "\t<tr><th scope=col>costs</th><th scope=col>train_acc</th><th scope=col>test_acc</th><th scope=col>gamma</th><th scope=col>coef</th></tr>\n",
       "\t<tr><th scope=col>&lt;dbl&gt;</th><th scope=col>&lt;dbl&gt;</th><th scope=col>&lt;dbl&gt;</th><th scope=col>&lt;dbl&gt;</th><th scope=col>&lt;dbl&gt;</th></tr>\n",
       "</thead>\n",
       "<tbody>\n",
       "\t<tr><td>1e-03</td><td>0.5125</td><td>0.45</td><td>0.16</td><td>1</td></tr>\n",
       "\t<tr><td>1e-01</td><td>0.5150</td><td>0.45</td><td>0.16</td><td>1</td></tr>\n",
       "\t<tr><td>1e+00</td><td>0.5300</td><td>0.58</td><td>0.16</td><td>1</td></tr>\n",
       "\t<tr><td>1e+01</td><td>0.5175</td><td>0.59</td><td>0.16</td><td>1</td></tr>\n",
       "\t<tr><td>5e+01</td><td>0.5150</td><td>0.58</td><td>0.16</td><td>1</td></tr>\n",
       "</tbody>\n",
       "</table>\n"
      ],
      "text/latex": [
       "A data.frame: 5 × 5\n",
       "\\begin{tabular}{lllll}\n",
       " costs & train\\_acc & test\\_acc & gamma & coef\\\\\n",
       " <dbl> & <dbl> & <dbl> & <dbl> & <dbl>\\\\\n",
       "\\hline\n",
       "\t 1e-03 & 0.5125 & 0.45 & 0.16 & 1\\\\\n",
       "\t 1e-01 & 0.5150 & 0.45 & 0.16 & 1\\\\\n",
       "\t 1e+00 & 0.5300 & 0.58 & 0.16 & 1\\\\\n",
       "\t 1e+01 & 0.5175 & 0.59 & 0.16 & 1\\\\\n",
       "\t 5e+01 & 0.5150 & 0.58 & 0.16 & 1\\\\\n",
       "\\end{tabular}\n"
      ],
      "text/markdown": [
       "\n",
       "A data.frame: 5 × 5\n",
       "\n",
       "| costs &lt;dbl&gt; | train_acc &lt;dbl&gt; | test_acc &lt;dbl&gt; | gamma &lt;dbl&gt; | coef &lt;dbl&gt; |\n",
       "|---|---|---|---|---|\n",
       "| 1e-03 | 0.5125 | 0.45 | 0.16 | 1 |\n",
       "| 1e-01 | 0.5150 | 0.45 | 0.16 | 1 |\n",
       "| 1e+00 | 0.5300 | 0.58 | 0.16 | 1 |\n",
       "| 1e+01 | 0.5175 | 0.59 | 0.16 | 1 |\n",
       "| 5e+01 | 0.5150 | 0.58 | 0.16 | 1 |\n",
       "\n"
      ],
      "text/plain": [
       "  costs train_acc test_acc gamma coef\n",
       "1 1e-03 0.5125    0.45     0.16  1   \n",
       "2 1e-01 0.5150    0.45     0.16  1   \n",
       "3 1e+00 0.5300    0.58     0.16  1   \n",
       "4 1e+01 0.5175    0.59     0.16  1   \n",
       "5 5e+01 0.5150    0.58     0.16  1   "
      ]
     },
     "metadata": {},
     "output_type": "display_data"
    },
    {
     "data": {
      "text/html": [
       "<table class=\"dataframe\">\n",
       "<caption>A data.frame: 5 × 5</caption>\n",
       "<thead>\n",
       "\t<tr><th scope=col>costs</th><th scope=col>train_acc</th><th scope=col>test_acc</th><th scope=col>gamma</th><th scope=col>coef</th></tr>\n",
       "\t<tr><th scope=col>&lt;dbl&gt;</th><th scope=col>&lt;dbl&gt;</th><th scope=col>&lt;dbl&gt;</th><th scope=col>&lt;dbl&gt;</th><th scope=col>&lt;dbl&gt;</th></tr>\n",
       "</thead>\n",
       "<tbody>\n",
       "\t<tr><td>1e-03</td><td>0.5125</td><td>0.45</td><td>0.33</td><td>0</td></tr>\n",
       "\t<tr><td>1e-01</td><td>0.5175</td><td>0.52</td><td>0.33</td><td>0</td></tr>\n",
       "\t<tr><td>1e+00</td><td>0.5200</td><td>0.53</td><td>0.33</td><td>0</td></tr>\n",
       "\t<tr><td>1e+01</td><td>0.5175</td><td>0.52</td><td>0.33</td><td>0</td></tr>\n",
       "\t<tr><td>5e+01</td><td>0.5200</td><td>0.52</td><td>0.33</td><td>0</td></tr>\n",
       "</tbody>\n",
       "</table>\n"
      ],
      "text/latex": [
       "A data.frame: 5 × 5\n",
       "\\begin{tabular}{lllll}\n",
       " costs & train\\_acc & test\\_acc & gamma & coef\\\\\n",
       " <dbl> & <dbl> & <dbl> & <dbl> & <dbl>\\\\\n",
       "\\hline\n",
       "\t 1e-03 & 0.5125 & 0.45 & 0.33 & 0\\\\\n",
       "\t 1e-01 & 0.5175 & 0.52 & 0.33 & 0\\\\\n",
       "\t 1e+00 & 0.5200 & 0.53 & 0.33 & 0\\\\\n",
       "\t 1e+01 & 0.5175 & 0.52 & 0.33 & 0\\\\\n",
       "\t 5e+01 & 0.5200 & 0.52 & 0.33 & 0\\\\\n",
       "\\end{tabular}\n"
      ],
      "text/markdown": [
       "\n",
       "A data.frame: 5 × 5\n",
       "\n",
       "| costs &lt;dbl&gt; | train_acc &lt;dbl&gt; | test_acc &lt;dbl&gt; | gamma &lt;dbl&gt; | coef &lt;dbl&gt; |\n",
       "|---|---|---|---|---|\n",
       "| 1e-03 | 0.5125 | 0.45 | 0.33 | 0 |\n",
       "| 1e-01 | 0.5175 | 0.52 | 0.33 | 0 |\n",
       "| 1e+00 | 0.5200 | 0.53 | 0.33 | 0 |\n",
       "| 1e+01 | 0.5175 | 0.52 | 0.33 | 0 |\n",
       "| 5e+01 | 0.5200 | 0.52 | 0.33 | 0 |\n",
       "\n"
      ],
      "text/plain": [
       "  costs train_acc test_acc gamma coef\n",
       "1 1e-03 0.5125    0.45     0.33  0   \n",
       "2 1e-01 0.5175    0.52     0.33  0   \n",
       "3 1e+00 0.5200    0.53     0.33  0   \n",
       "4 1e+01 0.5175    0.52     0.33  0   \n",
       "5 5e+01 0.5200    0.52     0.33  0   "
      ]
     },
     "metadata": {},
     "output_type": "display_data"
    },
    {
     "data": {
      "text/html": [
       "<table class=\"dataframe\">\n",
       "<caption>A data.frame: 5 × 5</caption>\n",
       "<thead>\n",
       "\t<tr><th scope=col>costs</th><th scope=col>train_acc</th><th scope=col>test_acc</th><th scope=col>gamma</th><th scope=col>coef</th></tr>\n",
       "\t<tr><th scope=col>&lt;dbl&gt;</th><th scope=col>&lt;dbl&gt;</th><th scope=col>&lt;dbl&gt;</th><th scope=col>&lt;dbl&gt;</th><th scope=col>&lt;dbl&gt;</th></tr>\n",
       "</thead>\n",
       "<tbody>\n",
       "\t<tr><td>1e-03</td><td>0.5125</td><td>0.45</td><td>0.33</td><td>0.5</td></tr>\n",
       "\t<tr><td>1e-01</td><td>0.5275</td><td>0.52</td><td>0.33</td><td>0.5</td></tr>\n",
       "\t<tr><td>1e+00</td><td>0.5050</td><td>0.41</td><td>0.33</td><td>0.5</td></tr>\n",
       "\t<tr><td>1e+01</td><td>0.5075</td><td>0.41</td><td>0.33</td><td>0.5</td></tr>\n",
       "\t<tr><td>5e+01</td><td>0.5075</td><td>0.41</td><td>0.33</td><td>0.5</td></tr>\n",
       "</tbody>\n",
       "</table>\n"
      ],
      "text/latex": [
       "A data.frame: 5 × 5\n",
       "\\begin{tabular}{lllll}\n",
       " costs & train\\_acc & test\\_acc & gamma & coef\\\\\n",
       " <dbl> & <dbl> & <dbl> & <dbl> & <dbl>\\\\\n",
       "\\hline\n",
       "\t 1e-03 & 0.5125 & 0.45 & 0.33 & 0.5\\\\\n",
       "\t 1e-01 & 0.5275 & 0.52 & 0.33 & 0.5\\\\\n",
       "\t 1e+00 & 0.5050 & 0.41 & 0.33 & 0.5\\\\\n",
       "\t 1e+01 & 0.5075 & 0.41 & 0.33 & 0.5\\\\\n",
       "\t 5e+01 & 0.5075 & 0.41 & 0.33 & 0.5\\\\\n",
       "\\end{tabular}\n"
      ],
      "text/markdown": [
       "\n",
       "A data.frame: 5 × 5\n",
       "\n",
       "| costs &lt;dbl&gt; | train_acc &lt;dbl&gt; | test_acc &lt;dbl&gt; | gamma &lt;dbl&gt; | coef &lt;dbl&gt; |\n",
       "|---|---|---|---|---|\n",
       "| 1e-03 | 0.5125 | 0.45 | 0.33 | 0.5 |\n",
       "| 1e-01 | 0.5275 | 0.52 | 0.33 | 0.5 |\n",
       "| 1e+00 | 0.5050 | 0.41 | 0.33 | 0.5 |\n",
       "| 1e+01 | 0.5075 | 0.41 | 0.33 | 0.5 |\n",
       "| 5e+01 | 0.5075 | 0.41 | 0.33 | 0.5 |\n",
       "\n"
      ],
      "text/plain": [
       "  costs train_acc test_acc gamma coef\n",
       "1 1e-03 0.5125    0.45     0.33  0.5 \n",
       "2 1e-01 0.5275    0.52     0.33  0.5 \n",
       "3 1e+00 0.5050    0.41     0.33  0.5 \n",
       "4 1e+01 0.5075    0.41     0.33  0.5 \n",
       "5 5e+01 0.5075    0.41     0.33  0.5 "
      ]
     },
     "metadata": {},
     "output_type": "display_data"
    },
    {
     "data": {
      "text/html": [
       "<table class=\"dataframe\">\n",
       "<caption>A data.frame: 5 × 5</caption>\n",
       "<thead>\n",
       "\t<tr><th scope=col>costs</th><th scope=col>train_acc</th><th scope=col>test_acc</th><th scope=col>gamma</th><th scope=col>coef</th></tr>\n",
       "\t<tr><th scope=col>&lt;dbl&gt;</th><th scope=col>&lt;dbl&gt;</th><th scope=col>&lt;dbl&gt;</th><th scope=col>&lt;dbl&gt;</th><th scope=col>&lt;dbl&gt;</th></tr>\n",
       "</thead>\n",
       "<tbody>\n",
       "\t<tr><td>1e-03</td><td>0.5125</td><td>0.45</td><td>0.33</td><td>1</td></tr>\n",
       "\t<tr><td>1e-01</td><td>0.5150</td><td>0.47</td><td>0.33</td><td>1</td></tr>\n",
       "\t<tr><td>1e+00</td><td>0.4925</td><td>0.44</td><td>0.33</td><td>1</td></tr>\n",
       "\t<tr><td>1e+01</td><td>0.4925</td><td>0.44</td><td>0.33</td><td>1</td></tr>\n",
       "\t<tr><td>5e+01</td><td>0.4950</td><td>0.44</td><td>0.33</td><td>1</td></tr>\n",
       "</tbody>\n",
       "</table>\n"
      ],
      "text/latex": [
       "A data.frame: 5 × 5\n",
       "\\begin{tabular}{lllll}\n",
       " costs & train\\_acc & test\\_acc & gamma & coef\\\\\n",
       " <dbl> & <dbl> & <dbl> & <dbl> & <dbl>\\\\\n",
       "\\hline\n",
       "\t 1e-03 & 0.5125 & 0.45 & 0.33 & 1\\\\\n",
       "\t 1e-01 & 0.5150 & 0.47 & 0.33 & 1\\\\\n",
       "\t 1e+00 & 0.4925 & 0.44 & 0.33 & 1\\\\\n",
       "\t 1e+01 & 0.4925 & 0.44 & 0.33 & 1\\\\\n",
       "\t 5e+01 & 0.4950 & 0.44 & 0.33 & 1\\\\\n",
       "\\end{tabular}\n"
      ],
      "text/markdown": [
       "\n",
       "A data.frame: 5 × 5\n",
       "\n",
       "| costs &lt;dbl&gt; | train_acc &lt;dbl&gt; | test_acc &lt;dbl&gt; | gamma &lt;dbl&gt; | coef &lt;dbl&gt; |\n",
       "|---|---|---|---|---|\n",
       "| 1e-03 | 0.5125 | 0.45 | 0.33 | 1 |\n",
       "| 1e-01 | 0.5150 | 0.47 | 0.33 | 1 |\n",
       "| 1e+00 | 0.4925 | 0.44 | 0.33 | 1 |\n",
       "| 1e+01 | 0.4925 | 0.44 | 0.33 | 1 |\n",
       "| 5e+01 | 0.4950 | 0.44 | 0.33 | 1 |\n",
       "\n"
      ],
      "text/plain": [
       "  costs train_acc test_acc gamma coef\n",
       "1 1e-03 0.5125    0.45     0.33  1   \n",
       "2 1e-01 0.5150    0.47     0.33  1   \n",
       "3 1e+00 0.4925    0.44     0.33  1   \n",
       "4 1e+01 0.4925    0.44     0.33  1   \n",
       "5 5e+01 0.4950    0.44     0.33  1   "
      ]
     },
     "metadata": {},
     "output_type": "display_data"
    },
    {
     "data": {
      "text/html": [
       "<table class=\"dataframe\">\n",
       "<caption>A data.frame: 5 × 5</caption>\n",
       "<thead>\n",
       "\t<tr><th scope=col>costs</th><th scope=col>train_acc</th><th scope=col>test_acc</th><th scope=col>gamma</th><th scope=col>coef</th></tr>\n",
       "\t<tr><th scope=col>&lt;dbl&gt;</th><th scope=col>&lt;dbl&gt;</th><th scope=col>&lt;dbl&gt;</th><th scope=col>&lt;dbl&gt;</th><th scope=col>&lt;dbl&gt;</th></tr>\n",
       "</thead>\n",
       "<tbody>\n",
       "\t<tr><td>1e-03</td><td>0.5125</td><td>0.45</td><td>0.49</td><td>0</td></tr>\n",
       "\t<tr><td>1e-01</td><td>0.5150</td><td>0.52</td><td>0.49</td><td>0</td></tr>\n",
       "\t<tr><td>1e+00</td><td>0.4675</td><td>0.51</td><td>0.49</td><td>0</td></tr>\n",
       "\t<tr><td>1e+01</td><td>0.5325</td><td>0.52</td><td>0.49</td><td>0</td></tr>\n",
       "\t<tr><td>5e+01</td><td>0.5250</td><td>0.50</td><td>0.49</td><td>0</td></tr>\n",
       "</tbody>\n",
       "</table>\n"
      ],
      "text/latex": [
       "A data.frame: 5 × 5\n",
       "\\begin{tabular}{lllll}\n",
       " costs & train\\_acc & test\\_acc & gamma & coef\\\\\n",
       " <dbl> & <dbl> & <dbl> & <dbl> & <dbl>\\\\\n",
       "\\hline\n",
       "\t 1e-03 & 0.5125 & 0.45 & 0.49 & 0\\\\\n",
       "\t 1e-01 & 0.5150 & 0.52 & 0.49 & 0\\\\\n",
       "\t 1e+00 & 0.4675 & 0.51 & 0.49 & 0\\\\\n",
       "\t 1e+01 & 0.5325 & 0.52 & 0.49 & 0\\\\\n",
       "\t 5e+01 & 0.5250 & 0.50 & 0.49 & 0\\\\\n",
       "\\end{tabular}\n"
      ],
      "text/markdown": [
       "\n",
       "A data.frame: 5 × 5\n",
       "\n",
       "| costs &lt;dbl&gt; | train_acc &lt;dbl&gt; | test_acc &lt;dbl&gt; | gamma &lt;dbl&gt; | coef &lt;dbl&gt; |\n",
       "|---|---|---|---|---|\n",
       "| 1e-03 | 0.5125 | 0.45 | 0.49 | 0 |\n",
       "| 1e-01 | 0.5150 | 0.52 | 0.49 | 0 |\n",
       "| 1e+00 | 0.4675 | 0.51 | 0.49 | 0 |\n",
       "| 1e+01 | 0.5325 | 0.52 | 0.49 | 0 |\n",
       "| 5e+01 | 0.5250 | 0.50 | 0.49 | 0 |\n",
       "\n"
      ],
      "text/plain": [
       "  costs train_acc test_acc gamma coef\n",
       "1 1e-03 0.5125    0.45     0.49  0   \n",
       "2 1e-01 0.5150    0.52     0.49  0   \n",
       "3 1e+00 0.4675    0.51     0.49  0   \n",
       "4 1e+01 0.5325    0.52     0.49  0   \n",
       "5 5e+01 0.5250    0.50     0.49  0   "
      ]
     },
     "metadata": {},
     "output_type": "display_data"
    },
    {
     "data": {
      "text/html": [
       "<table class=\"dataframe\">\n",
       "<caption>A data.frame: 5 × 5</caption>\n",
       "<thead>\n",
       "\t<tr><th scope=col>costs</th><th scope=col>train_acc</th><th scope=col>test_acc</th><th scope=col>gamma</th><th scope=col>coef</th></tr>\n",
       "\t<tr><th scope=col>&lt;dbl&gt;</th><th scope=col>&lt;dbl&gt;</th><th scope=col>&lt;dbl&gt;</th><th scope=col>&lt;dbl&gt;</th><th scope=col>&lt;dbl&gt;</th></tr>\n",
       "</thead>\n",
       "<tbody>\n",
       "\t<tr><td>1e-03</td><td>0.5125</td><td>0.45</td><td>0.49</td><td>0.5</td></tr>\n",
       "\t<tr><td>1e-01</td><td>0.4925</td><td>0.46</td><td>0.49</td><td>0.5</td></tr>\n",
       "\t<tr><td>1e+00</td><td>0.5050</td><td>0.40</td><td>0.49</td><td>0.5</td></tr>\n",
       "\t<tr><td>1e+01</td><td>0.5125</td><td>0.40</td><td>0.49</td><td>0.5</td></tr>\n",
       "\t<tr><td>5e+01</td><td>0.5100</td><td>0.40</td><td>0.49</td><td>0.5</td></tr>\n",
       "</tbody>\n",
       "</table>\n"
      ],
      "text/latex": [
       "A data.frame: 5 × 5\n",
       "\\begin{tabular}{lllll}\n",
       " costs & train\\_acc & test\\_acc & gamma & coef\\\\\n",
       " <dbl> & <dbl> & <dbl> & <dbl> & <dbl>\\\\\n",
       "\\hline\n",
       "\t 1e-03 & 0.5125 & 0.45 & 0.49 & 0.5\\\\\n",
       "\t 1e-01 & 0.4925 & 0.46 & 0.49 & 0.5\\\\\n",
       "\t 1e+00 & 0.5050 & 0.40 & 0.49 & 0.5\\\\\n",
       "\t 1e+01 & 0.5125 & 0.40 & 0.49 & 0.5\\\\\n",
       "\t 5e+01 & 0.5100 & 0.40 & 0.49 & 0.5\\\\\n",
       "\\end{tabular}\n"
      ],
      "text/markdown": [
       "\n",
       "A data.frame: 5 × 5\n",
       "\n",
       "| costs &lt;dbl&gt; | train_acc &lt;dbl&gt; | test_acc &lt;dbl&gt; | gamma &lt;dbl&gt; | coef &lt;dbl&gt; |\n",
       "|---|---|---|---|---|\n",
       "| 1e-03 | 0.5125 | 0.45 | 0.49 | 0.5 |\n",
       "| 1e-01 | 0.4925 | 0.46 | 0.49 | 0.5 |\n",
       "| 1e+00 | 0.5050 | 0.40 | 0.49 | 0.5 |\n",
       "| 1e+01 | 0.5125 | 0.40 | 0.49 | 0.5 |\n",
       "| 5e+01 | 0.5100 | 0.40 | 0.49 | 0.5 |\n",
       "\n"
      ],
      "text/plain": [
       "  costs train_acc test_acc gamma coef\n",
       "1 1e-03 0.5125    0.45     0.49  0.5 \n",
       "2 1e-01 0.4925    0.46     0.49  0.5 \n",
       "3 1e+00 0.5050    0.40     0.49  0.5 \n",
       "4 1e+01 0.5125    0.40     0.49  0.5 \n",
       "5 5e+01 0.5100    0.40     0.49  0.5 "
      ]
     },
     "metadata": {},
     "output_type": "display_data"
    },
    {
     "data": {
      "text/html": [
       "<table class=\"dataframe\">\n",
       "<caption>A data.frame: 5 × 5</caption>\n",
       "<thead>\n",
       "\t<tr><th scope=col>costs</th><th scope=col>train_acc</th><th scope=col>test_acc</th><th scope=col>gamma</th><th scope=col>coef</th></tr>\n",
       "\t<tr><th scope=col>&lt;dbl&gt;</th><th scope=col>&lt;dbl&gt;</th><th scope=col>&lt;dbl&gt;</th><th scope=col>&lt;dbl&gt;</th><th scope=col>&lt;dbl&gt;</th></tr>\n",
       "</thead>\n",
       "<tbody>\n",
       "\t<tr><td>1e-03</td><td>0.5125</td><td>0.45</td><td>0.49</td><td>1</td></tr>\n",
       "\t<tr><td>1e-01</td><td>0.4925</td><td>0.38</td><td>0.49</td><td>1</td></tr>\n",
       "\t<tr><td>1e+00</td><td>0.4900</td><td>0.41</td><td>0.49</td><td>1</td></tr>\n",
       "\t<tr><td>1e+01</td><td>0.4900</td><td>0.41</td><td>0.49</td><td>1</td></tr>\n",
       "\t<tr><td>5e+01</td><td>0.4900</td><td>0.41</td><td>0.49</td><td>1</td></tr>\n",
       "</tbody>\n",
       "</table>\n"
      ],
      "text/latex": [
       "A data.frame: 5 × 5\n",
       "\\begin{tabular}{lllll}\n",
       " costs & train\\_acc & test\\_acc & gamma & coef\\\\\n",
       " <dbl> & <dbl> & <dbl> & <dbl> & <dbl>\\\\\n",
       "\\hline\n",
       "\t 1e-03 & 0.5125 & 0.45 & 0.49 & 1\\\\\n",
       "\t 1e-01 & 0.4925 & 0.38 & 0.49 & 1\\\\\n",
       "\t 1e+00 & 0.4900 & 0.41 & 0.49 & 1\\\\\n",
       "\t 1e+01 & 0.4900 & 0.41 & 0.49 & 1\\\\\n",
       "\t 5e+01 & 0.4900 & 0.41 & 0.49 & 1\\\\\n",
       "\\end{tabular}\n"
      ],
      "text/markdown": [
       "\n",
       "A data.frame: 5 × 5\n",
       "\n",
       "| costs &lt;dbl&gt; | train_acc &lt;dbl&gt; | test_acc &lt;dbl&gt; | gamma &lt;dbl&gt; | coef &lt;dbl&gt; |\n",
       "|---|---|---|---|---|\n",
       "| 1e-03 | 0.5125 | 0.45 | 0.49 | 1 |\n",
       "| 1e-01 | 0.4925 | 0.38 | 0.49 | 1 |\n",
       "| 1e+00 | 0.4900 | 0.41 | 0.49 | 1 |\n",
       "| 1e+01 | 0.4900 | 0.41 | 0.49 | 1 |\n",
       "| 5e+01 | 0.4900 | 0.41 | 0.49 | 1 |\n",
       "\n"
      ],
      "text/plain": [
       "  costs train_acc test_acc gamma coef\n",
       "1 1e-03 0.5125    0.45     0.49  1   \n",
       "2 1e-01 0.4925    0.38     0.49  1   \n",
       "3 1e+00 0.4900    0.41     0.49  1   \n",
       "4 1e+01 0.4900    0.41     0.49  1   \n",
       "5 5e+01 0.4900    0.41     0.49  1   "
      ]
     },
     "metadata": {},
     "output_type": "display_data"
    }
   ],
   "source": [
    "costs <- c(0.001, 0.1, 1, 10, 50)\n",
    "gamma <- c(0.16, 0.16, 0.16, 0.16, 0.16)\n",
    "coef <- c(0, 0, 0, 0, 0)\n",
    "train_acc <- rep(0, length(costs))\n",
    "test_acc <- rep(0, length(costs))\n",
    "\n",
    "for (i in 1:length(costs)) {\n",
    "    model1 <- svm(Preferred ~ ., data=df_train, kernel='sigmoid', cost=costs[i], gamma=0.16, coef0=0)\n",
    "    train_tbl <- table(df_train$Preferred, predict(model1))\n",
    "    test_tbl <- table(df_test$Preferred, predict(model1, newdata=df_test))\n",
    "    \n",
    "    train_acc[i] <- sum(diag(train_tbl))/sum(train_tbl)\n",
    "    test_acc[i] <- sum(diag(test_tbl))/sum(test_tbl)\n",
    "}\n",
    "\n",
    "data.frame(costs, train_acc, test_acc, gamma, coef)\n",
    "\n",
    "gamma <- c(0.16, 0.16, 0.16, 0.16, 0.16)\n",
    "coef <- c(0.5, 0.5, 0.5, 0.5, 0.5)\n",
    "train_acc <- rep(0, length(costs))\n",
    "test_acc <- rep(0, length(costs))\n",
    "\n",
    "for (i in 1:length(costs)) {\n",
    "    model1 <- svm(Preferred ~ ., data=df_train, kernel='sigmoid', cost=costs[i], gamma=0.16, coef0=0.5)\n",
    "    train_tbl <- table(df_train$Preferred, predict(model1))\n",
    "    test_tbl <- table(df_test$Preferred, predict(model1, newdata=df_test))\n",
    "    \n",
    "    train_acc[i] <- sum(diag(train_tbl))/sum(train_tbl)\n",
    "    test_acc[i] <- sum(diag(test_tbl))/sum(test_tbl)\n",
    "}\n",
    "\n",
    "data.frame(costs, train_acc, test_acc, gamma, coef)\n",
    "\n",
    "gamma <- c(0.16, 0.16, 0.16, 0.16, 0.16)\n",
    "coef <- c(1, 1, 1, 1, 1)\n",
    "train_acc <- rep(0, length(costs))\n",
    "test_acc <- rep(0, length(costs))\n",
    "\n",
    "for (i in 1:length(costs)) {\n",
    "    model1 <- svm(Preferred ~ ., data=df_train, kernel='sigmoid', cost=costs[i], gamma=0.16, coef0=1)\n",
    "    train_tbl <- table(df_train$Preferred, predict(model1))\n",
    "    test_tbl <- table(df_test$Preferred, predict(model1, newdata=df_test))\n",
    "    \n",
    "    train_acc[i] <- sum(diag(train_tbl))/sum(train_tbl)\n",
    "    test_acc[i] <- sum(diag(test_tbl))/sum(test_tbl)\n",
    "}\n",
    "\n",
    "data.frame(costs, train_acc, test_acc, gamma, coef)\n",
    "\n",
    "########################################################################################################################\n",
    "\n",
    "gamma <- c(0.33, 0.33, 0.33, 0.33, 0.33)\n",
    "coef <- c(0, 0, 0, 0, 0)\n",
    "train_acc <- rep(0, length(costs))\n",
    "test_acc <- rep(0, length(costs))\n",
    "\n",
    "for (i in 1:length(costs)) {\n",
    "    model1 <- svm(Preferred ~ ., data=df_train, kernel='sigmoid', cost=costs[i], gamma=0.33, coef0=0)\n",
    "    train_tbl <- table(df_train$Preferred, predict(model1))\n",
    "    test_tbl <- table(df_test$Preferred, predict(model1, newdata=df_test))\n",
    "    \n",
    "    train_acc[i] <- sum(diag(train_tbl))/sum(train_tbl)\n",
    "    test_acc[i] <- sum(diag(test_tbl))/sum(test_tbl)\n",
    "}\n",
    "\n",
    "data.frame(costs, train_acc, test_acc, gamma, coef)\n",
    "\n",
    "gamma <- c(0.33, 0.33, 0.33, 0.33, 0.33)\n",
    "coef <- c(0.5, 0.5, 0.5, 0.5, 0.5)\n",
    "train_acc <- rep(0, length(costs))\n",
    "test_acc <- rep(0, length(costs))\n",
    "\n",
    "for (i in 1:length(costs)) {\n",
    "    model1 <- svm(Preferred ~ ., data=df_train, kernel='sigmoid', cost=costs[i], gamma=0.33, coef0=0.5)\n",
    "    train_tbl <- table(df_train$Preferred, predict(model1))\n",
    "    test_tbl <- table(df_test$Preferred, predict(model1, newdata=df_test))\n",
    "    \n",
    "    train_acc[i] <- sum(diag(train_tbl))/sum(train_tbl)\n",
    "    test_acc[i] <- sum(diag(test_tbl))/sum(test_tbl)\n",
    "}\n",
    "\n",
    "data.frame(costs, train_acc, test_acc, gamma, coef)\n",
    "\n",
    "gamma <- c(0.33, 0.33, 0.33, 0.33, 0.33)\n",
    "coef <- c(1, 1, 1, 1, 1)\n",
    "train_acc <- rep(0, length(costs))\n",
    "test_acc <- rep(0, length(costs))\n",
    "\n",
    "for (i in 1:length(costs)) {\n",
    "    model1 <- svm(Preferred ~ ., data=df_train, kernel='sigmoid', cost=costs[i], gamma=0.33, coef0=1)\n",
    "    train_tbl <- table(df_train$Preferred, predict(model1))\n",
    "    test_tbl <- table(df_test$Preferred, predict(model1, newdata=df_test))\n",
    "    \n",
    "    train_acc[i] <- sum(diag(train_tbl))/sum(train_tbl)\n",
    "    test_acc[i] <- sum(diag(test_tbl))/sum(test_tbl)\n",
    "}\n",
    "\n",
    "data.frame(costs, train_acc, test_acc, gamma, coef)\n",
    "\n",
    "########################################################################################\n",
    "\n",
    "gamma <- c(0.49, 0.49, 0.49, 0.49, 0.49)\n",
    "coef <- c(0, 0, 0, 0, 0)\n",
    "train_acc <- rep(0, length(costs))\n",
    "test_acc <- rep(0, length(costs))\n",
    "\n",
    "for (i in 1:length(costs)) {\n",
    "    model1 <- svm(Preferred ~ ., data=df_train, kernel='sigmoid', cost=costs[i], gamma=0.49, coef0=0)\n",
    "    train_tbl <- table(df_train$Preferred, predict(model1))\n",
    "    test_tbl <- table(df_test$Preferred, predict(model1, newdata=df_test))\n",
    "    \n",
    "    train_acc[i] <- sum(diag(train_tbl))/sum(train_tbl)\n",
    "    test_acc[i] <- sum(diag(test_tbl))/sum(test_tbl)\n",
    "}\n",
    "\n",
    "data.frame(costs, train_acc, test_acc, gamma, coef)\n",
    "\n",
    "gamma <- c(0.49, 0.49, 0.49, 0.49, 0.49)\n",
    "coef <- c(0.5, 0.5, 0.5, 0.5, 0.5)\n",
    "train_acc <- rep(0, length(costs))\n",
    "test_acc <- rep(0, length(costs))\n",
    "\n",
    "for (i in 1:length(costs)) {\n",
    "    model1 <- svm(Preferred ~ ., data=df_train, kernel='sigmoid', cost=costs[i], gamma=0.49, coef0=0.5)\n",
    "    train_tbl <- table(df_train$Preferred, predict(model1))\n",
    "    test_tbl <- table(df_test$Preferred, predict(model1, newdata=df_test))\n",
    "    \n",
    "    train_acc[i] <- sum(diag(train_tbl))/sum(train_tbl)\n",
    "    test_acc[i] <- sum(diag(test_tbl))/sum(test_tbl)\n",
    "}\n",
    "\n",
    "data.frame(costs, train_acc, test_acc, gamma, coef)\n",
    "\n",
    "gamma <- c(0.49, 0.49, 0.49, 0.49, 0.49)\n",
    "coef <- c(1, 1, 1, 1, 1)\n",
    "train_acc <- rep(0, length(costs))\n",
    "test_acc <- rep(0, length(costs))\n",
    "\n",
    "for (i in 1:length(costs)) {\n",
    "    model1 <- svm(Preferred ~ ., data=df_train, kernel='sigmoid', cost=costs[i], gamma=0.49, coef0=1)\n",
    "    train_tbl <- table(df_train$Preferred, predict(model1))\n",
    "    test_tbl <- table(df_test$Preferred, predict(model1, newdata=df_test))\n",
    "    \n",
    "    train_acc[i] <- sum(diag(train_tbl))/sum(train_tbl)\n",
    "    test_acc[i] <- sum(diag(test_tbl))/sum(test_tbl)\n",
    "}\n",
    "\n",
    "data.frame(costs, train_acc, test_acc, gamma, coef)"
   ]
  },
  {
   "cell_type": "code",
   "execution_count": 70,
   "id": "e3a7826d",
   "metadata": {},
   "outputs": [
    {
     "data": {
      "text/plain": [
       "   \n",
       "     0  1\n",
       "  0 28 17\n",
       "  1 22 33"
      ]
     },
     "metadata": {},
     "output_type": "display_data"
    },
    {
     "data": {
      "text/html": [
       "0.61"
      ],
      "text/latex": [
       "0.61"
      ],
      "text/markdown": [
       "0.61"
      ],
      "text/plain": [
       "[1] 0.61"
      ]
     },
     "metadata": {},
     "output_type": "display_data"
    }
   ],
   "source": [
    "sig_model <- svm(Preferred ~ artistPop + trackPop + pref_dist6, data=df_train, \n",
    "                 kernel='sigmoid', cost=1, gamma=0.16, coef0=1)\n",
    "test_tbl <- table(df_test$Preferred, predict(sig_model, newdata=df_test))\n",
    "test_tbl\n",
    "sum(diag(test_tbl))/sum(test_tbl)"
   ]
  },
  {
   "cell_type": "code",
   "execution_count": 71,
   "id": "2dd1b719",
   "metadata": {},
   "outputs": [
    {
     "data": {
      "text/plain": [
       "   \n",
       "     0  1\n",
       "  0 26 19\n",
       "  1 20 35"
      ]
     },
     "metadata": {},
     "output_type": "display_data"
    },
    {
     "data": {
      "text/html": [
       "0.61"
      ],
      "text/latex": [
       "0.61"
      ],
      "text/markdown": [
       "0.61"
      ],
      "text/plain": [
       "[1] 0.61"
      ]
     },
     "metadata": {},
     "output_type": "display_data"
    }
   ],
   "source": [
    "sig_model2 <- svm(Preferred ~ ., data=df_train, \n",
    "                 kernel='sigmoid', cost=10, gamma=0.16, coef0=0.5)\n",
    "test_tbl <- table(df_test$Preferred, predict(sig_model2, newdata=df_test))\n",
    "test_tbl\n",
    "sum(diag(test_tbl))/sum(test_tbl)"
   ]
  },
  {
   "cell_type": "code",
   "execution_count": 106,
   "id": "647bd4ea",
   "metadata": {},
   "outputs": [
    {
     "data": {
      "image/png": "[encoded data removed]",
      "text/plain": [
       "Plot with title \"SVM classification plot\""
      ]
     },
     "metadata": {
      "image/png": {
       "height": 420,
       "width": 420
      }
     },
     "output_type": "display_data"
    }
   ],
   "source": [
    "plot(sig_model2, data=df_test, pref_dist6 ~ pref_dist3, slice=list(artistPop=60, trackPop=80))"
   ]
  },
  {
   "cell_type": "code",
   "execution_count": null,
   "id": "411970bc",
   "metadata": {},
   "outputs": [],
   "source": []
  }
 ],
 "metadata": {
  "kernelspec": {
   "display_name": "R",
   "language": "R",
   "name": "ir"
  },
  "language_info": {
   "codemirror_mode": "r",
   "file_extension": ".r",
   "mimetype": "text/x-r-source",
   "name": "R",
   "pygments_lexer": "r",
   "version": "4.2.2"
  }
 },
 "nbformat": 4,
 "nbformat_minor": 5
}
